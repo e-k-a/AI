{
  "cells": [
    {
      "cell_type": "markdown",
      "metadata": {
        "id": "view-in-github",
        "colab_type": "text"
      },
      "source": [
        "<a href=\"https://colab.research.google.com/github/e-k-a/AI/blob/main/%D0%BB%D0%B0%D0%B11.ipynb\" target=\"_parent\"><img src=\"https://colab.research.google.com/assets/colab-badge.svg\" alt=\"Open In Colab\"/></a>"
      ]
    },
    {
      "cell_type": "markdown",
      "id": "a68bf520",
      "metadata": {
        "id": "a68bf520"
      },
      "source": [
        "4 вариант: x1 + 0,5x2 + 2"
      ]
    },
    {
      "cell_type": "code",
      "execution_count": null,
      "id": "cf938233",
      "metadata": {
        "id": "cf938233"
      },
      "outputs": [],
      "source": [
        "import random\n",
        "from keras.models import Sequential\n",
        "from keras.layers import Dense\n",
        "from keras.optimizers import Adam\n",
        "import keras\n",
        "import numpy as np\n",
        "import matplotlib.pyplot as plt\n"
      ]
    },
    {
      "cell_type": "code",
      "execution_count": null,
      "id": "ab8c4cca",
      "metadata": {
        "id": "ab8c4cca"
      },
      "outputs": [],
      "source": [
        "def generate(n=200):\n",
        "    point = []\n",
        "    for _ in range(n):\n",
        "        p1 = random.randint(-1000,1000)\n",
        "        p2 = random.randint(-1000,1000)\n",
        "        point.append([p1, p2])\n",
        "    return point"
      ]
    },
    {
      "cell_type": "code",
      "execution_count": null,
      "id": "7d5b6436",
      "metadata": {
        "id": "7d5b6436"
      },
      "outputs": [],
      "source": [
        "df_train = np.array(generate())\n",
        "df_train_ans = np.array([val[0]+0.5*val[1]+2 for val in df_train])\n",
        "df_test = np.array(generate(n=20))\n",
        "df_test_ans = np.array([val[0]+0.5*val[1]+2 for val in df_test])"
      ]
    },
    {
      "cell_type": "code",
      "execution_count": null,
      "id": "41418a39",
      "metadata": {
        "id": "41418a39"
      },
      "outputs": [],
      "source": [
        "def pred(df_train,df_train_ans, df_test):\n",
        "    model = Sequential()\n",
        "    model.add(Dense(units=1, input_shape=(2,), activation='linear'))\n",
        "    model.compile(loss='mean_squared_error', optimizer=Adam(learning_rate=0.1))\n",
        "    fit = model.fit(df_train, df_train_ans, epochs=500, verbose=False)\n",
        "    predict = model.predict(df_test)\n",
        "    return fit, predict, model.get_weights()"
      ]
    },
    {
      "cell_type": "code",
      "execution_count": null,
      "id": "2e0de42a",
      "metadata": {
        "id": "2e0de42a",
        "outputId": "637e79f2-26f7-4c9c-9127-63ef1548bb44",
        "colab": {
          "base_uri": "https://localhost:8080/"
        }
      },
      "outputs": [
        {
          "output_type": "stream",
          "name": "stdout",
          "text": [
            "1/1 [==============================] - 0s 104ms/step\n",
            "Полученные результаты: \n",
            "\n",
            "553.5 553.5\n",
            "238.5 238.5\n",
            "458.0 458.0\n",
            "252.5 252.5\n",
            "-353.0 -353.0\n",
            "-1011.5 -1011.5\n",
            "589.5 589.5\n",
            "-28.500006 -28.5\n",
            "-132.5 -132.5\n",
            "-318.5 -318.5\n",
            "722.0 722.0\n",
            "436.0 436.0\n",
            "-589.0 -589.0\n",
            "1197.5 1197.5\n",
            "-128.0 -128.0\n",
            "-839.0 -839.0\n",
            "-692.5 -692.5\n",
            "-969.5 -969.5\n",
            "-760.0 -760.0\n",
            "606.0 606.0\n"
          ]
        }
      ],
      "source": [
        "res = pred(df_train,df_train_ans, df_test)\n",
        "print('Полученные результаты: \\n')\n",
        "for i in range(20):\n",
        "  print(res[1][i][0],df_test_ans[i] )"
      ]
    },
    {
      "cell_type": "code",
      "execution_count": null,
      "id": "09b70713",
      "metadata": {
        "id": "09b70713",
        "outputId": "8e25aacd-0207-482d-933c-e3ea6b1dbc90",
        "colab": {
          "base_uri": "https://localhost:8080/"
        }
      },
      "outputs": [
        {
          "output_type": "execute_result",
          "data": {
            "text/plain": [
              "[array([[1. ],\n",
              "        [0.5]], dtype=float32),\n",
              " array([1.9999942], dtype=float32)]"
            ]
          },
          "metadata": {},
          "execution_count": 6
        }
      ],
      "source": [
        "res[2]"
      ]
    },
    {
      "cell_type": "code",
      "execution_count": null,
      "id": "c3c2ffdd",
      "metadata": {
        "id": "c3c2ffdd",
        "colab": {
          "base_uri": "https://localhost:8080/",
          "height": 430
        },
        "outputId": "34670079-32a8-45f3-da1a-d0560c128883"
      },
      "outputs": [
        {
          "output_type": "display_data",
          "data": {
            "text/plain": [
              "<Figure size 640x480 with 1 Axes>"
            ],
            "image/png": "[encoded data removed]"
          },
          "metadata": {}
        }
      ],
      "source": [
        "plt.plot(res[0].history['loss'])\n",
        "plt.grid(True)\n",
        "plt.show()"
      ]
    },
    {
      "cell_type": "code",
      "source": [],
      "metadata": {
        "id": "CBCJh-f9TN6N"
      },
      "id": "CBCJh-f9TN6N",
      "execution_count": null,
      "outputs": []
    }
  ],
  "metadata": {
    "kernelspec": {
      "display_name": "Python 3 (ipykernel)",
      "language": "python",
      "name": "python3"
    },
    "language_info": {
      "codemirror_mode": {
        "name": "ipython",
        "version": 3
      },
      "file_extension": ".py",
      "mimetype": "text/x-python",
      "name": "python",
      "nbconvert_exporter": "python",
      "pygments_lexer": "ipython3",
      "version": "3.10.13"
    },
    "colab": {
      "provenance": [],
      "include_colab_link": true
    }
  },
  "nbformat": 4,
  "nbformat_minor": 5
}