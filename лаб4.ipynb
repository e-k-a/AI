{
  "nbformat": 4,
  "nbformat_minor": 0,
  "metadata": {
    "colab": {
      "provenance": [],
      "gpuType": "T4",
      "authorship_tag": "ABX9TyNYFzLMJH9NZBtcZSC70WrP"
    },
    "kernelspec": {
      "name": "python3",
      "display_name": "Python 3"
    },
    "language_info": {
      "name": "python"
    },
    "accelerator": "GPU"
  },
  "cells": [
    {
      "cell_type": "code",
      "source": [
        "import pandas as pd\n",
        "import numpy as np\n",
        "import matplotlib.pyplot as plt\n",
        "from sklearn.preprocessing import MinMaxScaler\n",
        "from keras.models import Sequential\n",
        "from keras.layers import SimpleRNN, Dense\n",
        "from sklearn.metrics import mean_squared_error\n",
        "from sklearn.model_selection import train_test_split"
      ],
      "metadata": {
        "id": "EF8g8JlUKGJ3"
      },
      "execution_count": 8,
      "outputs": []
    },
    {
      "cell_type": "code",
      "source": [
        "df = pd.read_csv('usdrub.txt', sep=\";\")\n",
        "df = df['<CLOSE>']"
      ],
      "metadata": {
        "id": "kHHR5qh2KJmq"
      },
      "execution_count": 9,
      "outputs": []
    },
    {
      "cell_type": "code",
      "source": [
        "df = np.array(df).reshape(-1,1)\n",
        "df"
      ],
      "metadata": {
        "colab": {
          "base_uri": "https://localhost:8080/"
        },
        "id": "w1ChhewwPPGT",
        "outputId": "69371df6-3b79-4d4e-bca0-4061796392e8"
      },
      "execution_count": 10,
      "outputs": [
        {
          "output_type": "execute_result",
          "data": {
            "text/plain": [
              "array([[59.2343],\n",
              "       [59.1927],\n",
              "       [59.2332],\n",
              "       ...,\n",
              "       [74.1308],\n",
              "       [74.0699],\n",
              "       [74.1201]])"
            ]
          },
          "metadata": {},
          "execution_count": 10
        }
      ]
    },
    {
      "cell_type": "code",
      "source": [
        "scaler = MinMaxScaler()\n",
        "df = scaler.fit_transform(df)"
      ],
      "metadata": {
        "id": "czxGxda5PaEe"
      },
      "execution_count": 11,
      "outputs": []
    },
    {
      "cell_type": "code",
      "source": [
        "X = []\n",
        "y = []\n",
        "\n",
        "for i in range(50 , len(df)):\n",
        "    X.append(df[i-50:i, 0])\n",
        "    y.append(df[i, 0])\n"
      ],
      "metadata": {
        "id": "rql-GeoPwYjA"
      },
      "execution_count": 12,
      "outputs": []
    },
    {
      "cell_type": "code",
      "source": [
        "X_train, X_test, y_train, y_test = train_test_split(X, y, random_state=42)\n",
        "X_train= np.asarray(X_train)\n",
        "X_test = np.asarray(X_test)\n",
        "y_train = np.asarray(y_train)\n",
        "y_test = np.asarray(y_test)"
      ],
      "metadata": {
        "id": "87NFXvZywbWu"
      },
      "execution_count": 21,
      "outputs": []
    },
    {
      "cell_type": "code",
      "source": [
        "\n",
        "split1 = 0.7\n",
        "split2 = 0.9\n",
        "border1 = int(df.shape[0]*split1)\n",
        "border2 = int(df.shape[0]*split2)\n",
        "X_train = X[: border1]\n",
        "X_val = X[border1:border2]\n",
        "X_test = X[border2:]\n",
        "y_train = y[: border1]\n",
        "y_val = y[border1:border2]\n",
        "y_test = y[border2:]\n",
        "X_train= np.asarray(X_train)\n",
        "X_val= np.asarray(X_val)\n",
        "X_test = np.asarray(X_test)\n",
        "y_train = np.asarray(y_train)\n",
        "y_val = np.asarray(y_val)\n",
        "y_test = np.asarray(y_test)"
      ],
      "metadata": {
        "id": "NzE8dCpRL8ps"
      },
      "execution_count": null,
      "outputs": []
    },
    {
      "cell_type": "code",
      "source": [
        "model=Sequential()\n",
        "model.add(SimpleRNN(100,activation='relu',input_shape=(50,1)))\n",
        "model.add(Dense(1))\n",
        "\n",
        "model.summary()"
      ],
      "metadata": {
        "colab": {
          "base_uri": "https://localhost:8080/"
        },
        "id": "N_XRQb66ppsK",
        "outputId": "762ff1ce-ea4b-44b9-e1d8-d82c4dc157a7"
      },
      "execution_count": 22,
      "outputs": [
        {
          "output_type": "stream",
          "name": "stdout",
          "text": [
            "Model: \"sequential_2\"\n",
            "_________________________________________________________________\n",
            " Layer (type)                Output Shape              Param #   \n",
            "=================================================================\n",
            " simple_rnn_2 (SimpleRNN)    (None, 100)               10200     \n",
            "                                                                 \n",
            " dense_2 (Dense)             (None, 1)                 101       \n",
            "                                                                 \n",
            "=================================================================\n",
            "Total params: 10301 (40.24 KB)\n",
            "Trainable params: 10301 (40.24 KB)\n",
            "Non-trainable params: 0 (0.00 Byte)\n",
            "_________________________________________________________________\n"
          ]
        }
      ]
    },
    {
      "cell_type": "code",
      "source": [
        "model.compile(optimizer='adam', loss = 'mse')"
      ],
      "metadata": {
        "id": "jOo_X0VzsLTI"
      },
      "execution_count": 23,
      "outputs": []
    },
    {
      "cell_type": "code",
      "source": [
        "model.fit(X_train,y_train, epochs = 5, batch_size=8, validation_split=0.2)"
      ],
      "metadata": {
        "colab": {
          "base_uri": "https://localhost:8080/"
        },
        "id": "p8J-3RqBsMvD",
        "outputId": "ed884d01-a10b-4bed-a5cb-17367a97fdc1"
      },
      "execution_count": 24,
      "outputs": [
        {
          "output_type": "stream",
          "name": "stdout",
          "text": [
            "Epoch 1/5\n",
            "3252/3252 [==============================] - 120s 36ms/step - loss: 2.0411e-04 - val_loss: 3.0407e-05\n",
            "Epoch 2/5\n",
            "3252/3252 [==============================] - 113s 35ms/step - loss: 4.7076e-05 - val_loss: 3.0179e-05\n",
            "Epoch 3/5\n",
            "3252/3252 [==============================] - 115s 35ms/step - loss: 4.6105e-05 - val_loss: 3.1640e-05\n",
            "Epoch 4/5\n",
            "3252/3252 [==============================] - 114s 35ms/step - loss: 4.2600e-05 - val_loss: 2.4270e-04\n",
            "Epoch 5/5\n",
            "3252/3252 [==============================] - 112s 35ms/step - loss: 4.3879e-05 - val_loss: 3.3790e-05\n"
          ]
        },
        {
          "output_type": "execute_result",
          "data": {
            "text/plain": [
              "<keras.src.callbacks.History at 0x7b7d8c1d8d30>"
            ]
          },
          "metadata": {},
          "execution_count": 24
        }
      ]
    },
    {
      "cell_type": "code",
      "source": [
        "y_pred = model.predict(X_test)\n",
        "y_pred = scaler.inverse_transform(y_pred)\n",
        "print(y_pred[:10])"
      ],
      "metadata": {
        "colab": {
          "base_uri": "https://localhost:8080/"
        },
        "id": "2iozfX6ZvAMi",
        "outputId": "c292ff3d-7784-456d-c5be-c4019991d9d5"
      },
      "execution_count": 25,
      "outputs": [
        {
          "output_type": "stream",
          "name": "stdout",
          "text": [
            "339/339 [==============================] - 2s 6ms/step\n",
            "[[73.90193 ]\n",
            " [65.59001 ]\n",
            " [65.72375 ]\n",
            " [65.38069 ]\n",
            " [66.15225 ]\n",
            " [66.76729 ]\n",
            " [59.966255]\n",
            " [65.892075]\n",
            " [63.735344]\n",
            " [64.573105]]\n"
          ]
        }
      ]
    },
    {
      "cell_type": "code",
      "source": [
        "y_test = np.array(y_test).reshape(-1,1)\n",
        "#y_test = scaler.inverse_transform(y_test)\n",
        "print(y_test[:10])"
      ],
      "metadata": {
        "colab": {
          "base_uri": "https://localhost:8080/"
        },
        "id": "ecZXs7U3vCgW",
        "outputId": "44d7f532-200b-4614-cbcd-a8400a65d755"
      },
      "execution_count": 32,
      "outputs": [
        {
          "output_type": "stream",
          "name": "stdout",
          "text": [
            "[[73.8645]\n",
            " [65.5937]\n",
            " [65.698 ]\n",
            " [65.4415]\n",
            " [66.2308]\n",
            " [66.9306]\n",
            " [60.0466]\n",
            " [66.3005]\n",
            " [63.9742]\n",
            " [64.5574]]\n"
          ]
        }
      ]
    },
    {
      "cell_type": "code",
      "source": [
        "y_test"
      ],
      "metadata": {
        "colab": {
          "base_uri": "https://localhost:8080/"
        },
        "id": "MHFhN3V30BhP",
        "outputId": "157c8ba1-58e7-4aa0-f03f-c890bcd5b2f5"
      },
      "execution_count": 31,
      "outputs": [
        {
          "output_type": "execute_result",
          "data": {
            "text/plain": [
              "array([[73.8645],\n",
              "       [65.5937],\n",
              "       [65.698 ],\n",
              "       ...,\n",
              "       [56.7225],\n",
              "       [63.842 ],\n",
              "       [64.3272]])"
            ]
          },
          "metadata": {},
          "execution_count": 31
        }
      ]
    },
    {
      "cell_type": "code",
      "source": [
        "mean_squared_error(y_test, y_pred)"
      ],
      "metadata": {
        "colab": {
          "base_uri": "https://localhost:8080/"
        },
        "id": "HTCwmfZdvQ2K",
        "outputId": "3546ff8e-5171-476c-bed8-dfd3089ca786"
      },
      "execution_count": 27,
      "outputs": [
        {
          "output_type": "execute_result",
          "data": {
            "text/plain": [
              "0.04508290700220757"
            ]
          },
          "metadata": {},
          "execution_count": 27
        }
      ]
    },
    {
      "cell_type": "code",
      "source": [],
      "metadata": {
        "id": "jkPunAhxz1Gs"
      },
      "execution_count": null,
      "outputs": []
    }
  ]
}