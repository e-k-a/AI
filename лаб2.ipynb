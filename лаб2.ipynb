{
  "nbformat": 4,
  "nbformat_minor": 0,
  "metadata": {
    "colab": {
      "provenance": [],
      "authorship_tag": "ABX9TyMDiAlhMra+Z+Iba0UkHHd5"
    },
    "kernelspec": {
      "name": "python3",
      "display_name": "Python 3"
    },
    "language_info": {
      "name": "python"
    }
  },
  "cells": [
    {
      "cell_type": "code",
      "source": [
        "import os\n",
        "os.environ['TF_CPP_MIN_LOG_LEVEL'] = '2'\n",
        "\n",
        "import numpy as np\n",
        "import matplotlib.pyplot as plt\n",
        "from tensorflow.keras.datasets import mnist\n",
        "from tensorflow import keras\n",
        "from keras.utils import to_categorical\n",
        "from tensorflow.keras.layers import Dense, Flatten, Dropout\n",
        "from keras.optimizers.legacy import Adam, RMSprop, SGD\n",
        "from tensorflow.keras import activations\n",
        "from tensorflow.keras.layers import ReLU\n",
        "\n",
        "\n",
        "from sklearn.model_selection import train_test_split\n",
        "from sklearn.model_selection import GridSearchCV\n",
        "\n",
        "try:\n",
        "    import scikeras\n",
        "except ImportError:\n",
        "    !python -m pip install scikeras\n",
        "from scikeras.wrappers import KerasRegressor\n",
        "\n",
        "from scikeras.wrappers import KerasClassifier\n",
        "import pandas as pd\n",
        "import seaborn as sns"
      ],
      "metadata": {
        "id": "J0UPAfMCCtnJ",
        "colab": {
          "base_uri": "https://localhost:8080/"
        },
        "outputId": "cc5bdb92-6ee1-4656-df76-1bc13bbacdea"
      },
      "execution_count": 1,
      "outputs": [
        {
          "output_type": "stream",
          "name": "stdout",
          "text": [
            "Collecting scikeras\n",
            "  Downloading scikeras-0.12.0-py3-none-any.whl (27 kB)\n",
            "Requirement already satisfied: packaging>=0.21 in /usr/local/lib/python3.10/dist-packages (from scikeras) (23.2)\n",
            "Requirement already satisfied: scikit-learn>=1.0.0 in /usr/local/lib/python3.10/dist-packages (from scikeras) (1.2.2)\n",
            "Requirement already satisfied: numpy>=1.17.3 in /usr/local/lib/python3.10/dist-packages (from scikit-learn>=1.0.0->scikeras) (1.23.5)\n",
            "Requirement already satisfied: scipy>=1.3.2 in /usr/local/lib/python3.10/dist-packages (from scikit-learn>=1.0.0->scikeras) (1.11.4)\n",
            "Requirement already satisfied: joblib>=1.1.1 in /usr/local/lib/python3.10/dist-packages (from scikit-learn>=1.0.0->scikeras) (1.3.2)\n",
            "Requirement already satisfied: threadpoolctl>=2.0.0 in /usr/local/lib/python3.10/dist-packages (from scikit-learn>=1.0.0->scikeras) (3.2.0)\n",
            "Installing collected packages: scikeras\n",
            "Successfully installed scikeras-0.12.0\n"
          ]
        }
      ]
    },
    {
      "cell_type": "code",
      "source": [
        "(x_train, y_train), (x_test, y_test) = mnist.load_data()\n",
        "\n",
        "\n",
        "x_train = x_train / 255\n",
        "x_test = x_test / 255\n",
        "y_train_cat = to_categorical(y_train, 10)\n",
        "y_test_cat = to_categorical(y_test, 10)\n",
        "\n",
        "\n",
        "x_train, x_valid, y_train_cat, y_valid = train_test_split(x_train, y_train_cat, test_size=10000, random_state=42)"
      ],
      "metadata": {
        "id": "3VpQR773AA7q"
      },
      "execution_count": 27,
      "outputs": []
    },
    {
      "cell_type": "code",
      "source": [
        "x_train_20000, _, y_train_20000, _ = train_test_split(x_train, y_train_cat, train_size=20000, random_state=42)"
      ],
      "metadata": {
        "id": "SsUNh4GUSdEz"
      },
      "execution_count": 3,
      "outputs": []
    },
    {
      "cell_type": "code",
      "source": [
        "def create_model(optimizer=Adam(), activation='relu',loss = 'categorical_crossentropy', bias=True):\n",
        "    model = keras.Sequential([\n",
        "        Flatten(input_shape=(28, 28, 1)),\n",
        "        Dense(128, activation=activation, use_bias=bias),\n",
        "        Dropout(0.2),\n",
        "        Dense(10, activation='softmax', use_bias=bias)\n",
        "    ])\n",
        "    model.compile(optimizer=optimizer,\n",
        "             loss=loss,\n",
        "             metrics=['accuracy'])\n",
        "    return model\n"
      ],
      "metadata": {
        "id": "QEv1JkGToFLG"
      },
      "execution_count": 4,
      "outputs": []
    },
    {
      "cell_type": "code",
      "source": [
        "model =  create_model()"
      ],
      "metadata": {
        "id": "UNXb8pIBLZ_5"
      },
      "execution_count": 5,
      "outputs": []
    },
    {
      "cell_type": "code",
      "source": [
        "print(model.summary())"
      ],
      "metadata": {
        "colab": {
          "base_uri": "https://localhost:8080/"
        },
        "id": "Fw4vmtBNMKbi",
        "outputId": "223db3ad-b5a8-4031-d927-8edc8120c8de"
      },
      "execution_count": 6,
      "outputs": [
        {
          "output_type": "stream",
          "name": "stdout",
          "text": [
            "Model: \"sequential\"\n",
            "_________________________________________________________________\n",
            " Layer (type)                Output Shape              Param #   \n",
            "=================================================================\n",
            " flatten (Flatten)           (None, 784)               0         \n",
            "                                                                 \n",
            " dense (Dense)               (None, 128)               100480    \n",
            "                                                                 \n",
            " dropout (Dropout)           (None, 128)               0         \n",
            "                                                                 \n",
            " dense_1 (Dense)             (None, 10)                1290      \n",
            "                                                                 \n",
            "=================================================================\n",
            "Total params: 101770 (397.54 KB)\n",
            "Trainable params: 101770 (397.54 KB)\n",
            "Non-trainable params: 0 (0.00 Byte)\n",
            "_________________________________________________________________\n",
            "None\n"
          ]
        }
      ]
    },
    {
      "cell_type": "code",
      "source": [
        "his = model.fit(x_train, y_train_cat, batch_size=32, epochs=10, validation_data=(x_valid, y_valid))\n",
        "\n",
        "\n",
        "plt.plot(his.history['loss'])\n",
        "plt.plot(his.history['val_loss'])\n",
        "plt.show()\n",
        "\n",
        "model.evaluate(x_test, y_test_cat)"
      ],
      "metadata": {
        "colab": {
          "base_uri": "https://localhost:8080/",
          "height": 812
        },
        "id": "3DE2Oy9fNIok",
        "outputId": "53e121a0-7da9-4417-a932-d4ac11cff73a"
      },
      "execution_count": 7,
      "outputs": [
        {
          "output_type": "stream",
          "name": "stdout",
          "text": [
            "Epoch 1/10\n",
            "1563/1563 [==============================] - 16s 10ms/step - loss: 0.3210 - accuracy: 0.9072 - val_loss: 0.1521 - val_accuracy: 0.9559\n",
            "Epoch 2/10\n",
            "1563/1563 [==============================] - 13s 9ms/step - loss: 0.1547 - accuracy: 0.9549 - val_loss: 0.1181 - val_accuracy: 0.9642\n",
            "Epoch 3/10\n",
            "1563/1563 [==============================] - 9s 6ms/step - loss: 0.1159 - accuracy: 0.9649 - val_loss: 0.0935 - val_accuracy: 0.9736\n",
            "Epoch 4/10\n",
            "1563/1563 [==============================] - 4s 3ms/step - loss: 0.0930 - accuracy: 0.9720 - val_loss: 0.0916 - val_accuracy: 0.9723\n",
            "Epoch 5/10\n",
            "1563/1563 [==============================] - 6s 4ms/step - loss: 0.0798 - accuracy: 0.9754 - val_loss: 0.0795 - val_accuracy: 0.9751\n",
            "Epoch 6/10\n",
            "1563/1563 [==============================] - 5s 3ms/step - loss: 0.0671 - accuracy: 0.9792 - val_loss: 0.0803 - val_accuracy: 0.9769\n",
            "Epoch 7/10\n",
            "1563/1563 [==============================] - 6s 4ms/step - loss: 0.0604 - accuracy: 0.9806 - val_loss: 0.0768 - val_accuracy: 0.9779\n",
            "Epoch 8/10\n",
            "1563/1563 [==============================] - 5s 3ms/step - loss: 0.0536 - accuracy: 0.9823 - val_loss: 0.0699 - val_accuracy: 0.9796\n",
            "Epoch 9/10\n",
            "1563/1563 [==============================] - 5s 3ms/step - loss: 0.0497 - accuracy: 0.9836 - val_loss: 0.0748 - val_accuracy: 0.9778\n",
            "Epoch 10/10\n",
            "1563/1563 [==============================] - 6s 4ms/step - loss: 0.0460 - accuracy: 0.9846 - val_loss: 0.0777 - val_accuracy: 0.9774\n"
          ]
        },
        {
          "output_type": "display_data",
          "data": {
            "text/plain": [
              "<Figure size 640x480 with 1 Axes>"
            ],
            "image/png": "[encoded data removed]"
          },
          "metadata": {}
        },
        {
          "output_type": "stream",
          "name": "stdout",
          "text": [
            "313/313 [==============================] - 1s 2ms/step - loss: 0.0754 - accuracy: 0.9778\n"
          ]
        },
        {
          "output_type": "execute_result",
          "data": {
            "text/plain": [
              "[0.07544808089733124, 0.9778000116348267]"
            ]
          },
          "metadata": {},
          "execution_count": 7
        }
      ]
    },
    {
      "cell_type": "code",
      "source": [
        "model.evaluate(x_test, y_test_cat)"
      ],
      "metadata": {
        "colab": {
          "base_uri": "https://localhost:8080/"
        },
        "id": "BKcOTA40OBvK",
        "outputId": "ca7f813d-b11e-4aed-c7e5-9dd75c547e90"
      },
      "execution_count": 8,
      "outputs": [
        {
          "output_type": "stream",
          "name": "stdout",
          "text": [
            "313/313 [==============================] - 1s 3ms/step - loss: 0.0754 - accuracy: 0.9778\n"
          ]
        },
        {
          "output_type": "execute_result",
          "data": {
            "text/plain": [
              "[0.07544808089733124, 0.9778000116348267]"
            ]
          },
          "metadata": {},
          "execution_count": 8
        }
      ]
    },
    {
      "cell_type": "code",
      "source": [
        "pred = model.predict(x_test)\n",
        "pred = np.argmax(pred, axis=1)\n",
        "\n",
        "print(pred.shape)\n",
        "\n",
        "print(pred[:5])\n",
        "print(y_test[:5])\n",
        "\n",
        "mask = pred == y_test\n",
        "\n",
        "x_false = x_test[~mask]\n",
        "y_false = x_test[~mask]\n",
        "p_false = pred[~mask]\n",
        "\n",
        "for i in range(5):\n",
        "    print(\"Значение сети: \"+str(p_false[i]))\n",
        "    plt.imshow(x_false[i], cmap=plt.cm.binary)\n",
        "    plt.show()"
      ],
      "metadata": {
        "id": "WN2CG2UYOBzn",
        "colab": {
          "base_uri": "https://localhost:8080/",
          "height": 1000
        },
        "outputId": "cb3a82fc-128a-4df0-d6c1-6b5ea4207a87"
      },
      "execution_count": 9,
      "outputs": [
        {
          "output_type": "stream",
          "name": "stdout",
          "text": [
            "313/313 [==============================] - 1s 2ms/step\n",
            "(10000,)\n",
            "[7 2 1 0 4]\n",
            "[7 2 1 0 4]\n",
            "Значение сети: 9\n"
          ]
        },
        {
          "output_type": "display_data",
          "data": {
            "text/plain": [
              "<Figure size 640x480 with 1 Axes>"
            ],
            "image/png": "[encoded data removed]"
          },
          "metadata": {}
        },
        {
          "output_type": "stream",
          "name": "stdout",
          "text": [
            "Значение сети: 8\n"
          ]
        },
        {
          "output_type": "display_data",
          "data": {
            "text/plain": [
              "<Figure size 640x480 with 1 Axes>"
            ],
            "image/png": "[encoded data removed]"
          },
          "metadata": {}
        },
        {
          "output_type": "stream",
          "name": "stdout",
          "text": [
            "Значение сети: 2\n"
          ]
        },
        {
          "output_type": "display_data",
          "data": {
            "text/plain": [
              "<Figure size 640x480 with 1 Axes>"
            ],
            "image/png": "[encoded data removed]"
          },
          "metadata": {}
        },
        {
          "output_type": "stream",
          "name": "stdout",
          "text": [
            "Значение сети: 0\n"
          ]
        },
        {
          "output_type": "display_data",
          "data": {
            "text/plain": [
              "<Figure size 640x480 with 1 Axes>"
            ],
            "image/png": "[encoded data removed]"
          },
          "metadata": {}
        },
        {
          "output_type": "stream",
          "name": "stdout",
          "text": [
            "Значение сети: 7\n"
          ]
        },
        {
          "output_type": "display_data",
          "data": {
            "text/plain": [
              "<Figure size 640x480 with 1 Axes>"
            ],
            "image/png": "[encoded data removed]"
          },
          "metadata": {}
        }
      ]
    },
    {
      "cell_type": "code",
      "source": [
        "his_20000 = model.fit(x_train_20000, y_train_20000, batch_size=32, epochs=5, validation_data=(x_valid, y_valid))\n",
        "model.evaluate(x_test, y_test_cat)"
      ],
      "metadata": {
        "colab": {
          "base_uri": "https://localhost:8080/"
        },
        "id": "27EbQx5kNO9S",
        "outputId": "c6543e29-c509-4a20-cb76-16fea571aae1"
      },
      "execution_count": 11,
      "outputs": [
        {
          "output_type": "stream",
          "name": "stdout",
          "text": [
            "Epoch 1/5\n",
            "625/625 [==============================] - 4s 6ms/step - loss: 0.0398 - accuracy: 0.9868 - val_loss: 0.0743 - val_accuracy: 0.9800\n",
            "Epoch 2/5\n",
            "625/625 [==============================] - 2s 4ms/step - loss: 0.0340 - accuracy: 0.9889 - val_loss: 0.0781 - val_accuracy: 0.9788\n",
            "Epoch 3/5\n",
            "625/625 [==============================] - 2s 4ms/step - loss: 0.0289 - accuracy: 0.9906 - val_loss: 0.0815 - val_accuracy: 0.9794\n",
            "Epoch 4/5\n",
            "625/625 [==============================] - 3s 5ms/step - loss: 0.0279 - accuracy: 0.9900 - val_loss: 0.0842 - val_accuracy: 0.9786\n",
            "Epoch 5/5\n",
            "625/625 [==============================] - 3s 5ms/step - loss: 0.0253 - accuracy: 0.9911 - val_loss: 0.0796 - val_accuracy: 0.9784\n",
            "313/313 [==============================] - 1s 2ms/step - loss: 0.0779 - accuracy: 0.9781\n"
          ]
        },
        {
          "output_type": "execute_result",
          "data": {
            "text/plain": [
              "[0.07792948931455612, 0.9781000018119812]"
            ]
          },
          "metadata": {},
          "execution_count": 11
        }
      ]
    },
    {
      "cell_type": "code",
      "source": [
        "model =  create_model()\n",
        "his = model.fit(x_train, y_train_cat, batch_size=32, epochs=10, validation_data=(x_valid, y_valid))\n",
        "\n",
        "\n",
        "plt.plot(his.history['loss'])\n",
        "plt.plot(his.history['val_loss'])\n",
        "plt.show()\n",
        "\n",
        "model.evaluate(x_test, y_test_cat)"
      ],
      "metadata": {
        "colab": {
          "base_uri": "https://localhost:8080/",
          "height": 812
        },
        "id": "YWQBuBG6dDpv",
        "outputId": "6b10f797-c23f-42dc-dadf-a4a1103bed20"
      },
      "execution_count": 12,
      "outputs": [
        {
          "output_type": "stream",
          "name": "stdout",
          "text": [
            "Epoch 1/10\n",
            "1563/1563 [==============================] - 6s 4ms/step - loss: 0.2521 - accuracy: 0.9253 - val_loss: 0.1394 - val_accuracy: 0.9579\n",
            "Epoch 2/10\n",
            "1563/1563 [==============================] - 5s 3ms/step - loss: 0.1429 - accuracy: 0.9572 - val_loss: 0.1085 - val_accuracy: 0.9686\n",
            "Epoch 3/10\n",
            "1563/1563 [==============================] - 6s 4ms/step - loss: 0.1127 - accuracy: 0.9667 - val_loss: 0.0910 - val_accuracy: 0.9725\n",
            "Epoch 4/10\n",
            "1563/1563 [==============================] - 5s 3ms/step - loss: 0.0967 - accuracy: 0.9708 - val_loss: 0.0868 - val_accuracy: 0.9741\n",
            "Epoch 5/10\n",
            "1563/1563 [==============================] - 7s 4ms/step - loss: 0.0815 - accuracy: 0.9740 - val_loss: 0.0819 - val_accuracy: 0.9753\n",
            "Epoch 6/10\n",
            "1563/1563 [==============================] - 5s 3ms/step - loss: 0.0742 - accuracy: 0.9765 - val_loss: 0.0790 - val_accuracy: 0.9755\n",
            "Epoch 7/10\n",
            "1563/1563 [==============================] - 5s 3ms/step - loss: 0.0647 - accuracy: 0.9798 - val_loss: 0.0754 - val_accuracy: 0.9779\n",
            "Epoch 8/10\n",
            "1563/1563 [==============================] - 7s 5ms/step - loss: 0.0614 - accuracy: 0.9801 - val_loss: 0.0764 - val_accuracy: 0.9769\n",
            "Epoch 9/10\n",
            "1563/1563 [==============================] - 6s 4ms/step - loss: 0.0561 - accuracy: 0.9820 - val_loss: 0.0739 - val_accuracy: 0.9779\n",
            "Epoch 10/10\n",
            "1563/1563 [==============================] - 7s 4ms/step - loss: 0.0514 - accuracy: 0.9827 - val_loss: 0.0801 - val_accuracy: 0.9776\n"
          ]
        },
        {
          "output_type": "display_data",
          "data": {
            "text/plain": [
              "<Figure size 640x480 with 1 Axes>"
            ],
            "image/png": "[encoded data removed]"
          },
          "metadata": {}
        },
        {
          "output_type": "stream",
          "name": "stdout",
          "text": [
            "313/313 [==============================] - 1s 2ms/step - loss: 0.0788 - accuracy: 0.9775\n"
          ]
        },
        {
          "output_type": "execute_result",
          "data": {
            "text/plain": [
              "[0.07882245630025864, 0.9775000214576721]"
            ]
          },
          "metadata": {},
          "execution_count": 12
        }
      ]
    },
    {
      "cell_type": "code",
      "source": [
        "model = KerasClassifier(model=create_model, verbose=1)"
      ],
      "metadata": {
        "id": "PWOHE48JpC1l"
      },
      "execution_count": 13,
      "outputs": []
    },
    {
      "cell_type": "markdown",
      "source": [
        "### 4"
      ],
      "metadata": {
        "id": "3c7jp-c9y2nB"
      }
    },
    {
      "cell_type": "code",
      "source": [
        "param_grid = {\n",
        "\n",
        "    'optimizer': [Adam(learning_rate=0.01), Adam(learning_rate=0.1),Adam(learning_rate=0.15),\n",
        "                  RMSprop(learning_rate=0.01), RMSprop(learning_rate=0.1) ,RMSprop(learning_rate=0.15),\n",
        "                  SGD(learning_rate=0.01), SGD(learning_rate=0.1) ,SGD(learning_rate=0.15),\n",
        "                  ]\n",
        "}"
      ],
      "metadata": {
        "id": "WFtiT2EkpFxL"
      },
      "execution_count": 14,
      "outputs": []
    },
    {
      "cell_type": "code",
      "source": [
        "def gridSearch(param_grid):\n",
        "  grid = GridSearchCV(estimator=model, param_grid=param_grid, n_jobs=-1, cv=3)\n",
        "  grid_result = grid.fit(x_train, y_train_cat, validation_data=(x_valid, y_valid))\n",
        "  print(\"Best: %f using %s\" % (grid_result.best_score_, grid_result.best_params_))\n",
        "\n",
        "  results = pd.DataFrame(grid_result.cv_results_)\n",
        "  return results"
      ],
      "metadata": {
        "id": "-6E1BxT3o1ZH"
      },
      "execution_count": 15,
      "outputs": []
    },
    {
      "cell_type": "code",
      "source": [
        "gridSearch(param_grid= param_grid)"
      ],
      "metadata": {
        "colab": {
          "base_uri": "https://localhost:8080/",
          "height": 542
        },
        "id": "YPDjFZ_TpGbv",
        "outputId": "933b6ff3-8de3-49ce-ccc4-60f90946da90"
      },
      "execution_count": 16,
      "outputs": [
        {
          "output_type": "stream",
          "name": "stdout",
          "text": [
            "1563/1563 [==============================] - 7s 4ms/step - loss: 0.2539 - accuracy: 0.9236 - val_loss: 0.1313 - val_accuracy: 0.9603\n",
            "Best: 0.954220 using {'optimizer': <keras.src.optimizers.legacy.rmsprop.RMSprop object at 0x7bffb97cd6f0>}\n"
          ]
        },
        {
          "output_type": "execute_result",
          "data": {
            "text/plain": [
              "   mean_fit_time  std_fit_time  mean_score_time  std_score_time  \\\n",
              "0      10.719081      2.906936         2.979582        0.856654   \n",
              "1       9.025285      1.996600         1.972860        0.713308   \n",
              "2       8.558841      2.104182         2.089671        0.672586   \n",
              "3       7.528487      0.780916         2.325127        0.466692   \n",
              "4       9.745033      1.358152         1.962361        0.592535   \n",
              "5       8.612691      2.352414         4.096136        1.809429   \n",
              "6       7.153502      0.678092         2.683221        0.543697   \n",
              "7       7.535120      0.555794         2.912197        0.044201   \n",
              "8       7.089590      1.584928         3.464755        1.862586   \n",
              "\n",
              "                                     param_optimizer  \\\n",
              "0  <keras.src.optimizers.legacy.adam.Adam object ...   \n",
              "1  <keras.src.optimizers.legacy.adam.Adam object ...   \n",
              "2  <keras.src.optimizers.legacy.adam.Adam object ...   \n",
              "3  <keras.src.optimizers.legacy.rmsprop.RMSprop o...   \n",
              "4  <keras.src.optimizers.legacy.rmsprop.RMSprop o...   \n",
              "5  <keras.src.optimizers.legacy.rmsprop.RMSprop o...   \n",
              "6  <keras.src.optimizers.legacy.gradient_descent....   \n",
              "7  <keras.src.optimizers.legacy.gradient_descent....   \n",
              "8  <keras.src.optimizers.legacy.gradient_descent....   \n",
              "\n",
              "                                              params  split0_test_score  \\\n",
              "0  {'optimizer': <keras.src.optimizers.legacy.ada...           0.952121   \n",
              "1  {'optimizer': <keras.src.optimizers.legacy.ada...           0.954101   \n",
              "2  {'optimizer': <keras.src.optimizers.legacy.ada...           0.947021   \n",
              "3  {'optimizer': <keras.src.optimizers.legacy.rms...           0.949301   \n",
              "4  {'optimizer': <keras.src.optimizers.legacy.rms...           0.952421   \n",
              "5  {'optimizer': <keras.src.optimizers.legacy.rms...           0.954221   \n",
              "6  {'optimizer': <keras.src.optimizers.legacy.gra...           0.953081   \n",
              "7  {'optimizer': <keras.src.optimizers.legacy.gra...           0.953621   \n",
              "8  {'optimizer': <keras.src.optimizers.legacy.gra...           0.954641   \n",
              "\n",
              "   split1_test_score  split2_test_score  mean_test_score  std_test_score  \\\n",
              "0           0.952241           0.951698          0.95202        0.000233   \n",
              "1           0.950681           0.954038          0.95294        0.001598   \n",
              "2           0.948281           0.950018          0.94844        0.001229   \n",
              "3           0.952601           0.954938          0.95228        0.002313   \n",
              "4           0.953081           0.953798          0.95310        0.000562   \n",
              "5           0.953381           0.955058          0.95422        0.000685   \n",
              "6           0.948761           0.951698          0.95118        0.001801   \n",
              "7           0.950261           0.951278          0.95172        0.001407   \n",
              "8           0.951281           0.951818          0.95258        0.001474   \n",
              "\n",
              "   rank_test_score  \n",
              "0                6  \n",
              "1                3  \n",
              "2                9  \n",
              "3                5  \n",
              "4                2  \n",
              "5                1  \n",
              "6                8  \n",
              "7                7  \n",
              "8                4  "
            ],
            "text/html": [
              "\n",
              "  <div id=\"df-6e637458-964f-4135-a6d7-93b3b42dae87\" class=\"colab-df-container\">\n",
              "    <div>\n",
              "<style scoped>\n",
              "    .dataframe tbody tr th:only-of-type {\n",
              "        vertical-align: middle;\n",
              "    }\n",
              "\n",
              "    .dataframe tbody tr th {\n",
              "        vertical-align: top;\n",
              "    }\n",
              "\n",
              "    .dataframe thead th {\n",
              "        text-align: right;\n",
              "    }\n",
              "</style>\n",
              "<table border=\"1\" class=\"dataframe\">\n",
              "  <thead>\n",
              "    <tr style=\"text-align: right;\">\n",
              "      <th></th>\n",
              "      <th>mean_fit_time</th>\n",
              "      <th>std_fit_time</th>\n",
              "      <th>mean_score_time</th>\n",
              "      <th>std_score_time</th>\n",
              "      <th>param_optimizer</th>\n",
              "      <th>params</th>\n",
              "      <th>split0_test_score</th>\n",
              "      <th>split1_test_score</th>\n",
              "      <th>split2_test_score</th>\n",
              "      <th>mean_test_score</th>\n",
              "      <th>std_test_score</th>\n",
              "      <th>rank_test_score</th>\n",
              "    </tr>\n",
              "  </thead>\n",
              "  <tbody>\n",
              "    <tr>\n",
              "      <th>0</th>\n",
              "      <td>10.719081</td>\n",
              "      <td>2.906936</td>\n",
              "      <td>2.979582</td>\n",
              "      <td>0.856654</td>\n",
              "      <td>&lt;keras.src.optimizers.legacy.adam.Adam object ...</td>\n",
              "      <td>{'optimizer': &lt;keras.src.optimizers.legacy.ada...</td>\n",
              "      <td>0.952121</td>\n",
              "      <td>0.952241</td>\n",
              "      <td>0.951698</td>\n",
              "      <td>0.95202</td>\n",
              "      <td>0.000233</td>\n",
              "      <td>6</td>\n",
              "    </tr>\n",
              "    <tr>\n",
              "      <th>1</th>\n",
              "      <td>9.025285</td>\n",
              "      <td>1.996600</td>\n",
              "      <td>1.972860</td>\n",
              "      <td>0.713308</td>\n",
              "      <td>&lt;keras.src.optimizers.legacy.adam.Adam object ...</td>\n",
              "      <td>{'optimizer': &lt;keras.src.optimizers.legacy.ada...</td>\n",
              "      <td>0.954101</td>\n",
              "      <td>0.950681</td>\n",
              "      <td>0.954038</td>\n",
              "      <td>0.95294</td>\n",
              "      <td>0.001598</td>\n",
              "      <td>3</td>\n",
              "    </tr>\n",
              "    <tr>\n",
              "      <th>2</th>\n",
              "      <td>8.558841</td>\n",
              "      <td>2.104182</td>\n",
              "      <td>2.089671</td>\n",
              "      <td>0.672586</td>\n",
              "      <td>&lt;keras.src.optimizers.legacy.adam.Adam object ...</td>\n",
              "      <td>{'optimizer': &lt;keras.src.optimizers.legacy.ada...</td>\n",
              "      <td>0.947021</td>\n",
              "      <td>0.948281</td>\n",
              "      <td>0.950018</td>\n",
              "      <td>0.94844</td>\n",
              "      <td>0.001229</td>\n",
              "      <td>9</td>\n",
              "    </tr>\n",
              "    <tr>\n",
              "      <th>3</th>\n",
              "      <td>7.528487</td>\n",
              "      <td>0.780916</td>\n",
              "      <td>2.325127</td>\n",
              "      <td>0.466692</td>\n",
              "      <td>&lt;keras.src.optimizers.legacy.rmsprop.RMSprop o...</td>\n",
              "      <td>{'optimizer': &lt;keras.src.optimizers.legacy.rms...</td>\n",
              "      <td>0.949301</td>\n",
              "      <td>0.952601</td>\n",
              "      <td>0.954938</td>\n",
              "      <td>0.95228</td>\n",
              "      <td>0.002313</td>\n",
              "      <td>5</td>\n",
              "    </tr>\n",
              "    <tr>\n",
              "      <th>4</th>\n",
              "      <td>9.745033</td>\n",
              "      <td>1.358152</td>\n",
              "      <td>1.962361</td>\n",
              "      <td>0.592535</td>\n",
              "      <td>&lt;keras.src.optimizers.legacy.rmsprop.RMSprop o...</td>\n",
              "      <td>{'optimizer': &lt;keras.src.optimizers.legacy.rms...</td>\n",
              "      <td>0.952421</td>\n",
              "      <td>0.953081</td>\n",
              "      <td>0.953798</td>\n",
              "      <td>0.95310</td>\n",
              "      <td>0.000562</td>\n",
              "      <td>2</td>\n",
              "    </tr>\n",
              "    <tr>\n",
              "      <th>5</th>\n",
              "      <td>8.612691</td>\n",
              "      <td>2.352414</td>\n",
              "      <td>4.096136</td>\n",
              "      <td>1.809429</td>\n",
              "      <td>&lt;keras.src.optimizers.legacy.rmsprop.RMSprop o...</td>\n",
              "      <td>{'optimizer': &lt;keras.src.optimizers.legacy.rms...</td>\n",
              "      <td>0.954221</td>\n",
              "      <td>0.953381</td>\n",
              "      <td>0.955058</td>\n",
              "      <td>0.95422</td>\n",
              "      <td>0.000685</td>\n",
              "      <td>1</td>\n",
              "    </tr>\n",
              "    <tr>\n",
              "      <th>6</th>\n",
              "      <td>7.153502</td>\n",
              "      <td>0.678092</td>\n",
              "      <td>2.683221</td>\n",
              "      <td>0.543697</td>\n",
              "      <td>&lt;keras.src.optimizers.legacy.gradient_descent....</td>\n",
              "      <td>{'optimizer': &lt;keras.src.optimizers.legacy.gra...</td>\n",
              "      <td>0.953081</td>\n",
              "      <td>0.948761</td>\n",
              "      <td>0.951698</td>\n",
              "      <td>0.95118</td>\n",
              "      <td>0.001801</td>\n",
              "      <td>8</td>\n",
              "    </tr>\n",
              "    <tr>\n",
              "      <th>7</th>\n",
              "      <td>7.535120</td>\n",
              "      <td>0.555794</td>\n",
              "      <td>2.912197</td>\n",
              "      <td>0.044201</td>\n",
              "      <td>&lt;keras.src.optimizers.legacy.gradient_descent....</td>\n",
              "      <td>{'optimizer': &lt;keras.src.optimizers.legacy.gra...</td>\n",
              "      <td>0.953621</td>\n",
              "      <td>0.950261</td>\n",
              "      <td>0.951278</td>\n",
              "      <td>0.95172</td>\n",
              "      <td>0.001407</td>\n",
              "      <td>7</td>\n",
              "    </tr>\n",
              "    <tr>\n",
              "      <th>8</th>\n",
              "      <td>7.089590</td>\n",
              "      <td>1.584928</td>\n",
              "      <td>3.464755</td>\n",
              "      <td>1.862586</td>\n",
              "      <td>&lt;keras.src.optimizers.legacy.gradient_descent....</td>\n",
              "      <td>{'optimizer': &lt;keras.src.optimizers.legacy.gra...</td>\n",
              "      <td>0.954641</td>\n",
              "      <td>0.951281</td>\n",
              "      <td>0.951818</td>\n",
              "      <td>0.95258</td>\n",
              "      <td>0.001474</td>\n",
              "      <td>4</td>\n",
              "    </tr>\n",
              "  </tbody>\n",
              "</table>\n",
              "</div>\n",
              "    <div class=\"colab-df-buttons\">\n",
              "\n",
              "  <div class=\"colab-df-container\">\n",
              "    <button class=\"colab-df-convert\" onclick=\"convertToInteractive('df-6e637458-964f-4135-a6d7-93b3b42dae87')\"\n",
              "            title=\"Convert this dataframe to an interactive table.\"\n",
              "            style=\"display:none;\">\n",
              "\n",
              "  <svg xmlns=\"http://www.w3.org/2000/svg\" height=\"24px\" viewBox=\"0 -960 960 960\">\n",
              "    <path d=\"M120-120v-720h720v720H120Zm60-500h600v-160H180v160Zm220 220h160v-160H400v160Zm0 220h160v-160H400v160ZM180-400h160v-160H180v160Zm440 0h160v-160H620v160ZM180-180h160v-160H180v160Zm440 0h160v-160H620v160Z\"/>\n",
              "  </svg>\n",
              "    </button>\n",
              "\n",
              "  <style>\n",
              "    .colab-df-container {\n",
              "      display:flex;\n",
              "      gap: 12px;\n",
              "    }\n",
              "\n",
              "    .colab-df-convert {\n",
              "      background-color: #E8F0FE;\n",
              "      border: none;\n",
              "      border-radius: 50%;\n",
              "      cursor: pointer;\n",
              "      display: none;\n",
              "      fill: #1967D2;\n",
              "      height: 32px;\n",
              "      padding: 0 0 0 0;\n",
              "      width: 32px;\n",
              "    }\n",
              "\n",
              "    .colab-df-convert:hover {\n",
              "      background-color: #E2EBFA;\n",
              "      box-shadow: 0px 1px 2px rgba(60, 64, 67, 0.3), 0px 1px 3px 1px rgba(60, 64, 67, 0.15);\n",
              "      fill: #174EA6;\n",
              "    }\n",
              "\n",
              "    .colab-df-buttons div {\n",
              "      margin-bottom: 4px;\n",
              "    }\n",
              "\n",
              "    [theme=dark] .colab-df-convert {\n",
              "      background-color: #3B4455;\n",
              "      fill: #D2E3FC;\n",
              "    }\n",
              "\n",
              "    [theme=dark] .colab-df-convert:hover {\n",
              "      background-color: #434B5C;\n",
              "      box-shadow: 0px 1px 3px 1px rgba(0, 0, 0, 0.15);\n",
              "      filter: drop-shadow(0px 1px 2px rgba(0, 0, 0, 0.3));\n",
              "      fill: #FFFFFF;\n",
              "    }\n",
              "  </style>\n",
              "\n",
              "    <script>\n",
              "      const buttonEl =\n",
              "        document.querySelector('#df-6e637458-964f-4135-a6d7-93b3b42dae87 button.colab-df-convert');\n",
              "      buttonEl.style.display =\n",
              "        google.colab.kernel.accessAllowed ? 'block' : 'none';\n",
              "\n",
              "      async function convertToInteractive(key) {\n",
              "        const element = document.querySelector('#df-6e637458-964f-4135-a6d7-93b3b42dae87');\n",
              "        const dataTable =\n",
              "          await google.colab.kernel.invokeFunction('convertToInteractive',\n",
              "                                                    [key], {});\n",
              "        if (!dataTable) return;\n",
              "\n",
              "        const docLinkHtml = 'Like what you see? Visit the ' +\n",
              "          '<a target=\"_blank\" href=https://colab.research.google.com/notebooks/data_table.ipynb>data table notebook</a>'\n",
              "          + ' to learn more about interactive tables.';\n",
              "        element.innerHTML = '';\n",
              "        dataTable['output_type'] = 'display_data';\n",
              "        await google.colab.output.renderOutput(dataTable, element);\n",
              "        const docLink = document.createElement('div');\n",
              "        docLink.innerHTML = docLinkHtml;\n",
              "        element.appendChild(docLink);\n",
              "      }\n",
              "    </script>\n",
              "  </div>\n",
              "\n",
              "\n",
              "<div id=\"df-2d2204bc-7131-4525-8b86-925be4cdcdf3\">\n",
              "  <button class=\"colab-df-quickchart\" onclick=\"quickchart('df-2d2204bc-7131-4525-8b86-925be4cdcdf3')\"\n",
              "            title=\"Suggest charts\"\n",
              "            style=\"display:none;\">\n",
              "\n",
              "<svg xmlns=\"http://www.w3.org/2000/svg\" height=\"24px\"viewBox=\"0 0 24 24\"\n",
              "     width=\"24px\">\n",
              "    <g>\n",
              "        <path d=\"M19 3H5c-1.1 0-2 .9-2 2v14c0 1.1.9 2 2 2h14c1.1 0 2-.9 2-2V5c0-1.1-.9-2-2-2zM9 17H7v-7h2v7zm4 0h-2V7h2v10zm4 0h-2v-4h2v4z\"/>\n",
              "    </g>\n",
              "</svg>\n",
              "  </button>\n",
              "\n",
              "<style>\n",
              "  .colab-df-quickchart {\n",
              "      --bg-color: #E8F0FE;\n",
              "      --fill-color: #1967D2;\n",
              "      --hover-bg-color: #E2EBFA;\n",
              "      --hover-fill-color: #174EA6;\n",
              "      --disabled-fill-color: #AAA;\n",
              "      --disabled-bg-color: #DDD;\n",
              "  }\n",
              "\n",
              "  [theme=dark] .colab-df-quickchart {\n",
              "      --bg-color: #3B4455;\n",
              "      --fill-color: #D2E3FC;\n",
              "      --hover-bg-color: #434B5C;\n",
              "      --hover-fill-color: #FFFFFF;\n",
              "      --disabled-bg-color: #3B4455;\n",
              "      --disabled-fill-color: #666;\n",
              "  }\n",
              "\n",
              "  .colab-df-quickchart {\n",
              "    background-color: var(--bg-color);\n",
              "    border: none;\n",
              "    border-radius: 50%;\n",
              "    cursor: pointer;\n",
              "    display: none;\n",
              "    fill: var(--fill-color);\n",
              "    height: 32px;\n",
              "    padding: 0;\n",
              "    width: 32px;\n",
              "  }\n",
              "\n",
              "  .colab-df-quickchart:hover {\n",
              "    background-color: var(--hover-bg-color);\n",
              "    box-shadow: 0 1px 2px rgba(60, 64, 67, 0.3), 0 1px 3px 1px rgba(60, 64, 67, 0.15);\n",
              "    fill: var(--button-hover-fill-color);\n",
              "  }\n",
              "\n",
              "  .colab-df-quickchart-complete:disabled,\n",
              "  .colab-df-quickchart-complete:disabled:hover {\n",
              "    background-color: var(--disabled-bg-color);\n",
              "    fill: var(--disabled-fill-color);\n",
              "    box-shadow: none;\n",
              "  }\n",
              "\n",
              "  .colab-df-spinner {\n",
              "    border: 2px solid var(--fill-color);\n",
              "    border-color: transparent;\n",
              "    border-bottom-color: var(--fill-color);\n",
              "    animation:\n",
              "      spin 1s steps(1) infinite;\n",
              "  }\n",
              "\n",
              "  @keyframes spin {\n",
              "    0% {\n",
              "      border-color: transparent;\n",
              "      border-bottom-color: var(--fill-color);\n",
              "      border-left-color: var(--fill-color);\n",
              "    }\n",
              "    20% {\n",
              "      border-color: transparent;\n",
              "      border-left-color: var(--fill-color);\n",
              "      border-top-color: var(--fill-color);\n",
              "    }\n",
              "    30% {\n",
              "      border-color: transparent;\n",
              "      border-left-color: var(--fill-color);\n",
              "      border-top-color: var(--fill-color);\n",
              "      border-right-color: var(--fill-color);\n",
              "    }\n",
              "    40% {\n",
              "      border-color: transparent;\n",
              "      border-right-color: var(--fill-color);\n",
              "      border-top-color: var(--fill-color);\n",
              "    }\n",
              "    60% {\n",
              "      border-color: transparent;\n",
              "      border-right-color: var(--fill-color);\n",
              "    }\n",
              "    80% {\n",
              "      border-color: transparent;\n",
              "      border-right-color: var(--fill-color);\n",
              "      border-bottom-color: var(--fill-color);\n",
              "    }\n",
              "    90% {\n",
              "      border-color: transparent;\n",
              "      border-bottom-color: var(--fill-color);\n",
              "    }\n",
              "  }\n",
              "</style>\n",
              "\n",
              "  <script>\n",
              "    async function quickchart(key) {\n",
              "      const quickchartButtonEl =\n",
              "        document.querySelector('#' + key + ' button');\n",
              "      quickchartButtonEl.disabled = true;  // To prevent multiple clicks.\n",
              "      quickchartButtonEl.classList.add('colab-df-spinner');\n",
              "      try {\n",
              "        const charts = await google.colab.kernel.invokeFunction(\n",
              "            'suggestCharts', [key], {});\n",
              "      } catch (error) {\n",
              "        console.error('Error during call to suggestCharts:', error);\n",
              "      }\n",
              "      quickchartButtonEl.classList.remove('colab-df-spinner');\n",
              "      quickchartButtonEl.classList.add('colab-df-quickchart-complete');\n",
              "    }\n",
              "    (() => {\n",
              "      let quickchartButtonEl =\n",
              "        document.querySelector('#df-2d2204bc-7131-4525-8b86-925be4cdcdf3 button');\n",
              "      quickchartButtonEl.style.display =\n",
              "        google.colab.kernel.accessAllowed ? 'block' : 'none';\n",
              "    })();\n",
              "  </script>\n",
              "</div>\n",
              "    </div>\n",
              "  </div>\n"
            ]
          },
          "metadata": {},
          "execution_count": 16
        }
      ]
    },
    {
      "cell_type": "markdown",
      "source": [
        "### 5"
      ],
      "metadata": {
        "id": "MVPnUPbsyw-Q"
      }
    },
    {
      "cell_type": "code",
      "source": [
        "for act in ['relu', 'softmax', 'linear','tanh']:\n",
        "  model =  create_model(activation=act)\n",
        "  his = model.fit(x_train, y_train_cat, batch_size=32, epochs=10, validation_data=(x_valid, y_valid))\n",
        "\n",
        "  print(act,' ',model.evaluate(x_test, y_test_cat))"
      ],
      "metadata": {
        "colab": {
          "base_uri": "https://localhost:8080/"
        },
        "id": "zJe3dkZ_XGPW",
        "outputId": "f500b327-ec6a-4285-8b15-5bbf84d18ea9"
      },
      "execution_count": 29,
      "outputs": [
        {
          "output_type": "stream",
          "name": "stdout",
          "text": [
            "Epoch 1/10\n",
            "1563/1563 [==============================] - 8s 4ms/step - loss: 0.2498 - accuracy: 0.9257 - val_loss: 0.1346 - val_accuracy: 0.9584\n",
            "Epoch 2/10\n",
            "1563/1563 [==============================] - 7s 4ms/step - loss: 0.1401 - accuracy: 0.9588 - val_loss: 0.1093 - val_accuracy: 0.9665\n",
            "Epoch 3/10\n",
            "1563/1563 [==============================] - 5s 3ms/step - loss: 0.1119 - accuracy: 0.9666 - val_loss: 0.0925 - val_accuracy: 0.9720\n",
            "Epoch 4/10\n",
            "1563/1563 [==============================] - 6s 4ms/step - loss: 0.0958 - accuracy: 0.9714 - val_loss: 0.0827 - val_accuracy: 0.9746\n",
            "Epoch 5/10\n",
            "1563/1563 [==============================] - 6s 4ms/step - loss: 0.0809 - accuracy: 0.9750 - val_loss: 0.0809 - val_accuracy: 0.9760\n",
            "Epoch 6/10\n",
            "1563/1563 [==============================] - 5s 3ms/step - loss: 0.0743 - accuracy: 0.9763 - val_loss: 0.0751 - val_accuracy: 0.9772\n",
            "Epoch 7/10\n",
            "1563/1563 [==============================] - 7s 4ms/step - loss: 0.0665 - accuracy: 0.9786 - val_loss: 0.0729 - val_accuracy: 0.9774\n",
            "Epoch 8/10\n",
            "1563/1563 [==============================] - 5s 3ms/step - loss: 0.0589 - accuracy: 0.9809 - val_loss: 0.0721 - val_accuracy: 0.9794\n",
            "Epoch 9/10\n",
            "1563/1563 [==============================] - 6s 4ms/step - loss: 0.0569 - accuracy: 0.9816 - val_loss: 0.0738 - val_accuracy: 0.9783\n",
            "Epoch 10/10\n",
            "1563/1563 [==============================] - 5s 3ms/step - loss: 0.0516 - accuracy: 0.9834 - val_loss: 0.0747 - val_accuracy: 0.9783\n",
            "313/313 [==============================] - 1s 2ms/step - loss: 0.0732 - accuracy: 0.9794\n",
            "relu   [0.07317063957452774, 0.9793999791145325]\n",
            "Epoch 1/10\n",
            "1563/1563 [==============================] - 6s 4ms/step - loss: 1.0333 - accuracy: 0.7558 - val_loss: 0.5132 - val_accuracy: 0.9294\n",
            "Epoch 2/10\n",
            "1563/1563 [==============================] - 6s 4ms/step - loss: 0.7013 - accuracy: 0.7879 - val_loss: 0.3611 - val_accuracy: 0.9361\n",
            "Epoch 3/10\n",
            "1563/1563 [==============================] - 5s 4ms/step - loss: 0.6287 - accuracy: 0.8094 - val_loss: 0.3000 - val_accuracy: 0.9388\n",
            "Epoch 4/10\n",
            "1563/1563 [==============================] - 7s 4ms/step - loss: 0.5789 - accuracy: 0.8209 - val_loss: 0.2770 - val_accuracy: 0.9379\n",
            "Epoch 5/10\n",
            "1563/1563 [==============================] - 5s 3ms/step - loss: 0.5587 - accuracy: 0.8266 - val_loss: 0.2547 - val_accuracy: 0.9421\n",
            "Epoch 6/10\n",
            "1563/1563 [==============================] - 7s 5ms/step - loss: 0.5391 - accuracy: 0.8294 - val_loss: 0.2447 - val_accuracy: 0.9427\n",
            "Epoch 7/10\n",
            "1563/1563 [==============================] - 5s 3ms/step - loss: 0.5305 - accuracy: 0.8323 - val_loss: 0.2380 - val_accuracy: 0.9417\n",
            "Epoch 8/10\n",
            "1563/1563 [==============================] - 7s 4ms/step - loss: 0.5179 - accuracy: 0.8352 - val_loss: 0.2317 - val_accuracy: 0.9422\n",
            "Epoch 9/10\n",
            "1563/1563 [==============================] - 5s 3ms/step - loss: 0.4978 - accuracy: 0.8465 - val_loss: 0.2224 - val_accuracy: 0.9438\n",
            "Epoch 10/10\n",
            "1563/1563 [==============================] - 5s 3ms/step - loss: 0.4775 - accuracy: 0.8531 - val_loss: 0.2242 - val_accuracy: 0.9416\n",
            "313/313 [==============================] - 1s 2ms/step - loss: 0.2236 - accuracy: 0.9443\n",
            "softmax   [0.22363808751106262, 0.9442999958992004]\n",
            "Epoch 1/10\n",
            "1563/1563 [==============================] - 14s 8ms/step - loss: 0.3777 - accuracy: 0.8931 - val_loss: 0.2848 - val_accuracy: 0.9178\n",
            "Epoch 2/10\n",
            "1563/1563 [==============================] - 11s 7ms/step - loss: 0.3124 - accuracy: 0.9144 - val_loss: 0.2923 - val_accuracy: 0.9166\n",
            "Epoch 3/10\n",
            "1563/1563 [==============================] - 8s 5ms/step - loss: 0.2991 - accuracy: 0.9164 - val_loss: 0.2801 - val_accuracy: 0.9222\n",
            "Epoch 4/10\n",
            "1563/1563 [==============================] - 5s 3ms/step - loss: 0.2950 - accuracy: 0.9168 - val_loss: 0.2834 - val_accuracy: 0.9205\n",
            "Epoch 5/10\n",
            "1563/1563 [==============================] - 5s 3ms/step - loss: 0.2905 - accuracy: 0.9192 - val_loss: 0.2877 - val_accuracy: 0.9179\n",
            "Epoch 6/10\n",
            "1563/1563 [==============================] - 7s 4ms/step - loss: 0.2868 - accuracy: 0.9205 - val_loss: 0.2893 - val_accuracy: 0.9172\n",
            "Epoch 7/10\n",
            "1563/1563 [==============================] - 5s 3ms/step - loss: 0.2843 - accuracy: 0.9202 - val_loss: 0.2955 - val_accuracy: 0.9169\n",
            "Epoch 8/10\n",
            "1563/1563 [==============================] - 7s 4ms/step - loss: 0.2833 - accuracy: 0.9209 - val_loss: 0.2772 - val_accuracy: 0.9226\n",
            "Epoch 9/10\n",
            "1563/1563 [==============================] - 7s 4ms/step - loss: 0.2799 - accuracy: 0.9217 - val_loss: 0.2868 - val_accuracy: 0.9181\n",
            "Epoch 10/10\n",
            "1563/1563 [==============================] - 7s 4ms/step - loss: 0.2786 - accuracy: 0.9231 - val_loss: 0.2781 - val_accuracy: 0.9224\n",
            "313/313 [==============================] - 1s 2ms/step - loss: 0.2848 - accuracy: 0.9209\n",
            "linear   [0.28484347462654114, 0.9208999872207642]\n",
            "Epoch 1/10\n",
            "1563/1563 [==============================] - 6s 3ms/step - loss: 0.2693 - accuracy: 0.9190 - val_loss: 0.1689 - val_accuracy: 0.9488\n",
            "Epoch 2/10\n",
            "1563/1563 [==============================] - 7s 4ms/step - loss: 0.1623 - accuracy: 0.9514 - val_loss: 0.1329 - val_accuracy: 0.9604\n",
            "Epoch 3/10\n",
            "1563/1563 [==============================] - 5s 3ms/step - loss: 0.1304 - accuracy: 0.9608 - val_loss: 0.1123 - val_accuracy: 0.9643\n",
            "Epoch 4/10\n",
            "1563/1563 [==============================] - 6s 4ms/step - loss: 0.1110 - accuracy: 0.9656 - val_loss: 0.1039 - val_accuracy: 0.9681\n",
            "Epoch 5/10\n",
            "1563/1563 [==============================] - 6s 4ms/step - loss: 0.0976 - accuracy: 0.9703 - val_loss: 0.0962 - val_accuracy: 0.9703\n",
            "Epoch 6/10\n",
            "1563/1563 [==============================] - 5s 3ms/step - loss: 0.0862 - accuracy: 0.9726 - val_loss: 0.0923 - val_accuracy: 0.9707\n",
            "Epoch 7/10\n",
            "1563/1563 [==============================] - 6s 4ms/step - loss: 0.0778 - accuracy: 0.9751 - val_loss: 0.0896 - val_accuracy: 0.9728\n",
            "Epoch 8/10\n",
            "1563/1563 [==============================] - 5s 3ms/step - loss: 0.0717 - accuracy: 0.9763 - val_loss: 0.0878 - val_accuracy: 0.9732\n",
            "Epoch 9/10\n",
            "1563/1563 [==============================] - 5s 3ms/step - loss: 0.0672 - accuracy: 0.9782 - val_loss: 0.0846 - val_accuracy: 0.9742\n",
            "Epoch 10/10\n",
            "1563/1563 [==============================] - 6s 4ms/step - loss: 0.0633 - accuracy: 0.9797 - val_loss: 0.0863 - val_accuracy: 0.9740\n",
            "313/313 [==============================] - 1s 2ms/step - loss: 0.0880 - accuracy: 0.9747\n",
            "tanh   [0.08802622556686401, 0.9746999740600586]\n"
          ]
        }
      ]
    },
    {
      "cell_type": "markdown",
      "source": [
        "### 7"
      ],
      "metadata": {
        "id": "qbdTN7yxyt28"
      }
    },
    {
      "cell_type": "code",
      "source": [
        "model =  create_model(loss='mean_squared_error')\n",
        "his = model.fit(x_train, y_train_cat, batch_size=32, epochs=10, validation_data=(x_valid, y_valid))\n",
        "model.evaluate(x_test, y_test_cat)"
      ],
      "metadata": {
        "colab": {
          "base_uri": "https://localhost:8080/"
        },
        "id": "fN1655YRvogA",
        "outputId": "8039fee0-e025-4370-dfb6-fdbc8ba28312"
      },
      "execution_count": 18,
      "outputs": [
        {
          "output_type": "stream",
          "name": "stdout",
          "text": [
            "Epoch 1/10\n",
            "1563/1563 [==============================] - 6s 4ms/step - loss: 0.0120 - accuracy: 0.9195 - val_loss: 0.0070 - val_accuracy: 0.9532\n",
            "Epoch 2/10\n",
            "1563/1563 [==============================] - 7s 5ms/step - loss: 0.0069 - accuracy: 0.9563 - val_loss: 0.0055 - val_accuracy: 0.9640\n",
            "Epoch 3/10\n",
            "1563/1563 [==============================] - 5s 3ms/step - loss: 0.0056 - accuracy: 0.9648 - val_loss: 0.0049 - val_accuracy: 0.9681\n",
            "Epoch 4/10\n",
            "1563/1563 [==============================] - 6s 4ms/step - loss: 0.0049 - accuracy: 0.9687 - val_loss: 0.0045 - val_accuracy: 0.9701\n",
            "Epoch 5/10\n",
            "1563/1563 [==============================] - 6s 4ms/step - loss: 0.0043 - accuracy: 0.9731 - val_loss: 0.0043 - val_accuracy: 0.9714\n",
            "Epoch 6/10\n",
            "1563/1563 [==============================] - 5s 3ms/step - loss: 0.0040 - accuracy: 0.9750 - val_loss: 0.0041 - val_accuracy: 0.9737\n",
            "Epoch 7/10\n",
            "1563/1563 [==============================] - 7s 5ms/step - loss: 0.0037 - accuracy: 0.9765 - val_loss: 0.0039 - val_accuracy: 0.9742\n",
            "Epoch 8/10\n",
            "1563/1563 [==============================] - 5s 3ms/step - loss: 0.0034 - accuracy: 0.9782 - val_loss: 0.0040 - val_accuracy: 0.9737\n",
            "Epoch 9/10\n",
            "1563/1563 [==============================] - 7s 5ms/step - loss: 0.0031 - accuracy: 0.9808 - val_loss: 0.0037 - val_accuracy: 0.9762\n",
            "Epoch 10/10\n",
            "1563/1563 [==============================] - 5s 3ms/step - loss: 0.0031 - accuracy: 0.9804 - val_loss: 0.0035 - val_accuracy: 0.9770\n",
            "313/313 [==============================] - 1s 2ms/step - loss: 27.3377 - accuracy: 0.0995\n"
          ]
        },
        {
          "output_type": "execute_result",
          "data": {
            "text/plain": [
              "[27.337656021118164, 0.09950000047683716]"
            ]
          },
          "metadata": {},
          "execution_count": 18
        }
      ]
    },
    {
      "cell_type": "code",
      "source": [
        "model =  create_model(loss='binary_crossentropy')\n",
        "his = model.fit(x_train, y_train_cat, batch_size=32, epochs=10, validation_data=(x_valid, y_valid))\n",
        "model.evaluate(x_test, y_test_cat)"
      ],
      "metadata": {
        "colab": {
          "base_uri": "https://localhost:8080/"
        },
        "id": "fNYXW1kFwPDN",
        "outputId": "9e48730b-f52b-40fc-911f-5e9fcba73648"
      },
      "execution_count": 36,
      "outputs": [
        {
          "output_type": "stream",
          "name": "stdout",
          "text": [
            "Epoch 1/10\n",
            "1563/1563 [==============================] - 7s 4ms/step - loss: 0.0599 - accuracy: 0.9083 - val_loss: 0.0349 - val_accuracy: 0.9504\n",
            "Epoch 2/10\n",
            "1563/1563 [==============================] - 5s 3ms/step - loss: 0.0370 - accuracy: 0.9459 - val_loss: 0.0283 - val_accuracy: 0.9574\n",
            "Epoch 3/10\n",
            "1563/1563 [==============================] - 6s 4ms/step - loss: 0.0313 - accuracy: 0.9561 - val_loss: 0.0247 - val_accuracy: 0.9638\n",
            "Epoch 4/10\n",
            "1563/1563 [==============================] - 6s 4ms/step - loss: 0.0275 - accuracy: 0.9622 - val_loss: 0.0229 - val_accuracy: 0.9670\n",
            "Epoch 5/10\n",
            "1563/1563 [==============================] - 5s 3ms/step - loss: 0.0253 - accuracy: 0.9656 - val_loss: 0.0215 - val_accuracy: 0.9701\n",
            "Epoch 6/10\n",
            "1563/1563 [==============================] - 7s 5ms/step - loss: 0.0234 - accuracy: 0.9689 - val_loss: 0.0205 - val_accuracy: 0.9715\n",
            "Epoch 7/10\n",
            "1563/1563 [==============================] - 6s 4ms/step - loss: 0.0219 - accuracy: 0.9708 - val_loss: 0.0194 - val_accuracy: 0.9730\n",
            "Epoch 8/10\n",
            "1563/1563 [==============================] - 7s 4ms/step - loss: 0.0207 - accuracy: 0.9728 - val_loss: 0.0196 - val_accuracy: 0.9738\n",
            "Epoch 9/10\n",
            "1563/1563 [==============================] - 8s 5ms/step - loss: 0.0197 - accuracy: 0.9742 - val_loss: 0.0191 - val_accuracy: 0.9743\n",
            "Epoch 10/10\n",
            "1563/1563 [==============================] - 9s 6ms/step - loss: 0.0187 - accuracy: 0.9763 - val_loss: 0.0192 - val_accuracy: 0.9726\n",
            "313/313 [==============================] - 1s 2ms/step - loss: 0.0174 - accuracy: 0.9755\n"
          ]
        },
        {
          "output_type": "execute_result",
          "data": {
            "text/plain": [
              "[0.017393911257386208, 0.9754999876022339]"
            ]
          },
          "metadata": {},
          "execution_count": 36
        }
      ]
    },
    {
      "cell_type": "markdown",
      "source": [
        "### 6"
      ],
      "metadata": {
        "id": "xaWQK-KrymUb"
      }
    },
    {
      "cell_type": "code",
      "source": [
        "model =  create_model(bias=False)\n",
        "his = model.fit(x_train, y_train_cat, batch_size=32, epochs=10, validation_data=(x_valid, y_valid))\n",
        "model.evaluate(x_test, y_test_cat)"
      ],
      "metadata": {
        "colab": {
          "base_uri": "https://localhost:8080/"
        },
        "id": "z04S6iQ3xlVj",
        "outputId": "f905f8cc-bf52-49fa-f04f-2c703441b9a4"
      },
      "execution_count": 35,
      "outputs": [
        {
          "output_type": "stream",
          "name": "stdout",
          "text": [
            "Epoch 1/10\n",
            "1563/1563 [==============================] - 13s 8ms/step - loss: 0.2482 - accuracy: 0.9252 - val_loss: 0.1347 - val_accuracy: 0.9617\n",
            "Epoch 2/10\n",
            "1563/1563 [==============================] - 10s 6ms/step - loss: 0.1390 - accuracy: 0.9578 - val_loss: 0.1047 - val_accuracy: 0.9683\n",
            "Epoch 3/10\n",
            "1563/1563 [==============================] - 5s 3ms/step - loss: 0.1087 - accuracy: 0.9677 - val_loss: 0.0961 - val_accuracy: 0.9700\n",
            "Epoch 4/10\n",
            "1563/1563 [==============================] - 6s 4ms/step - loss: 0.0905 - accuracy: 0.9717 - val_loss: 0.0831 - val_accuracy: 0.9732\n",
            "Epoch 5/10\n",
            "1563/1563 [==============================] - 5s 4ms/step - loss: 0.0798 - accuracy: 0.9758 - val_loss: 0.0782 - val_accuracy: 0.9753\n",
            "Epoch 6/10\n",
            "1563/1563 [==============================] - 5s 3ms/step - loss: 0.0718 - accuracy: 0.9772 - val_loss: 0.0796 - val_accuracy: 0.9744\n",
            "Epoch 7/10\n",
            "1563/1563 [==============================] - 7s 5ms/step - loss: 0.0645 - accuracy: 0.9784 - val_loss: 0.0747 - val_accuracy: 0.9766\n",
            "Epoch 8/10\n",
            "1563/1563 [==============================] - 5s 3ms/step - loss: 0.0589 - accuracy: 0.9802 - val_loss: 0.0743 - val_accuracy: 0.9780\n",
            "Epoch 9/10\n",
            "1563/1563 [==============================] - 6s 4ms/step - loss: 0.0532 - accuracy: 0.9823 - val_loss: 0.0800 - val_accuracy: 0.9763\n",
            "Epoch 10/10\n",
            "1563/1563 [==============================] - 5s 3ms/step - loss: 0.0486 - accuracy: 0.9846 - val_loss: 0.0779 - val_accuracy: 0.9765\n",
            "313/313 [==============================] - 1s 2ms/step - loss: 0.0771 - accuracy: 0.9778\n"
          ]
        },
        {
          "output_type": "execute_result",
          "data": {
            "text/plain": [
              "[0.07710732519626617, 0.9778000116348267]"
            ]
          },
          "metadata": {},
          "execution_count": 35
        }
      ]
    },
    {
      "cell_type": "code",
      "source": [
        "model =  create_model()\n",
        "his = model.fit(x_train, y_train_cat, batch_size=32, epochs=10, validation_data=(x_valid, y_valid))\n",
        "model.evaluate(x_test, y_test_cat)"
      ],
      "metadata": {
        "colab": {
          "base_uri": "https://localhost:8080/"
        },
        "id": "jgpW6G-9ZE4j",
        "outputId": "c0b32add-6410-45c6-f78b-3f9fde83f0d4"
      },
      "execution_count": 32,
      "outputs": [
        {
          "output_type": "stream",
          "name": "stdout",
          "text": [
            "Epoch 1/10\n",
            "1563/1563 [==============================] - 5s 3ms/step - loss: 0.2489 - accuracy: 0.9259 - val_loss: 0.1286 - val_accuracy: 0.9616\n",
            "Epoch 2/10\n",
            "1563/1563 [==============================] - 5s 3ms/step - loss: 0.1353 - accuracy: 0.9603 - val_loss: 0.1007 - val_accuracy: 0.9697\n",
            "Epoch 3/10\n",
            "1563/1563 [==============================] - 6s 4ms/step - loss: 0.1065 - accuracy: 0.9675 - val_loss: 0.0881 - val_accuracy: 0.9725\n",
            "Epoch 4/10\n",
            "1563/1563 [==============================] - 5s 3ms/step - loss: 0.0879 - accuracy: 0.9727 - val_loss: 0.0838 - val_accuracy: 0.9739\n",
            "Epoch 5/10\n",
            "1563/1563 [==============================] - 6s 4ms/step - loss: 0.0760 - accuracy: 0.9758 - val_loss: 0.0864 - val_accuracy: 0.9752\n",
            "Epoch 6/10\n",
            "1563/1563 [==============================] - 5s 3ms/step - loss: 0.0661 - accuracy: 0.9796 - val_loss: 0.0741 - val_accuracy: 0.9774\n",
            "Epoch 7/10\n",
            "1563/1563 [==============================] - 6s 4ms/step - loss: 0.0614 - accuracy: 0.9807 - val_loss: 0.0720 - val_accuracy: 0.9786\n",
            "Epoch 8/10\n",
            "1563/1563 [==============================] - 5s 3ms/step - loss: 0.0559 - accuracy: 0.9823 - val_loss: 0.0801 - val_accuracy: 0.9763\n",
            "Epoch 9/10\n",
            "1563/1563 [==============================] - 6s 4ms/step - loss: 0.0514 - accuracy: 0.9835 - val_loss: 0.0754 - val_accuracy: 0.9791\n",
            "Epoch 10/10\n",
            "1563/1563 [==============================] - 6s 4ms/step - loss: 0.0453 - accuracy: 0.9853 - val_loss: 0.0709 - val_accuracy: 0.9801\n",
            "313/313 [==============================] - 1s 2ms/step - loss: 0.0715 - accuracy: 0.9774\n"
          ]
        },
        {
          "output_type": "execute_result",
          "data": {
            "text/plain": [
              "[0.07148518413305283, 0.977400004863739]"
            ]
          },
          "metadata": {},
          "execution_count": 32
        }
      ]
    },
    {
      "cell_type": "markdown",
      "source": [
        "### 8"
      ],
      "metadata": {
        "id": "moFFi-2Q3twS"
      }
    },
    {
      "cell_type": "code",
      "source": [
        "batch_sizes = [16, 32, 64, 128, 256]\n",
        "score = []\n",
        "for batch_size in batch_sizes:\n",
        "    model = create_model()\n",
        "    model.fit(x_train, y_train_cat, batch_size=batch_size, epochs=10, validation_data=(x_valid, y_valid))\n",
        "    score.append({batch_size: model.evaluate(x_test, y_test_cat, verbose=0)})"
      ],
      "metadata": {
        "colab": {
          "base_uri": "https://localhost:8080/"
        },
        "id": "IAaij7V_2Gat",
        "outputId": "dace2aac-231d-4b3e-cb69-39bd50e2eb8d"
      },
      "execution_count": 33,
      "outputs": [
        {
          "output_type": "stream",
          "name": "stdout",
          "text": [
            "Epoch 1/10\n",
            "3125/3125 [==============================] - 10s 3ms/step - loss: 0.2530 - accuracy: 0.9234 - val_loss: 0.1362 - val_accuracy: 0.9602\n",
            "Epoch 2/10\n",
            "3125/3125 [==============================] - 10s 3ms/step - loss: 0.1429 - accuracy: 0.9576 - val_loss: 0.1130 - val_accuracy: 0.9666\n",
            "Epoch 3/10\n",
            "3125/3125 [==============================] - 9s 3ms/step - loss: 0.1114 - accuracy: 0.9649 - val_loss: 0.0875 - val_accuracy: 0.9734\n",
            "Epoch 4/10\n",
            "3125/3125 [==============================] - 8s 3ms/step - loss: 0.0907 - accuracy: 0.9713 - val_loss: 0.0766 - val_accuracy: 0.9771\n",
            "Epoch 5/10\n",
            "3125/3125 [==============================] - 9s 3ms/step - loss: 0.0801 - accuracy: 0.9749 - val_loss: 0.0783 - val_accuracy: 0.9767\n",
            "Epoch 6/10\n",
            "3125/3125 [==============================] - 9s 3ms/step - loss: 0.0723 - accuracy: 0.9765 - val_loss: 0.0805 - val_accuracy: 0.9761\n",
            "Epoch 7/10\n",
            "3125/3125 [==============================] - 8s 3ms/step - loss: 0.0659 - accuracy: 0.9792 - val_loss: 0.0766 - val_accuracy: 0.9793\n",
            "Epoch 8/10\n",
            "3125/3125 [==============================] - 9s 3ms/step - loss: 0.0607 - accuracy: 0.9810 - val_loss: 0.0818 - val_accuracy: 0.9777\n",
            "Epoch 9/10\n",
            "3125/3125 [==============================] - 9s 3ms/step - loss: 0.0560 - accuracy: 0.9815 - val_loss: 0.0816 - val_accuracy: 0.9768\n",
            "Epoch 10/10\n",
            "3125/3125 [==============================] - 8s 3ms/step - loss: 0.0527 - accuracy: 0.9834 - val_loss: 0.0813 - val_accuracy: 0.9778\n",
            "Epoch 1/10\n",
            "1563/1563 [==============================] - 6s 4ms/step - loss: 0.2519 - accuracy: 0.9240 - val_loss: 0.1419 - val_accuracy: 0.9566\n",
            "Epoch 2/10\n",
            "1563/1563 [==============================] - 5s 3ms/step - loss: 0.1398 - accuracy: 0.9584 - val_loss: 0.1073 - val_accuracy: 0.9676\n",
            "Epoch 3/10\n",
            "1563/1563 [==============================] - 6s 4ms/step - loss: 0.1108 - accuracy: 0.9666 - val_loss: 0.0951 - val_accuracy: 0.9711\n",
            "Epoch 4/10\n",
            "1563/1563 [==============================] - 6s 4ms/step - loss: 0.0947 - accuracy: 0.9707 - val_loss: 0.0836 - val_accuracy: 0.9749\n",
            "Epoch 5/10\n",
            "1563/1563 [==============================] - 5s 3ms/step - loss: 0.0812 - accuracy: 0.9746 - val_loss: 0.0822 - val_accuracy: 0.9745\n",
            "Epoch 6/10\n",
            "1563/1563 [==============================] - 6s 4ms/step - loss: 0.0709 - accuracy: 0.9777 - val_loss: 0.0775 - val_accuracy: 0.9772\n",
            "Epoch 7/10\n",
            "1563/1563 [==============================] - 5s 3ms/step - loss: 0.0652 - accuracy: 0.9796 - val_loss: 0.0758 - val_accuracy: 0.9793\n",
            "Epoch 8/10\n",
            "1563/1563 [==============================] - 6s 4ms/step - loss: 0.0594 - accuracy: 0.9811 - val_loss: 0.0783 - val_accuracy: 0.9776\n",
            "Epoch 9/10\n",
            "1563/1563 [==============================] - 5s 3ms/step - loss: 0.0542 - accuracy: 0.9824 - val_loss: 0.0800 - val_accuracy: 0.9783\n",
            "Epoch 10/10\n",
            "1563/1563 [==============================] - 7s 4ms/step - loss: 0.0495 - accuracy: 0.9839 - val_loss: 0.0795 - val_accuracy: 0.9780\n",
            "Epoch 1/10\n",
            "782/782 [==============================] - 6s 5ms/step - loss: 0.2563 - accuracy: 0.9237 - val_loss: 0.1346 - val_accuracy: 0.9580\n",
            "Epoch 2/10\n",
            "782/782 [==============================] - 3s 4ms/step - loss: 0.1361 - accuracy: 0.9600 - val_loss: 0.1031 - val_accuracy: 0.9685\n",
            "Epoch 3/10\n",
            "782/782 [==============================] - 4s 5ms/step - loss: 0.1085 - accuracy: 0.9668 - val_loss: 0.0907 - val_accuracy: 0.9714\n",
            "Epoch 4/10\n",
            "782/782 [==============================] - 3s 4ms/step - loss: 0.0919 - accuracy: 0.9723 - val_loss: 0.0818 - val_accuracy: 0.9741\n",
            "Epoch 5/10\n",
            "782/782 [==============================] - 3s 4ms/step - loss: 0.0783 - accuracy: 0.9758 - val_loss: 0.0777 - val_accuracy: 0.9753\n",
            "Epoch 6/10\n",
            "782/782 [==============================] - 4s 5ms/step - loss: 0.0698 - accuracy: 0.9781 - val_loss: 0.0701 - val_accuracy: 0.9777\n",
            "Epoch 7/10\n",
            "782/782 [==============================] - 3s 4ms/step - loss: 0.0614 - accuracy: 0.9809 - val_loss: 0.0717 - val_accuracy: 0.9782\n",
            "Epoch 8/10\n",
            "782/782 [==============================] - 3s 4ms/step - loss: 0.0565 - accuracy: 0.9814 - val_loss: 0.0681 - val_accuracy: 0.9796\n",
            "Epoch 9/10\n",
            "782/782 [==============================] - 3s 4ms/step - loss: 0.0503 - accuracy: 0.9840 - val_loss: 0.0729 - val_accuracy: 0.9795\n",
            "Epoch 10/10\n",
            "782/782 [==============================] - 4s 5ms/step - loss: 0.0491 - accuracy: 0.9837 - val_loss: 0.0670 - val_accuracy: 0.9806\n",
            "Epoch 1/10\n",
            "391/391 [==============================] - 3s 6ms/step - loss: 0.2947 - accuracy: 0.9130 - val_loss: 0.1585 - val_accuracy: 0.9523\n",
            "Epoch 2/10\n",
            "391/391 [==============================] - 2s 5ms/step - loss: 0.1564 - accuracy: 0.9541 - val_loss: 0.1196 - val_accuracy: 0.9635\n",
            "Epoch 3/10\n",
            "391/391 [==============================] - 2s 5ms/step - loss: 0.1228 - accuracy: 0.9648 - val_loss: 0.1046 - val_accuracy: 0.9675\n",
            "Epoch 4/10\n",
            "391/391 [==============================] - 2s 5ms/step - loss: 0.1040 - accuracy: 0.9694 - val_loss: 0.0912 - val_accuracy: 0.9724\n",
            "Epoch 5/10\n",
            "391/391 [==============================] - 3s 8ms/step - loss: 0.0919 - accuracy: 0.9729 - val_loss: 0.0900 - val_accuracy: 0.9735\n",
            "Epoch 6/10\n",
            "391/391 [==============================] - 2s 5ms/step - loss: 0.0813 - accuracy: 0.9757 - val_loss: 0.0800 - val_accuracy: 0.9757\n",
            "Epoch 7/10\n",
            "391/391 [==============================] - 2s 5ms/step - loss: 0.0737 - accuracy: 0.9774 - val_loss: 0.0745 - val_accuracy: 0.9767\n",
            "Epoch 8/10\n",
            "391/391 [==============================] - 2s 5ms/step - loss: 0.0661 - accuracy: 0.9795 - val_loss: 0.0752 - val_accuracy: 0.9768\n",
            "Epoch 9/10\n",
            "391/391 [==============================] - 2s 5ms/step - loss: 0.0603 - accuracy: 0.9807 - val_loss: 0.0701 - val_accuracy: 0.9791\n",
            "Epoch 10/10\n",
            "391/391 [==============================] - 2s 5ms/step - loss: 0.0554 - accuracy: 0.9829 - val_loss: 0.0707 - val_accuracy: 0.9792\n",
            "Epoch 1/10\n",
            "196/196 [==============================] - 2s 9ms/step - loss: 0.3268 - accuracy: 0.9011 - val_loss: 0.1644 - val_accuracy: 0.9522\n",
            "Epoch 2/10\n",
            "196/196 [==============================] - 1s 7ms/step - loss: 0.1650 - accuracy: 0.9518 - val_loss: 0.1253 - val_accuracy: 0.9639\n",
            "Epoch 3/10\n",
            "196/196 [==============================] - 1s 7ms/step - loss: 0.1301 - accuracy: 0.9619 - val_loss: 0.1081 - val_accuracy: 0.9661\n",
            "Epoch 4/10\n",
            "196/196 [==============================] - 1s 7ms/step - loss: 0.1125 - accuracy: 0.9672 - val_loss: 0.0970 - val_accuracy: 0.9714\n",
            "Epoch 5/10\n",
            "196/196 [==============================] - 1s 7ms/step - loss: 0.0985 - accuracy: 0.9706 - val_loss: 0.0910 - val_accuracy: 0.9718\n",
            "Epoch 6/10\n",
            "196/196 [==============================] - 1s 7ms/step - loss: 0.0880 - accuracy: 0.9741 - val_loss: 0.0861 - val_accuracy: 0.9743\n",
            "Epoch 7/10\n",
            "196/196 [==============================] - 1s 7ms/step - loss: 0.0798 - accuracy: 0.9758 - val_loss: 0.0816 - val_accuracy: 0.9747\n",
            "Epoch 8/10\n",
            "196/196 [==============================] - 2s 11ms/step - loss: 0.0725 - accuracy: 0.9781 - val_loss: 0.0790 - val_accuracy: 0.9768\n",
            "Epoch 9/10\n",
            "196/196 [==============================] - 2s 9ms/step - loss: 0.0664 - accuracy: 0.9799 - val_loss: 0.0785 - val_accuracy: 0.9758\n",
            "Epoch 10/10\n",
            "196/196 [==============================] - 1s 7ms/step - loss: 0.0640 - accuracy: 0.9805 - val_loss: 0.0766 - val_accuracy: 0.9771\n"
          ]
        }
      ]
    },
    {
      "cell_type": "code",
      "source": [
        "score"
      ],
      "metadata": {
        "colab": {
          "base_uri": "https://localhost:8080/"
        },
        "id": "hnuehgMz2OwB",
        "outputId": "f1ccd2fb-96a2-480e-e90f-f2367e00b467"
      },
      "execution_count": 34,
      "outputs": [
        {
          "output_type": "execute_result",
          "data": {
            "text/plain": [
              "[{16: [0.07844255119562149, 0.9800999760627747]},\n",
              " {32: [0.07763683795928955, 0.9779000282287598]},\n",
              " {64: [0.07159138470888138, 0.9776999950408936]},\n",
              " {128: [0.06727094948291779, 0.9793000221252441]},\n",
              " {256: [0.07758907973766327, 0.975600004196167]}]"
            ]
          },
          "metadata": {},
          "execution_count": 34
        }
      ]
    },
    {
      "cell_type": "code",
      "source": [
        "from PIL import Image\n",
        "from keras.models import load_model\n",
        "\n",
        "image_path = '5.png'\n",
        "image = Image.open(image_path).convert('L')\n",
        "image = image.resize((28, 28))\n",
        "image = np.array(image) / 255.0\n",
        "image = np.reshape(image, (1, 28, 28))\n",
        "\n",
        "print(np.argmax(model.predict(image)))\n",
        "\n",
        "plt.imshow(image[0], cmap='gray')\n",
        "plt.axis('off')\n",
        "plt.show()"
      ],
      "metadata": {
        "id": "CE67Eoho1He5",
        "colab": {
          "base_uri": "https://localhost:8080/",
          "height": 441
        },
        "outputId": "c3856536-d771-49fc-ea69-7f7456969ed6"
      },
      "execution_count": 25,
      "outputs": [
        {
          "output_type": "stream",
          "name": "stdout",
          "text": [
            "1/1 [==============================] - 0s 19ms/step\n",
            "5\n"
          ]
        },
        {
          "output_type": "display_data",
          "data": {
            "text/plain": [
              "<Figure size 640x480 with 1 Axes>"
            ],
            "image/png": "[encoded data removed]"
          },
          "metadata": {}
        }
      ]
    }
  ]
}