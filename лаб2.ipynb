{
  "nbformat": 4,
  "nbformat_minor": 0,
  "metadata": {
    "colab": {
      "provenance": [],
      "authorship_tag": "ABX9TyM6u4KpQ0I5Gi3RpOO5ZvNY"
    },
    "kernelspec": {
      "name": "python3",
      "display_name": "Python 3"
    },
    "language_info": {
      "name": "python"
    }
  },
  "cells": [
    {
      "cell_type": "code",
      "source": [
        "import os\n",
        "os.environ['TF_CPP_MIN_LOG_LEVEL'] = '2'\n",
        "\n",
        "import numpy as np\n",
        "import matplotlib.pyplot as plt\n",
        "from tensorflow.keras.datasets import mnist\n",
        "from tensorflow import keras\n",
        "from keras.utils import to_categorical\n",
        "from tensorflow.keras.layers import Dense, Flatten, Dropout\n",
        "from keras.optimizers.legacy import Adam, RMSprop, SGD\n",
        "from tensorflow.keras import activations\n",
        "from tensorflow.keras.layers import ReLU\n",
        "\n",
        "\n",
        "from sklearn.model_selection import train_test_split\n",
        "from sklearn.model_selection import GridSearchCV\n",
        "\n",
        "try:\n",
        "    import scikeras\n",
        "except ImportError:\n",
        "    !python -m pip install scikeras\n",
        "from scikeras.wrappers import KerasRegressor\n",
        "\n",
        "from scikeras.wrappers import KerasClassifier\n",
        "import pandas as pd\n",
        "import seaborn as sns"
      ],
      "metadata": {
        "id": "J0UPAfMCCtnJ",
        "colab": {
          "base_uri": "https://localhost:8080/"
        },
        "outputId": "fce10523-5177-4b2d-e90b-c744b3854b95"
      },
      "execution_count": 1,
      "outputs": [
        {
          "output_type": "stream",
          "name": "stdout",
          "text": [
            "Collecting scikeras\n",
            "  Downloading scikeras-0.12.0-py3-none-any.whl (27 kB)\n",
            "Requirement already satisfied: packaging>=0.21 in /usr/local/lib/python3.10/dist-packages (from scikeras) (23.2)\n",
            "Requirement already satisfied: scikit-learn>=1.0.0 in /usr/local/lib/python3.10/dist-packages (from scikeras) (1.2.2)\n",
            "Requirement already satisfied: numpy>=1.17.3 in /usr/local/lib/python3.10/dist-packages (from scikit-learn>=1.0.0->scikeras) (1.23.5)\n",
            "Requirement already satisfied: scipy>=1.3.2 in /usr/local/lib/python3.10/dist-packages (from scikit-learn>=1.0.0->scikeras) (1.11.4)\n",
            "Requirement already satisfied: joblib>=1.1.1 in /usr/local/lib/python3.10/dist-packages (from scikit-learn>=1.0.0->scikeras) (1.3.2)\n",
            "Requirement already satisfied: threadpoolctl>=2.0.0 in /usr/local/lib/python3.10/dist-packages (from scikit-learn>=1.0.0->scikeras) (3.2.0)\n",
            "Installing collected packages: scikeras\n",
            "Successfully installed scikeras-0.12.0\n"
          ]
        }
      ]
    },
    {
      "cell_type": "code",
      "source": [
        "(x_train, y_train), (x_test, y_test) = mnist.load_data()\n",
        "\n",
        "\n",
        "x_train = x_train / 255\n",
        "x_test = x_test / 255\n",
        "y_train_cat = to_categorical(y_train, 10)\n",
        "y_test_cat = to_categorical(y_test, 10)\n",
        "\n",
        "\n",
        "x_train, x_valid, y_train_cat, y_valid = train_test_split(x_train, y_train_cat, test_size=10000, random_state=42)"
      ],
      "metadata": {
        "id": "3VpQR773AA7q",
        "colab": {
          "base_uri": "https://localhost:8080/"
        },
        "outputId": "dac0a091-1783-4dc1-b23e-25d6c29986a1"
      },
      "execution_count": 2,
      "outputs": [
        {
          "output_type": "stream",
          "name": "stdout",
          "text": [
            "Downloading data from https://storage.googleapis.com/tensorflow/tf-keras-datasets/mnist.npz\n",
            "11490434/11490434 [==============================] - 0s 0us/step\n"
          ]
        }
      ]
    },
    {
      "cell_type": "code",
      "source": [
        "x_train_20000, _, y_train_20000, _ = train_test_split(x_train, y_train_cat, train_size=20000, random_state=42)"
      ],
      "metadata": {
        "id": "SsUNh4GUSdEz"
      },
      "execution_count": 3,
      "outputs": []
    },
    {
      "cell_type": "code",
      "source": [
        "def create_model(optimizer=Adam(), activation='relu',loss = 'categorical_crossentropy', bias=True):\n",
        "    model = keras.Sequential([\n",
        "        Flatten(input_shape=(28, 28, 1)),\n",
        "        Dense(64, activation=activation, use_bias=bias),\n",
        "        Dense(10, activation='softmax', use_bias=bias)\n",
        "    ])\n",
        "    model.compile(optimizer=optimizer,\n",
        "             loss=loss,\n",
        "             metrics=['accuracy'])\n",
        "    return model\n"
      ],
      "metadata": {
        "id": "QEv1JkGToFLG"
      },
      "execution_count": 14,
      "outputs": []
    },
    {
      "cell_type": "code",
      "source": [
        "model =  create_model()"
      ],
      "metadata": {
        "id": "UNXb8pIBLZ_5"
      },
      "execution_count": 15,
      "outputs": []
    },
    {
      "cell_type": "code",
      "source": [
        "print(model.summary())"
      ],
      "metadata": {
        "colab": {
          "base_uri": "https://localhost:8080/"
        },
        "id": "Fw4vmtBNMKbi",
        "outputId": "76b4fab8-43a7-4ba4-80f2-3ec148b94838"
      },
      "execution_count": 16,
      "outputs": [
        {
          "output_type": "stream",
          "name": "stdout",
          "text": [
            "Model: \"sequential_3\"\n",
            "_________________________________________________________________\n",
            " Layer (type)                Output Shape              Param #   \n",
            "=================================================================\n",
            " flatten_3 (Flatten)         (None, 784)               0         \n",
            "                                                                 \n",
            " dense_6 (Dense)             (None, 64)                50240     \n",
            "                                                                 \n",
            " dense_7 (Dense)             (None, 10)                650       \n",
            "                                                                 \n",
            "=================================================================\n",
            "Total params: 50890 (198.79 KB)\n",
            "Trainable params: 50890 (198.79 KB)\n",
            "Non-trainable params: 0 (0.00 Byte)\n",
            "_________________________________________________________________\n",
            "None\n"
          ]
        }
      ]
    },
    {
      "cell_type": "code",
      "source": [
        "his = model.fit(x_train, y_train_cat, epochs=10, validation_data=(x_valid, y_valid))\n",
        "\n",
        "\n",
        "plt.plot(his.history['loss'])\n",
        "plt.plot(his.history['val_loss'])\n",
        "plt.show()\n",
        "\n",
        "model.evaluate(x_test, y_test_cat)"
      ],
      "metadata": {
        "colab": {
          "base_uri": "https://localhost:8080/",
          "height": 812
        },
        "id": "3DE2Oy9fNIok",
        "outputId": "3b2e283f-5963-430a-cde4-edda5d328bd8"
      },
      "execution_count": 17,
      "outputs": [
        {
          "output_type": "stream",
          "name": "stdout",
          "text": [
            "Epoch 1/10\n",
            "1563/1563 [==============================] - 10s 6ms/step - loss: 0.3250 - accuracy: 0.9088 - val_loss: 0.2014 - val_accuracy: 0.9410\n",
            "Epoch 2/10\n",
            "1563/1563 [==============================] - 6s 4ms/step - loss: 0.1656 - accuracy: 0.9528 - val_loss: 0.1459 - val_accuracy: 0.9574\n",
            "Epoch 3/10\n",
            "1563/1563 [==============================] - 4s 3ms/step - loss: 0.1237 - accuracy: 0.9634 - val_loss: 0.1226 - val_accuracy: 0.9640\n",
            "Epoch 4/10\n",
            "1563/1563 [==============================] - 6s 4ms/step - loss: 0.0985 - accuracy: 0.9706 - val_loss: 0.1202 - val_accuracy: 0.9631\n",
            "Epoch 5/10\n",
            "1563/1563 [==============================] - 4s 3ms/step - loss: 0.0806 - accuracy: 0.9762 - val_loss: 0.1003 - val_accuracy: 0.9692\n",
            "Epoch 6/10\n",
            "1563/1563 [==============================] - 4s 3ms/step - loss: 0.0682 - accuracy: 0.9790 - val_loss: 0.0961 - val_accuracy: 0.9696\n",
            "Epoch 7/10\n",
            "1563/1563 [==============================] - 6s 4ms/step - loss: 0.0573 - accuracy: 0.9823 - val_loss: 0.0981 - val_accuracy: 0.9702\n",
            "Epoch 8/10\n",
            "1563/1563 [==============================] - 4s 3ms/step - loss: 0.0483 - accuracy: 0.9853 - val_loss: 0.0946 - val_accuracy: 0.9707\n",
            "Epoch 9/10\n",
            "1563/1563 [==============================] - 4s 3ms/step - loss: 0.0432 - accuracy: 0.9867 - val_loss: 0.0931 - val_accuracy: 0.9738\n",
            "Epoch 10/10\n",
            "1563/1563 [==============================] - 6s 4ms/step - loss: 0.0369 - accuracy: 0.9882 - val_loss: 0.0922 - val_accuracy: 0.9736\n"
          ]
        },
        {
          "output_type": "display_data",
          "data": {
            "text/plain": [
              "<Figure size 640x480 with 1 Axes>"
            ],
            "image/png": "[encoded data removed]"
          },
          "metadata": {}
        },
        {
          "output_type": "stream",
          "name": "stdout",
          "text": [
            "313/313 [==============================] - 1s 2ms/step - loss: 0.0924 - accuracy: 0.9727\n"
          ]
        },
        {
          "output_type": "execute_result",
          "data": {
            "text/plain": [
              "[0.0924324244260788, 0.9726999998092651]"
            ]
          },
          "metadata": {},
          "execution_count": 17
        }
      ]
    },
    {
      "cell_type": "code",
      "source": [
        "model.evaluate(x_test, y_test_cat)"
      ],
      "metadata": {
        "colab": {
          "base_uri": "https://localhost:8080/"
        },
        "id": "BKcOTA40OBvK",
        "outputId": "9831bba6-82a7-46bd-985d-4ae5fcb26150"
      },
      "execution_count": 18,
      "outputs": [
        {
          "output_type": "stream",
          "name": "stdout",
          "text": [
            "313/313 [==============================] - 1s 2ms/step - loss: 0.0924 - accuracy: 0.9727\n"
          ]
        },
        {
          "output_type": "execute_result",
          "data": {
            "text/plain": [
              "[0.0924324244260788, 0.9726999998092651]"
            ]
          },
          "metadata": {},
          "execution_count": 18
        }
      ]
    },
    {
      "cell_type": "code",
      "source": [
        "pred = model.predict(x_test)\n",
        "pred = np.argmax(pred, axis=1)\n",
        "\n",
        "print(pred.shape)\n",
        "\n",
        "print(pred[:5])\n",
        "print(y_test[:5])\n",
        "\n",
        "mask = pred == y_test\n",
        "\n",
        "x_false = x_test[~mask]\n",
        "y_false = x_test[~mask]\n",
        "p_false = pred[~mask]\n",
        "\n",
        "for i in range(5):\n",
        "    print(\"Значение сети: \"+str(p_false[i]))\n",
        "    plt.imshow(x_false[i], cmap=plt.cm.binary)\n",
        "    plt.show()"
      ],
      "metadata": {
        "id": "WN2CG2UYOBzn",
        "colab": {
          "base_uri": "https://localhost:8080/",
          "height": 1000
        },
        "outputId": "fd61e3b8-f131-4b3c-da07-65d0b6015cfe"
      },
      "execution_count": 19,
      "outputs": [
        {
          "output_type": "stream",
          "name": "stdout",
          "text": [
            "313/313 [==============================] - 1s 2ms/step\n",
            "(10000,)\n",
            "[7 2 1 0 4]\n",
            "[7 2 1 0 4]\n",
            "Значение сети: 8\n"
          ]
        },
        {
          "output_type": "display_data",
          "data": {
            "text/plain": [
              "<Figure size 640x480 with 1 Axes>"
            ],
            "image/png": "[encoded data removed]"
          },
          "metadata": {}
        },
        {
          "output_type": "stream",
          "name": "stdout",
          "text": [
            "Значение сети: 9\n"
          ]
        },
        {
          "output_type": "display_data",
          "data": {
            "text/plain": [
              "<Figure size 640x480 with 1 Axes>"
            ],
            "image/png": "[encoded data removed]"
          },
          "metadata": {}
        },
        {
          "output_type": "stream",
          "name": "stdout",
          "text": [
            "Значение сети: 2\n"
          ]
        },
        {
          "output_type": "display_data",
          "data": {
            "text/plain": [
              "<Figure size 640x480 with 1 Axes>"
            ],
            "image/png": "[encoded data removed]"
          },
          "metadata": {}
        },
        {
          "output_type": "stream",
          "name": "stdout",
          "text": [
            "Значение сети: 3\n"
          ]
        },
        {
          "output_type": "display_data",
          "data": {
            "text/plain": [
              "<Figure size 640x480 with 1 Axes>"
            ],
            "image/png": "[encoded data removed]"
          },
          "metadata": {}
        },
        {
          "output_type": "stream",
          "name": "stdout",
          "text": [
            "Значение сети: 7\n"
          ]
        },
        {
          "output_type": "display_data",
          "data": {
            "text/plain": [
              "<Figure size 640x480 with 1 Axes>"
            ],
            "image/png": "[encoded data removed]"
          },
          "metadata": {}
        }
      ]
    },
    {
      "cell_type": "code",
      "source": [
        "his_20000 = model.fit(x_train_20000, y_train_20000,  epochs=10, validation_data=(x_valid, y_valid))\n",
        "model.evaluate(x_test, y_test_cat)"
      ],
      "metadata": {
        "colab": {
          "base_uri": "https://localhost:8080/"
        },
        "id": "27EbQx5kNO9S",
        "outputId": "f5e53e77-ee5b-47f8-c76e-0762472c9a64"
      },
      "execution_count": 21,
      "outputs": [
        {
          "output_type": "stream",
          "name": "stdout",
          "text": [
            "Epoch 1/10\n",
            "625/625 [==============================] - 3s 4ms/step - loss: 0.0092 - accuracy: 0.9984 - val_loss: 0.0955 - val_accuracy: 0.9740\n",
            "Epoch 2/10\n",
            "625/625 [==============================] - 2s 3ms/step - loss: 0.0070 - accuracy: 0.9995 - val_loss: 0.1018 - val_accuracy: 0.9724\n",
            "Epoch 3/10\n",
            "625/625 [==============================] - 2s 3ms/step - loss: 0.0070 - accuracy: 0.9990 - val_loss: 0.1191 - val_accuracy: 0.9675\n",
            "Epoch 4/10\n",
            "625/625 [==============================] - 2s 3ms/step - loss: 0.0081 - accuracy: 0.9983 - val_loss: 0.1056 - val_accuracy: 0.9730\n",
            "Epoch 5/10\n",
            "625/625 [==============================] - 6s 9ms/step - loss: 0.0043 - accuracy: 0.9998 - val_loss: 0.1203 - val_accuracy: 0.9707\n",
            "Epoch 6/10\n",
            "625/625 [==============================] - 2s 3ms/step - loss: 0.0032 - accuracy: 0.9999 - val_loss: 0.1107 - val_accuracy: 0.9730\n",
            "Epoch 7/10\n",
            "625/625 [==============================] - 2s 4ms/step - loss: 0.0040 - accuracy: 0.9993 - val_loss: 0.1127 - val_accuracy: 0.9731\n",
            "Epoch 8/10\n",
            "625/625 [==============================] - 2s 3ms/step - loss: 0.0089 - accuracy: 0.9978 - val_loss: 0.1204 - val_accuracy: 0.9722\n",
            "Epoch 9/10\n",
            "625/625 [==============================] - 2s 3ms/step - loss: 0.0048 - accuracy: 0.9990 - val_loss: 0.1212 - val_accuracy: 0.9728\n",
            "Epoch 10/10\n",
            "625/625 [==============================] - 3s 5ms/step - loss: 0.0038 - accuracy: 0.9994 - val_loss: 0.1179 - val_accuracy: 0.9730\n",
            "313/313 [==============================] - 1s 2ms/step - loss: 0.1134 - accuracy: 0.9720\n"
          ]
        },
        {
          "output_type": "execute_result",
          "data": {
            "text/plain": [
              "[0.1134420782327652, 0.972000002861023]"
            ]
          },
          "metadata": {},
          "execution_count": 21
        }
      ]
    },
    {
      "cell_type": "code",
      "source": [
        "model =  create_model()\n",
        "his = model.fit(x_train, y_train_cat, batch_size=32, epochs=10, validation_data=(x_valid, y_valid))\n",
        "\n",
        "\n",
        "plt.plot(his.history['loss'])\n",
        "plt.plot(his.history['val_loss'])\n",
        "plt.show()\n",
        "\n",
        "model.evaluate(x_test, y_test_cat)"
      ],
      "metadata": {
        "colab": {
          "base_uri": "https://localhost:8080/",
          "height": 812
        },
        "id": "YWQBuBG6dDpv",
        "outputId": "880142b2-104a-4c18-dca4-bb9f06990ccd"
      },
      "execution_count": 22,
      "outputs": [
        {
          "output_type": "stream",
          "name": "stdout",
          "text": [
            "Epoch 1/10\n",
            "1563/1563 [==============================] - 9s 5ms/step - loss: 0.2452 - accuracy: 0.9277 - val_loss: 0.1654 - val_accuracy: 0.9521\n",
            "Epoch 2/10\n",
            "1563/1563 [==============================] - 4s 3ms/step - loss: 0.1343 - accuracy: 0.9613 - val_loss: 0.1254 - val_accuracy: 0.9632\n",
            "Epoch 3/10\n",
            "1563/1563 [==============================] - 6s 4ms/step - loss: 0.1047 - accuracy: 0.9696 - val_loss: 0.1171 - val_accuracy: 0.9638\n",
            "Epoch 4/10\n",
            "1563/1563 [==============================] - 4s 3ms/step - loss: 0.0849 - accuracy: 0.9750 - val_loss: 0.1027 - val_accuracy: 0.9682\n",
            "Epoch 5/10\n",
            "1563/1563 [==============================] - 4s 2ms/step - loss: 0.0711 - accuracy: 0.9787 - val_loss: 0.1048 - val_accuracy: 0.9682\n",
            "Epoch 6/10\n",
            "1563/1563 [==============================] - 6s 4ms/step - loss: 0.0619 - accuracy: 0.9815 - val_loss: 0.0997 - val_accuracy: 0.9693\n",
            "Epoch 7/10\n",
            "1563/1563 [==============================] - 4s 3ms/step - loss: 0.0531 - accuracy: 0.9836 - val_loss: 0.0968 - val_accuracy: 0.9703\n",
            "Epoch 8/10\n",
            "1563/1563 [==============================] - 4s 3ms/step - loss: 0.0464 - accuracy: 0.9863 - val_loss: 0.0937 - val_accuracy: 0.9709\n",
            "Epoch 9/10\n",
            "1563/1563 [==============================] - 6s 4ms/step - loss: 0.0404 - accuracy: 0.9881 - val_loss: 0.0965 - val_accuracy: 0.9729\n",
            "Epoch 10/10\n",
            "1563/1563 [==============================] - 4s 3ms/step - loss: 0.0347 - accuracy: 0.9895 - val_loss: 0.0925 - val_accuracy: 0.9723\n"
          ]
        },
        {
          "output_type": "display_data",
          "data": {
            "text/plain": [
              "<Figure size 640x480 with 1 Axes>"
            ],
            "image/png": "[encoded data removed]"
          },
          "metadata": {}
        },
        {
          "output_type": "stream",
          "name": "stdout",
          "text": [
            "313/313 [==============================] - 1s 2ms/step - loss: 0.0937 - accuracy: 0.9707\n"
          ]
        },
        {
          "output_type": "execute_result",
          "data": {
            "text/plain": [
              "[0.09365144371986389, 0.9707000255584717]"
            ]
          },
          "metadata": {},
          "execution_count": 22
        }
      ]
    },
    {
      "cell_type": "code",
      "source": [
        "model = KerasClassifier(model=create_model, verbose=1)"
      ],
      "metadata": {
        "id": "PWOHE48JpC1l"
      },
      "execution_count": 9,
      "outputs": []
    },
    {
      "cell_type": "markdown",
      "source": [
        "### 5"
      ],
      "metadata": {
        "id": "MVPnUPbsyw-Q"
      }
    },
    {
      "cell_type": "code",
      "source": [
        "for act in ['relu', 'softmax', 'linear','tanh']:\n",
        "  model =  create_model(activation=act)\n",
        "  his = model.fit(x_train, y_train_cat,  epochs=10, validation_data=(x_valid, y_valid))\n",
        "\n",
        "  print(act,' ',model.evaluate(x_test, y_test_cat))"
      ],
      "metadata": {
        "colab": {
          "base_uri": "https://localhost:8080/"
        },
        "id": "zJe3dkZ_XGPW",
        "outputId": "94fdf953-c9ff-467b-d8b6-ba6294a01996"
      },
      "execution_count": 27,
      "outputs": [
        {
          "output_type": "stream",
          "name": "stdout",
          "text": [
            "Epoch 1/10\n",
            "1563/1563 [==============================] - 10s 6ms/step - loss: 0.2568 - accuracy: 0.9258 - val_loss: 0.1633 - val_accuracy: 0.9544\n",
            "Epoch 2/10\n",
            "1563/1563 [==============================] - 6s 4ms/step - loss: 0.1390 - accuracy: 0.9605 - val_loss: 0.1334 - val_accuracy: 0.9601\n",
            "Epoch 3/10\n",
            "1563/1563 [==============================] - 6s 4ms/step - loss: 0.1059 - accuracy: 0.9696 - val_loss: 0.1088 - val_accuracy: 0.9677\n",
            "Epoch 4/10\n",
            "1563/1563 [==============================] - 4s 3ms/step - loss: 0.0873 - accuracy: 0.9750 - val_loss: 0.1026 - val_accuracy: 0.9693\n",
            "Epoch 5/10\n",
            "1563/1563 [==============================] - 6s 4ms/step - loss: 0.0733 - accuracy: 0.9784 - val_loss: 0.1004 - val_accuracy: 0.9710\n",
            "Epoch 6/10\n",
            "1563/1563 [==============================] - 4s 3ms/step - loss: 0.0629 - accuracy: 0.9819 - val_loss: 0.0934 - val_accuracy: 0.9719\n",
            "Epoch 7/10\n",
            "1563/1563 [==============================] - 5s 3ms/step - loss: 0.0536 - accuracy: 0.9842 - val_loss: 0.0910 - val_accuracy: 0.9724\n",
            "Epoch 8/10\n",
            "1563/1563 [==============================] - 5s 3ms/step - loss: 0.0461 - accuracy: 0.9860 - val_loss: 0.0935 - val_accuracy: 0.9725\n",
            "Epoch 9/10\n",
            "1563/1563 [==============================] - 4s 3ms/step - loss: 0.0401 - accuracy: 0.9881 - val_loss: 0.0955 - val_accuracy: 0.9701\n",
            "Epoch 10/10\n",
            "1563/1563 [==============================] - 6s 4ms/step - loss: 0.0351 - accuracy: 0.9894 - val_loss: 0.0936 - val_accuracy: 0.9726\n",
            "313/313 [==============================] - 1s 2ms/step - loss: 0.1031 - accuracy: 0.9708\n",
            "relu   [0.10309632867574692, 0.97079998254776]\n",
            "Epoch 1/10\n",
            "1563/1563 [==============================] - 5s 3ms/step - loss: 0.9069 - accuracy: 0.8060 - val_loss: 0.5642 - val_accuracy: 0.8464\n",
            "Epoch 2/10\n",
            "1563/1563 [==============================] - 5s 3ms/step - loss: 0.4595 - accuracy: 0.8889 - val_loss: 0.3679 - val_accuracy: 0.9171\n",
            "Epoch 3/10\n",
            "1563/1563 [==============================] - 4s 3ms/step - loss: 0.3178 - accuracy: 0.9278 - val_loss: 0.2949 - val_accuracy: 0.9305\n",
            "Epoch 4/10\n",
            "1563/1563 [==============================] - 4s 3ms/step - loss: 0.2716 - accuracy: 0.9338 - val_loss: 0.2775 - val_accuracy: 0.9311\n",
            "Epoch 5/10\n",
            "1563/1563 [==============================] - 6s 4ms/step - loss: 0.2496 - accuracy: 0.9381 - val_loss: 0.2593 - val_accuracy: 0.9327\n",
            "Epoch 6/10\n",
            "1563/1563 [==============================] - 6s 4ms/step - loss: 0.2346 - accuracy: 0.9418 - val_loss: 0.2537 - val_accuracy: 0.9345\n",
            "Epoch 7/10\n",
            "1563/1563 [==============================] - 10s 6ms/step - loss: 0.2231 - accuracy: 0.9436 - val_loss: 0.2453 - val_accuracy: 0.9369\n",
            "Epoch 8/10\n",
            "1563/1563 [==============================] - 4s 3ms/step - loss: 0.2148 - accuracy: 0.9450 - val_loss: 0.2464 - val_accuracy: 0.9355\n",
            "Epoch 9/10\n",
            "1563/1563 [==============================] - 4s 3ms/step - loss: 0.2071 - accuracy: 0.9467 - val_loss: 0.2323 - val_accuracy: 0.9381\n",
            "Epoch 10/10\n",
            "1563/1563 [==============================] - 6s 4ms/step - loss: 0.2006 - accuracy: 0.9487 - val_loss: 0.2295 - val_accuracy: 0.9397\n",
            "313/313 [==============================] - 1s 2ms/step - loss: 0.2331 - accuracy: 0.9388\n",
            "softmax   [0.23310144245624542, 0.9387999773025513]\n",
            "Epoch 1/10\n",
            "1563/1563 [==============================] - 5s 3ms/step - loss: 0.3478 - accuracy: 0.9004 - val_loss: 0.2885 - val_accuracy: 0.9171\n",
            "Epoch 2/10\n",
            "1563/1563 [==============================] - 6s 4ms/step - loss: 0.2887 - accuracy: 0.9188 - val_loss: 0.2751 - val_accuracy: 0.9227\n",
            "Epoch 3/10\n",
            "1563/1563 [==============================] - 5s 3ms/step - loss: 0.2790 - accuracy: 0.9229 - val_loss: 0.2774 - val_accuracy: 0.9217\n",
            "Epoch 4/10\n",
            "1563/1563 [==============================] - 4s 3ms/step - loss: 0.2736 - accuracy: 0.9248 - val_loss: 0.2774 - val_accuracy: 0.9212\n",
            "Epoch 5/10\n",
            "1563/1563 [==============================] - 7s 4ms/step - loss: 0.2693 - accuracy: 0.9255 - val_loss: 0.2849 - val_accuracy: 0.9202\n",
            "Epoch 6/10\n",
            "1563/1563 [==============================] - 7s 4ms/step - loss: 0.2681 - accuracy: 0.9249 - val_loss: 0.2906 - val_accuracy: 0.9173\n",
            "Epoch 7/10\n",
            "1563/1563 [==============================] - 6s 4ms/step - loss: 0.2641 - accuracy: 0.9267 - val_loss: 0.2909 - val_accuracy: 0.9177\n",
            "Epoch 8/10\n",
            "1563/1563 [==============================] - 4s 3ms/step - loss: 0.2620 - accuracy: 0.9273 - val_loss: 0.2796 - val_accuracy: 0.9196\n",
            "Epoch 9/10\n",
            "1563/1563 [==============================] - 4s 3ms/step - loss: 0.2603 - accuracy: 0.9270 - val_loss: 0.2738 - val_accuracy: 0.9245\n",
            "Epoch 10/10\n",
            "1563/1563 [==============================] - 6s 4ms/step - loss: 0.2568 - accuracy: 0.9280 - val_loss: 0.2933 - val_accuracy: 0.9208\n",
            "313/313 [==============================] - 1s 2ms/step - loss: 0.2928 - accuracy: 0.9198\n",
            "linear   [0.2927693724632263, 0.9197999835014343]\n",
            "Epoch 1/10\n",
            "1563/1563 [==============================] - 7s 5ms/step - loss: 0.2474 - accuracy: 0.9278 - val_loss: 0.1629 - val_accuracy: 0.9525\n",
            "Epoch 2/10\n",
            "1563/1563 [==============================] - 4s 3ms/step - loss: 0.1407 - accuracy: 0.9604 - val_loss: 0.1350 - val_accuracy: 0.9603\n",
            "Epoch 3/10\n",
            "1563/1563 [==============================] - 4s 3ms/step - loss: 0.1084 - accuracy: 0.9690 - val_loss: 0.1151 - val_accuracy: 0.9682\n",
            "Epoch 4/10\n",
            "1563/1563 [==============================] - 6s 4ms/step - loss: 0.0869 - accuracy: 0.9758 - val_loss: 0.1093 - val_accuracy: 0.9672\n",
            "Epoch 5/10\n",
            "1563/1563 [==============================] - 4s 3ms/step - loss: 0.0715 - accuracy: 0.9793 - val_loss: 0.1019 - val_accuracy: 0.9716\n",
            "Epoch 6/10\n",
            "1563/1563 [==============================] - 4s 3ms/step - loss: 0.0607 - accuracy: 0.9824 - val_loss: 0.0981 - val_accuracy: 0.9714\n",
            "Epoch 7/10\n",
            "1563/1563 [==============================] - 6s 4ms/step - loss: 0.0506 - accuracy: 0.9860 - val_loss: 0.0996 - val_accuracy: 0.9699\n",
            "Epoch 8/10\n",
            "1563/1563 [==============================] - 4s 3ms/step - loss: 0.0436 - accuracy: 0.9881 - val_loss: 0.0930 - val_accuracy: 0.9720\n",
            "Epoch 9/10\n",
            "1563/1563 [==============================] - 4s 3ms/step - loss: 0.0376 - accuracy: 0.9902 - val_loss: 0.0935 - val_accuracy: 0.9714\n",
            "Epoch 10/10\n",
            "1563/1563 [==============================] - 6s 4ms/step - loss: 0.0318 - accuracy: 0.9922 - val_loss: 0.0894 - val_accuracy: 0.9738\n",
            "313/313 [==============================] - 1s 2ms/step - loss: 0.0938 - accuracy: 0.9707\n",
            "tanh   [0.09384774416685104, 0.9707000255584717]\n"
          ]
        }
      ]
    },
    {
      "cell_type": "markdown",
      "source": [
        "### 7"
      ],
      "metadata": {
        "id": "qbdTN7yxyt28"
      }
    },
    {
      "cell_type": "code",
      "source": [
        "model =  create_model(loss='mean_squared_error')\n",
        "his = model.fit(x_train, y_train_cat, epochs=10, validation_data=(x_valid, y_valid))\n",
        "model.evaluate(x_test, y_test_cat)"
      ],
      "metadata": {
        "colab": {
          "base_uri": "https://localhost:8080/"
        },
        "id": "fN1655YRvogA",
        "outputId": "f87084de-dd7a-48a3-aa73-07ea7cfa16dd"
      },
      "execution_count": 28,
      "outputs": [
        {
          "output_type": "stream",
          "name": "stdout",
          "text": [
            "Epoch 1/10\n",
            "1563/1563 [==============================] - 6s 3ms/step - loss: 0.0110 - accuracy: 0.9279 - val_loss: 0.0074 - val_accuracy: 0.9517\n",
            "Epoch 2/10\n",
            "1563/1563 [==============================] - 4s 3ms/step - loss: 0.0062 - accuracy: 0.9613 - val_loss: 0.0066 - val_accuracy: 0.9566\n",
            "Epoch 3/10\n",
            "1563/1563 [==============================] - 6s 4ms/step - loss: 0.0049 - accuracy: 0.9698 - val_loss: 0.0054 - val_accuracy: 0.9656\n",
            "Epoch 4/10\n",
            "1563/1563 [==============================] - 4s 3ms/step - loss: 0.0041 - accuracy: 0.9753 - val_loss: 0.0053 - val_accuracy: 0.9650\n",
            "Epoch 5/10\n",
            "1563/1563 [==============================] - 5s 3ms/step - loss: 0.0036 - accuracy: 0.9785 - val_loss: 0.0047 - val_accuracy: 0.9698\n",
            "Epoch 6/10\n",
            "1563/1563 [==============================] - 6s 4ms/step - loss: 0.0031 - accuracy: 0.9809 - val_loss: 0.0044 - val_accuracy: 0.9722\n",
            "Epoch 7/10\n",
            "1563/1563 [==============================] - 4s 3ms/step - loss: 0.0027 - accuracy: 0.9839 - val_loss: 0.0047 - val_accuracy: 0.9701\n",
            "Epoch 8/10\n",
            "1563/1563 [==============================] - 4s 3ms/step - loss: 0.0024 - accuracy: 0.9860 - val_loss: 0.0044 - val_accuracy: 0.9705\n",
            "Epoch 9/10\n",
            "1563/1563 [==============================] - 6s 4ms/step - loss: 0.0022 - accuracy: 0.9872 - val_loss: 0.0042 - val_accuracy: 0.9729\n",
            "Epoch 10/10\n",
            "1563/1563 [==============================] - 4s 3ms/step - loss: 0.0020 - accuracy: 0.9886 - val_loss: 0.0042 - val_accuracy: 0.9723\n",
            "313/313 [==============================] - 1s 2ms/step - loss: 0.0044 - accuracy: 0.9698\n"
          ]
        },
        {
          "output_type": "execute_result",
          "data": {
            "text/plain": [
              "[0.004418617580085993, 0.9697999954223633]"
            ]
          },
          "metadata": {},
          "execution_count": 28
        }
      ]
    },
    {
      "cell_type": "code",
      "source": [
        "model =  create_model(loss='binary_crossentropy')\n",
        "his = model.fit(x_train, y_train_cat,  epochs=10, validation_data=(x_valid, y_valid))\n",
        "model.evaluate(x_test, y_test_cat)"
      ],
      "metadata": {
        "colab": {
          "base_uri": "https://localhost:8080/"
        },
        "id": "fNYXW1kFwPDN",
        "outputId": "8a323c1f-499e-44d0-8682-36c68666b622"
      },
      "execution_count": 29,
      "outputs": [
        {
          "output_type": "stream",
          "name": "stdout",
          "text": [
            "Epoch 1/10\n",
            "1563/1563 [==============================] - 5s 3ms/step - loss: 0.0593 - accuracy: 0.9143 - val_loss: 0.0405 - val_accuracy: 0.9415\n",
            "Epoch 2/10\n",
            "1563/1563 [==============================] - 6s 4ms/step - loss: 0.0355 - accuracy: 0.9501 - val_loss: 0.0328 - val_accuracy: 0.9547\n",
            "Epoch 3/10\n",
            "1563/1563 [==============================] - 4s 3ms/step - loss: 0.0292 - accuracy: 0.9601 - val_loss: 0.0296 - val_accuracy: 0.9579\n",
            "Epoch 4/10\n",
            "1563/1563 [==============================] - 4s 3ms/step - loss: 0.0256 - accuracy: 0.9659 - val_loss: 0.0274 - val_accuracy: 0.9620\n",
            "Epoch 5/10\n",
            "1563/1563 [==============================] - 6s 4ms/step - loss: 0.0228 - accuracy: 0.9700 - val_loss: 0.0265 - val_accuracy: 0.9628\n",
            "Epoch 6/10\n",
            "1563/1563 [==============================] - 5s 3ms/step - loss: 0.0209 - accuracy: 0.9728 - val_loss: 0.0255 - val_accuracy: 0.9657\n",
            "Epoch 7/10\n",
            "1563/1563 [==============================] - 5s 3ms/step - loss: 0.0193 - accuracy: 0.9751 - val_loss: 0.0244 - val_accuracy: 0.9668\n",
            "Epoch 8/10\n",
            "1563/1563 [==============================] - 5s 3ms/step - loss: 0.0179 - accuracy: 0.9775 - val_loss: 0.0242 - val_accuracy: 0.9688\n",
            "Epoch 9/10\n",
            "1563/1563 [==============================] - 4s 3ms/step - loss: 0.0167 - accuracy: 0.9792 - val_loss: 0.0247 - val_accuracy: 0.9673\n",
            "Epoch 10/10\n",
            "1563/1563 [==============================] - 5s 3ms/step - loss: 0.0158 - accuracy: 0.9802 - val_loss: 0.0237 - val_accuracy: 0.9691\n",
            "313/313 [==============================] - 1s 3ms/step - loss: 0.0237 - accuracy: 0.9683\n"
          ]
        },
        {
          "output_type": "execute_result",
          "data": {
            "text/plain": [
              "[0.02365819923579693, 0.9682999849319458]"
            ]
          },
          "metadata": {},
          "execution_count": 29
        }
      ]
    },
    {
      "cell_type": "markdown",
      "source": [
        "### 6"
      ],
      "metadata": {
        "id": "xaWQK-KrymUb"
      }
    },
    {
      "cell_type": "code",
      "source": [
        "model =  create_model(bias=False)\n",
        "his = model.fit(x_train, y_train_cat,  epochs=10, validation_data=(x_valid, y_valid))\n",
        "model.evaluate(x_test, y_test_cat)"
      ],
      "metadata": {
        "colab": {
          "base_uri": "https://localhost:8080/"
        },
        "id": "z04S6iQ3xlVj",
        "outputId": "427d955f-579c-4554-d171-3ef95d52d084"
      },
      "execution_count": 30,
      "outputs": [
        {
          "output_type": "stream",
          "name": "stdout",
          "text": [
            "Epoch 1/10\n",
            "1563/1563 [==============================] - 8s 5ms/step - loss: 0.2398 - accuracy: 0.9293 - val_loss: 0.1570 - val_accuracy: 0.9534\n",
            "Epoch 2/10\n",
            "1563/1563 [==============================] - 9s 5ms/step - loss: 0.1286 - accuracy: 0.9626 - val_loss: 0.1178 - val_accuracy: 0.9648\n",
            "Epoch 3/10\n",
            "1563/1563 [==============================] - 6s 4ms/step - loss: 0.0973 - accuracy: 0.9708 - val_loss: 0.1030 - val_accuracy: 0.9696\n",
            "Epoch 4/10\n",
            "1563/1563 [==============================] - 4s 3ms/step - loss: 0.0791 - accuracy: 0.9765 - val_loss: 0.1051 - val_accuracy: 0.9683\n",
            "Epoch 5/10\n",
            "1563/1563 [==============================] - 4s 3ms/step - loss: 0.0650 - accuracy: 0.9804 - val_loss: 0.0913 - val_accuracy: 0.9713\n",
            "Epoch 6/10\n",
            "1563/1563 [==============================] - 6s 4ms/step - loss: 0.0557 - accuracy: 0.9835 - val_loss: 0.0937 - val_accuracy: 0.9722\n",
            "Epoch 7/10\n",
            "1563/1563 [==============================] - 4s 3ms/step - loss: 0.0472 - accuracy: 0.9859 - val_loss: 0.0925 - val_accuracy: 0.9730\n",
            "Epoch 8/10\n",
            "1563/1563 [==============================] - 4s 3ms/step - loss: 0.0390 - accuracy: 0.9888 - val_loss: 0.0901 - val_accuracy: 0.9746\n",
            "Epoch 9/10\n",
            "1563/1563 [==============================] - 6s 4ms/step - loss: 0.0354 - accuracy: 0.9893 - val_loss: 0.0884 - val_accuracy: 0.9758\n",
            "Epoch 10/10\n",
            "1563/1563 [==============================] - 4s 3ms/step - loss: 0.0293 - accuracy: 0.9917 - val_loss: 0.0924 - val_accuracy: 0.9733\n",
            "313/313 [==============================] - 1s 2ms/step - loss: 0.0903 - accuracy: 0.9729\n"
          ]
        },
        {
          "output_type": "execute_result",
          "data": {
            "text/plain": [
              "[0.09028208255767822, 0.9728999733924866]"
            ]
          },
          "metadata": {},
          "execution_count": 30
        }
      ]
    },
    {
      "cell_type": "code",
      "source": [
        "model =  create_model()\n",
        "his = model.fit(x_train, y_train_cat, epochs=10, validation_data=(x_valid, y_valid))\n",
        "model.evaluate(x_test, y_test_cat)"
      ],
      "metadata": {
        "colab": {
          "base_uri": "https://localhost:8080/"
        },
        "id": "jgpW6G-9ZE4j",
        "outputId": "0dafd355-a0be-40ca-a366-8c1e70b983ef"
      },
      "execution_count": 31,
      "outputs": [
        {
          "output_type": "stream",
          "name": "stdout",
          "text": [
            "Epoch 1/10\n",
            "1563/1563 [==============================] - 7s 4ms/step - loss: 0.2473 - accuracy: 0.9261 - val_loss: 0.1528 - val_accuracy: 0.9542\n",
            "Epoch 2/10\n",
            "1563/1563 [==============================] - 4s 3ms/step - loss: 0.1278 - accuracy: 0.9625 - val_loss: 0.1233 - val_accuracy: 0.9617\n",
            "Epoch 3/10\n",
            "1563/1563 [==============================] - 4s 3ms/step - loss: 0.0938 - accuracy: 0.9732 - val_loss: 0.1061 - val_accuracy: 0.9684\n",
            "Epoch 4/10\n",
            "1563/1563 [==============================] - 6s 4ms/step - loss: 0.0765 - accuracy: 0.9772 - val_loss: 0.0925 - val_accuracy: 0.9705\n",
            "Epoch 5/10\n",
            "1563/1563 [==============================] - 4s 3ms/step - loss: 0.0618 - accuracy: 0.9817 - val_loss: 0.0946 - val_accuracy: 0.9694\n",
            "Epoch 6/10\n",
            "1563/1563 [==============================] - 5s 3ms/step - loss: 0.0531 - accuracy: 0.9840 - val_loss: 0.0866 - val_accuracy: 0.9742\n",
            "Epoch 7/10\n",
            "1563/1563 [==============================] - 5s 3ms/step - loss: 0.0447 - accuracy: 0.9868 - val_loss: 0.0844 - val_accuracy: 0.9744\n",
            "Epoch 8/10\n",
            "1563/1563 [==============================] - 4s 3ms/step - loss: 0.0379 - accuracy: 0.9887 - val_loss: 0.0872 - val_accuracy: 0.9734\n",
            "Epoch 9/10\n",
            "1563/1563 [==============================] - 6s 4ms/step - loss: 0.0326 - accuracy: 0.9901 - val_loss: 0.0861 - val_accuracy: 0.9758\n",
            "Epoch 10/10\n",
            "1563/1563 [==============================] - 4s 3ms/step - loss: 0.0286 - accuracy: 0.9915 - val_loss: 0.0890 - val_accuracy: 0.9745\n",
            "313/313 [==============================] - 1s 2ms/step - loss: 0.0958 - accuracy: 0.9734\n"
          ]
        },
        {
          "output_type": "execute_result",
          "data": {
            "text/plain": [
              "[0.0958351343870163, 0.9733999967575073]"
            ]
          },
          "metadata": {},
          "execution_count": 31
        }
      ]
    },
    {
      "cell_type": "markdown",
      "source": [
        "### 8"
      ],
      "metadata": {
        "id": "moFFi-2Q3twS"
      }
    },
    {
      "cell_type": "code",
      "source": [
        "batch_sizes = [16, 32, 64, 128, 256]\n",
        "score = []\n",
        "for batch_size in batch_sizes:\n",
        "    model = create_model()\n",
        "    model.fit(x_train, y_train_cat, batch_size=batch_size, epochs=10, validation_data=(x_valid, y_valid))\n",
        "    score.append({batch_size: model.evaluate(x_test, y_test_cat, verbose=0)})"
      ],
      "metadata": {
        "colab": {
          "base_uri": "https://localhost:8080/"
        },
        "id": "IAaij7V_2Gat",
        "outputId": "41c34c8a-de42-4b40-a76f-56f93a64b7c6"
      },
      "execution_count": 32,
      "outputs": [
        {
          "output_type": "stream",
          "name": "stdout",
          "text": [
            "Epoch 1/10\n",
            "3125/3125 [==============================] - 9s 3ms/step - loss: 0.2252 - accuracy: 0.9342 - val_loss: 0.1438 - val_accuracy: 0.9585\n",
            "Epoch 2/10\n",
            "3125/3125 [==============================] - 11s 3ms/step - loss: 0.1277 - accuracy: 0.9625 - val_loss: 0.1232 - val_accuracy: 0.9643\n",
            "Epoch 3/10\n",
            "3125/3125 [==============================] - 8s 3ms/step - loss: 0.0961 - accuracy: 0.9704 - val_loss: 0.1196 - val_accuracy: 0.9652\n",
            "Epoch 4/10\n",
            "3125/3125 [==============================] - 8s 2ms/step - loss: 0.0770 - accuracy: 0.9767 - val_loss: 0.1036 - val_accuracy: 0.9682\n",
            "Epoch 5/10\n",
            "3125/3125 [==============================] - 9s 3ms/step - loss: 0.0635 - accuracy: 0.9802 - val_loss: 0.0970 - val_accuracy: 0.9704\n",
            "Epoch 6/10\n",
            "3125/3125 [==============================] - 7s 2ms/step - loss: 0.0540 - accuracy: 0.9834 - val_loss: 0.0929 - val_accuracy: 0.9738\n",
            "Epoch 7/10\n",
            "3125/3125 [==============================] - 9s 3ms/step - loss: 0.0465 - accuracy: 0.9864 - val_loss: 0.1027 - val_accuracy: 0.9722\n",
            "Epoch 8/10\n",
            "3125/3125 [==============================] - 8s 3ms/step - loss: 0.0393 - accuracy: 0.9874 - val_loss: 0.1082 - val_accuracy: 0.9712\n",
            "Epoch 9/10\n",
            "3125/3125 [==============================] - 8s 2ms/step - loss: 0.0347 - accuracy: 0.9890 - val_loss: 0.1061 - val_accuracy: 0.9708\n",
            "Epoch 10/10\n",
            "3125/3125 [==============================] - 9s 3ms/step - loss: 0.0302 - accuracy: 0.9909 - val_loss: 0.1017 - val_accuracy: 0.9746\n",
            "Epoch 1/10\n",
            "1563/1563 [==============================] - 5s 3ms/step - loss: 0.2522 - accuracy: 0.9266 - val_loss: 0.1609 - val_accuracy: 0.9514\n",
            "Epoch 2/10\n",
            "1563/1563 [==============================] - 6s 4ms/step - loss: 0.1341 - accuracy: 0.9604 - val_loss: 0.1330 - val_accuracy: 0.9594\n",
            "Epoch 3/10\n",
            "1563/1563 [==============================] - 4s 3ms/step - loss: 0.1015 - accuracy: 0.9703 - val_loss: 0.1077 - val_accuracy: 0.9672\n",
            "Epoch 4/10\n",
            "1563/1563 [==============================] - 4s 3ms/step - loss: 0.0817 - accuracy: 0.9766 - val_loss: 0.0959 - val_accuracy: 0.9719\n",
            "Epoch 5/10\n",
            "1563/1563 [==============================] - 6s 4ms/step - loss: 0.0678 - accuracy: 0.9800 - val_loss: 0.0918 - val_accuracy: 0.9725\n",
            "Epoch 6/10\n",
            "1563/1563 [==============================] - 4s 3ms/step - loss: 0.0574 - accuracy: 0.9828 - val_loss: 0.0862 - val_accuracy: 0.9737\n",
            "Epoch 7/10\n",
            "1563/1563 [==============================] - 4s 3ms/step - loss: 0.0489 - accuracy: 0.9857 - val_loss: 0.0893 - val_accuracy: 0.9750\n",
            "Epoch 8/10\n",
            "1563/1563 [==============================] - 6s 4ms/step - loss: 0.0429 - accuracy: 0.9869 - val_loss: 0.0857 - val_accuracy: 0.9752\n",
            "Epoch 9/10\n",
            "1563/1563 [==============================] - 4s 3ms/step - loss: 0.0362 - accuracy: 0.9891 - val_loss: 0.0890 - val_accuracy: 0.9738\n",
            "Epoch 10/10\n",
            "1563/1563 [==============================] - 4s 3ms/step - loss: 0.0308 - accuracy: 0.9906 - val_loss: 0.0851 - val_accuracy: 0.9745\n",
            "Epoch 1/10\n",
            "782/782 [==============================] - 4s 5ms/step - loss: 0.2590 - accuracy: 0.9244 - val_loss: 0.1609 - val_accuracy: 0.9533\n",
            "Epoch 2/10\n",
            "782/782 [==============================] - 2s 3ms/step - loss: 0.1356 - accuracy: 0.9607 - val_loss: 0.1332 - val_accuracy: 0.9605\n",
            "Epoch 3/10\n",
            "782/782 [==============================] - 2s 3ms/step - loss: 0.1051 - accuracy: 0.9691 - val_loss: 0.1095 - val_accuracy: 0.9674\n",
            "Epoch 4/10\n",
            "782/782 [==============================] - 3s 4ms/step - loss: 0.0858 - accuracy: 0.9752 - val_loss: 0.1071 - val_accuracy: 0.9669\n",
            "Epoch 5/10\n",
            "782/782 [==============================] - 4s 5ms/step - loss: 0.0731 - accuracy: 0.9786 - val_loss: 0.0993 - val_accuracy: 0.9715\n",
            "Epoch 6/10\n",
            "782/782 [==============================] - 3s 4ms/step - loss: 0.0622 - accuracy: 0.9820 - val_loss: 0.0962 - val_accuracy: 0.9704\n",
            "Epoch 7/10\n",
            "782/782 [==============================] - 2s 3ms/step - loss: 0.0547 - accuracy: 0.9839 - val_loss: 0.0938 - val_accuracy: 0.9738\n",
            "Epoch 8/10\n",
            "782/782 [==============================] - 2s 3ms/step - loss: 0.0482 - accuracy: 0.9866 - val_loss: 0.0941 - val_accuracy: 0.9717\n",
            "Epoch 9/10\n",
            "782/782 [==============================] - 2s 3ms/step - loss: 0.0416 - accuracy: 0.9883 - val_loss: 0.0903 - val_accuracy: 0.9737\n",
            "Epoch 10/10\n",
            "782/782 [==============================] - 3s 4ms/step - loss: 0.0375 - accuracy: 0.9893 - val_loss: 0.0881 - val_accuracy: 0.9741\n",
            "Epoch 1/10\n",
            "391/391 [==============================] - 2s 4ms/step - loss: 0.3022 - accuracy: 0.9133 - val_loss: 0.1880 - val_accuracy: 0.9465\n",
            "Epoch 2/10\n",
            "391/391 [==============================] - 2s 4ms/step - loss: 0.1646 - accuracy: 0.9534 - val_loss: 0.1461 - val_accuracy: 0.9575\n",
            "Epoch 3/10\n",
            "391/391 [==============================] - 1s 4ms/step - loss: 0.1299 - accuracy: 0.9625 - val_loss: 0.1297 - val_accuracy: 0.9614\n",
            "Epoch 4/10\n",
            "391/391 [==============================] - 2s 4ms/step - loss: 0.1085 - accuracy: 0.9685 - val_loss: 0.1156 - val_accuracy: 0.9657\n",
            "Epoch 5/10\n",
            "391/391 [==============================] - 2s 4ms/step - loss: 0.0938 - accuracy: 0.9729 - val_loss: 0.1099 - val_accuracy: 0.9668\n",
            "Epoch 6/10\n",
            "391/391 [==============================] - 2s 4ms/step - loss: 0.0828 - accuracy: 0.9766 - val_loss: 0.1059 - val_accuracy: 0.9670\n",
            "Epoch 7/10\n",
            "391/391 [==============================] - 2s 6ms/step - loss: 0.0751 - accuracy: 0.9783 - val_loss: 0.1028 - val_accuracy: 0.9675\n",
            "Epoch 8/10\n",
            "391/391 [==============================] - 2s 5ms/step - loss: 0.0675 - accuracy: 0.9802 - val_loss: 0.1001 - val_accuracy: 0.9681\n",
            "Epoch 9/10\n",
            "391/391 [==============================] - 2s 4ms/step - loss: 0.0610 - accuracy: 0.9827 - val_loss: 0.0946 - val_accuracy: 0.9705\n",
            "Epoch 10/10\n",
            "391/391 [==============================] - 1s 3ms/step - loss: 0.0555 - accuracy: 0.9844 - val_loss: 0.0920 - val_accuracy: 0.9707\n",
            "Epoch 1/10\n",
            "196/196 [==============================] - 2s 6ms/step - loss: 0.3452 - accuracy: 0.8992 - val_loss: 0.1962 - val_accuracy: 0.9430\n",
            "Epoch 2/10\n",
            "196/196 [==============================] - 1s 7ms/step - loss: 0.1756 - accuracy: 0.9502 - val_loss: 0.1593 - val_accuracy: 0.9546\n",
            "Epoch 3/10\n",
            "196/196 [==============================] - 2s 9ms/step - loss: 0.1404 - accuracy: 0.9602 - val_loss: 0.1387 - val_accuracy: 0.9596\n",
            "Epoch 4/10\n",
            "196/196 [==============================] - 1s 6ms/step - loss: 0.1191 - accuracy: 0.9655 - val_loss: 0.1292 - val_accuracy: 0.9624\n",
            "Epoch 5/10\n",
            "196/196 [==============================] - 1s 5ms/step - loss: 0.1047 - accuracy: 0.9701 - val_loss: 0.1224 - val_accuracy: 0.9635\n",
            "Epoch 6/10\n",
            "196/196 [==============================] - 1s 5ms/step - loss: 0.0938 - accuracy: 0.9732 - val_loss: 0.1120 - val_accuracy: 0.9666\n",
            "Epoch 7/10\n",
            "196/196 [==============================] - 1s 5ms/step - loss: 0.0846 - accuracy: 0.9756 - val_loss: 0.1057 - val_accuracy: 0.9680\n",
            "Epoch 8/10\n",
            "196/196 [==============================] - 1s 5ms/step - loss: 0.0774 - accuracy: 0.9777 - val_loss: 0.1026 - val_accuracy: 0.9681\n",
            "Epoch 9/10\n",
            "196/196 [==============================] - 1s 5ms/step - loss: 0.0706 - accuracy: 0.9800 - val_loss: 0.1006 - val_accuracy: 0.9691\n",
            "Epoch 10/10\n",
            "196/196 [==============================] - 1s 5ms/step - loss: 0.0651 - accuracy: 0.9812 - val_loss: 0.0987 - val_accuracy: 0.9704\n"
          ]
        }
      ]
    },
    {
      "cell_type": "code",
      "source": [
        "score"
      ],
      "metadata": {
        "colab": {
          "base_uri": "https://localhost:8080/"
        },
        "id": "hnuehgMz2OwB",
        "outputId": "f4733197-5880-46bb-bb97-b4138caaf6a7"
      },
      "execution_count": 33,
      "outputs": [
        {
          "output_type": "execute_result",
          "data": {
            "text/plain": [
              "[{16: [0.1002638190984726, 0.9739000201225281]},\n",
              " {32: [0.08461322635412216, 0.9743000268936157]},\n",
              " {64: [0.09150716662406921, 0.9732000231742859]},\n",
              " {128: [0.09386425465345383, 0.9718000292778015]},\n",
              " {256: [0.09662950783967972, 0.9685999751091003]}]"
            ]
          },
          "metadata": {},
          "execution_count": 33
        }
      ]
    },
    {
      "cell_type": "code",
      "source": [
        "from PIL import Image\n",
        "from keras.models import load_model\n",
        "\n",
        "image_path = '5.png'\n",
        "image = Image.open(image_path).convert('L')\n",
        "image = image.resize((28, 28))\n",
        "image = np.array(image) / 255.0\n",
        "image = np.reshape(image, (1, 28, 28))\n",
        "\n",
        "print(np.argmax(model.predict(image)))\n",
        "\n",
        "plt.imshow(image[0], cmap='gray')\n",
        "plt.axis('off')\n",
        "plt.show()"
      ],
      "metadata": {
        "colab": {
          "base_uri": "https://localhost:8080/",
          "height": 441
        },
        "id": "wiuhTI81Fw47",
        "outputId": "e47eccd5-b452-431a-ab7e-0e3a397f9368"
      },
      "execution_count": 34,
      "outputs": [
        {
          "output_type": "stream",
          "name": "stdout",
          "text": [
            "1/1 [==============================] - 0s 56ms/step\n",
            "5\n"
          ]
        },
        {
          "output_type": "display_data",
          "data": {
            "text/plain": [
              "<Figure size 640x480 with 1 Axes>"
            ],
            "image/png": "[encoded data removed]"
          },
          "metadata": {}
        }
      ]
    }
  ]
}