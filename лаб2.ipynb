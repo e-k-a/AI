{
  "nbformat": 4,
  "nbformat_minor": 0,
  "metadata": {
    "colab": {
      "provenance": [],
      "authorship_tag": "ABX9TyNco9mm7X0kBC529TUAIg6p",
      "include_colab_link": true
    },
    "kernelspec": {
      "name": "python3",
      "display_name": "Python 3"
    },
    "language_info": {
      "name": "python"
    }
  },
  "cells": [
    {
      "cell_type": "markdown",
      "metadata": {
        "id": "view-in-github",
        "colab_type": "text"
      },
      "source": [
        "<a href=\"https://colab.research.google.com/github/e-k-a/AI/blob/main/%D0%BB%D0%B0%D0%B12.ipynb\" target=\"_parent\"><img src=\"https://colab.research.google.com/assets/colab-badge.svg\" alt=\"Open In Colab\"/></a>"
      ]
    },
    {
      "cell_type": "code",
      "source": [
        "import os\n",
        "os.environ['TF_CPP_MIN_LOG_LEVEL'] = '2'\n",
        "\n",
        "import numpy as np\n",
        "import matplotlib.pyplot as plt\n",
        "from tensorflow.keras.datasets import mnist\n",
        "from tensorflow import keras\n",
        "from keras.utils import to_categorical\n",
        "from tensorflow.keras.layers import Dense, Flatten, Dropout\n",
        "from keras.optimizers.legacy import Adam, RMSprop, SGD\n",
        "from tensorflow.keras import activations\n",
        "from tensorflow.keras.layers import ReLU\n",
        "\n",
        "\n",
        "from sklearn.model_selection import train_test_split\n",
        "from sklearn.model_selection import GridSearchCV\n",
        "\n",
        "try:\n",
        "    import scikeras\n",
        "except ImportError:\n",
        "    !python -m pip install scikeras\n",
        "from scikeras.wrappers import KerasRegressor\n",
        "\n",
        "from scikeras.wrappers import KerasClassifier\n",
        "import pandas as pd\n",
        "import seaborn as sns"
      ],
      "metadata": {
        "id": "J0UPAfMCCtnJ"
      },
      "execution_count": null,
      "outputs": []
    },
    {
      "cell_type": "code",
      "source": [
        "(x_train, y_train), (x_test, y_test) = mnist.load_data()\n",
        "\n",
        "\n",
        "x_train = x_train / 255\n",
        "x_test = x_test / 255\n",
        "y_train_cat = to_categorical(y_train, 10)\n",
        "y_test_cat = to_categorical(y_test, 10)\n",
        "\n",
        "\n",
        "x_train, x_valid, y_train_cat, y_valid = train_test_split(x_train, y_train_cat, test_size=10000, random_state=42)"
      ],
      "metadata": {
        "id": "3VpQR773AA7q"
      },
      "execution_count": null,
      "outputs": []
    },
    {
      "cell_type": "code",
      "source": [
        "x_train_20000, _, y_train_20000, _ = train_test_split(x_train, y_train_cat, train_size=20000, random_state=42)"
      ],
      "metadata": {
        "id": "SsUNh4GUSdEz"
      },
      "execution_count": null,
      "outputs": []
    },
    {
      "cell_type": "code",
      "source": [
        "def create_model(optimizer=Adam(), activation='relu',loss = 'categorical_crossentropy', bias=True):\n",
        "    model = keras.Sequential([\n",
        "        Flatten(input_shape=(28, 28, 1)),\n",
        "        Dense(128, activation=activation, use_bias=bias),\n",
        "        Dropout(0.2),\n",
        "        Dense(10, activation='softmax', use_bias=bias)\n",
        "    ])\n",
        "    model.compile(optimizer=optimizer,\n",
        "             loss=loss,\n",
        "             metrics=['accuracy'])\n",
        "    return model\n"
      ],
      "metadata": {
        "id": "QEv1JkGToFLG"
      },
      "execution_count": null,
      "outputs": []
    },
    {
      "cell_type": "code",
      "source": [
        "model =  create_model()"
      ],
      "metadata": {
        "id": "UNXb8pIBLZ_5"
      },
      "execution_count": null,
      "outputs": []
    },
    {
      "cell_type": "code",
      "source": [
        "print(model.summary())"
      ],
      "metadata": {
        "colab": {
          "base_uri": "https://localhost:8080/"
        },
        "id": "Fw4vmtBNMKbi",
        "outputId": "a5a25742-b7a4-4b99-df83-c7bc9b12ddd2"
      },
      "execution_count": null,
      "outputs": [
        {
          "output_type": "stream",
          "name": "stdout",
          "text": [
            "Model: \"sequential_24\"\n",
            "_________________________________________________________________\n",
            " Layer (type)                Output Shape              Param #   \n",
            "=================================================================\n",
            " flatten_24 (Flatten)        (None, 784)               0         \n",
            "                                                                 \n",
            " dense_48 (Dense)            (None, 128)               100480    \n",
            "                                                                 \n",
            " dropout_24 (Dropout)        (None, 128)               0         \n",
            "                                                                 \n",
            " dense_49 (Dense)            (None, 10)                1290      \n",
            "                                                                 \n",
            "=================================================================\n",
            "Total params: 101770 (397.54 KB)\n",
            "Trainable params: 101770 (397.54 KB)\n",
            "Non-trainable params: 0 (0.00 Byte)\n",
            "_________________________________________________________________\n",
            "None\n"
          ]
        }
      ]
    },
    {
      "cell_type": "code",
      "source": [
        "his = model.fit(x_train, y_train_cat, batch_size=32, epochs=10, validation_data=(x_valid, y_valid))\n",
        "\n",
        "\n",
        "plt.plot(his.history['loss'])\n",
        "plt.plot(his.history['val_loss'])\n",
        "plt.show()\n",
        "\n",
        "model.evaluate(x_test, y_test_cat)"
      ],
      "metadata": {
        "colab": {
          "base_uri": "https://localhost:8080/",
          "height": 812
        },
        "id": "3DE2Oy9fNIok",
        "outputId": "9394a57a-2c60-409d-9d66-85c1451a2f43"
      },
      "execution_count": null,
      "outputs": [
        {
          "output_type": "stream",
          "name": "stdout",
          "text": [
            "Epoch 1/10\n",
            "1563/1563 [==============================] - 6s 4ms/step - loss: 0.3279 - accuracy: 0.9051 - val_loss: 0.1625 - val_accuracy: 0.9527\n",
            "Epoch 2/10\n",
            "1563/1563 [==============================] - 5s 3ms/step - loss: 0.1554 - accuracy: 0.9548 - val_loss: 0.1193 - val_accuracy: 0.9654\n",
            "Epoch 3/10\n",
            "1563/1563 [==============================] - 6s 4ms/step - loss: 0.1176 - accuracy: 0.9645 - val_loss: 0.0938 - val_accuracy: 0.9716\n",
            "Epoch 4/10\n",
            "1563/1563 [==============================] - 5s 3ms/step - loss: 0.0941 - accuracy: 0.9711 - val_loss: 0.0848 - val_accuracy: 0.9741\n",
            "Epoch 5/10\n",
            "1563/1563 [==============================] - 5s 3ms/step - loss: 0.0814 - accuracy: 0.9746 - val_loss: 0.0779 - val_accuracy: 0.9765\n",
            "Epoch 6/10\n",
            "1563/1563 [==============================] - 6s 4ms/step - loss: 0.0693 - accuracy: 0.9779 - val_loss: 0.0747 - val_accuracy: 0.9761\n",
            "Epoch 7/10\n",
            "1563/1563 [==============================] - 5s 3ms/step - loss: 0.0602 - accuracy: 0.9806 - val_loss: 0.0721 - val_accuracy: 0.9768\n",
            "Epoch 8/10\n",
            "1563/1563 [==============================] - 7s 4ms/step - loss: 0.0523 - accuracy: 0.9831 - val_loss: 0.0673 - val_accuracy: 0.9805\n",
            "Epoch 9/10\n",
            "1563/1563 [==============================] - 5s 3ms/step - loss: 0.0486 - accuracy: 0.9848 - val_loss: 0.0703 - val_accuracy: 0.9790\n",
            "Epoch 10/10\n",
            "1563/1563 [==============================] - 5s 3ms/step - loss: 0.0451 - accuracy: 0.9847 - val_loss: 0.0698 - val_accuracy: 0.9803\n"
          ]
        },
        {
          "output_type": "display_data",
          "data": {
            "text/plain": [
              "<Figure size 640x480 with 1 Axes>"
            ],
            "image/png": "[encoded data removed]"
          },
          "metadata": {}
        },
        {
          "output_type": "stream",
          "name": "stdout",
          "text": [
            "313/313 [==============================] - 1s 2ms/step - loss: 0.0756 - accuracy: 0.9791\n"
          ]
        },
        {
          "output_type": "execute_result",
          "data": {
            "text/plain": [
              "[0.07563910633325577, 0.9790999889373779]"
            ]
          },
          "metadata": {},
          "execution_count": 62
        }
      ]
    },
    {
      "cell_type": "code",
      "source": [
        "model.evaluate(x_test, y_test_cat)"
      ],
      "metadata": {
        "colab": {
          "base_uri": "https://localhost:8080/"
        },
        "id": "BKcOTA40OBvK",
        "outputId": "b65ebcaa-04df-40d2-c237-398848afc590"
      },
      "execution_count": null,
      "outputs": [
        {
          "output_type": "stream",
          "name": "stdout",
          "text": [
            "313/313 [==============================] - 1s 3ms/step - loss: 0.0701 - accuracy: 0.9805\n"
          ]
        },
        {
          "output_type": "execute_result",
          "data": {
            "text/plain": [
              "[0.07012496143579483, 0.9804999828338623]"
            ]
          },
          "metadata": {},
          "execution_count": 48
        }
      ]
    },
    {
      "cell_type": "code",
      "source": [
        "pred = model.predict(x_test)\n",
        "pred = np.argmax(pred, axis=1)\n",
        "\n",
        "print(pred.shape)\n",
        "\n",
        "print(pred[:5])\n",
        "print(y_test[:5])\n",
        "\n",
        "mask = pred == y_test\n",
        "\n",
        "x_false = x_test[~mask]\n",
        "y_false = x_test[~mask]\n",
        "p_false = pred[~mask]\n",
        "\n",
        "for i in range(5):\n",
        "    print(\"Значение сети: \"+str(p_false[i]))\n",
        "    plt.imshow(x_false[i], cmap=plt.cm.binary)\n",
        "    plt.show()"
      ],
      "metadata": {
        "id": "WN2CG2UYOBzn",
        "colab": {
          "base_uri": "https://localhost:8080/",
          "height": 1000
        },
        "outputId": "0c68c25d-ee99-4dc2-c68c-192893fd9ec2"
      },
      "execution_count": null,
      "outputs": [
        {
          "output_type": "stream",
          "name": "stdout",
          "text": [
            "313/313 [==============================] - 1s 4ms/step\n",
            "(10000,)\n",
            "[7 2 1 0 4]\n",
            "[7 2 1 0 4]\n",
            "Значение сети: 8\n"
          ]
        },
        {
          "output_type": "display_data",
          "data": {
            "text/plain": [
              "<Figure size 640x480 with 1 Axes>"
            ],
            "image/png": "[encoded data removed]"
          },
          "metadata": {}
        },
        {
          "output_type": "stream",
          "name": "stdout",
          "text": [
            "Значение сети: 8\n"
          ]
        },
        {
          "output_type": "display_data",
          "data": {
            "text/plain": [
              "<Figure size 640x480 with 1 Axes>"
            ],
            "image/png": "[encoded data removed]"
          },
          "metadata": {}
        },
        {
          "output_type": "stream",
          "name": "stdout",
          "text": [
            "Значение сети: 2\n"
          ]
        },
        {
          "output_type": "display_data",
          "data": {
            "text/plain": [
              "<Figure size 640x480 with 1 Axes>"
            ],
            "image/png": "[encoded data removed]"
          },
          "metadata": {}
        },
        {
          "output_type": "stream",
          "name": "stdout",
          "text": [
            "Значение сети: 0\n"
          ]
        },
        {
          "output_type": "display_data",
          "data": {
            "text/plain": [
              "<Figure size 640x480 with 1 Axes>"
            ],
            "image/png": "[encoded data removed]"
          },
          "metadata": {}
        },
        {
          "output_type": "stream",
          "name": "stdout",
          "text": [
            "Значение сети: 7\n"
          ]
        },
        {
          "output_type": "display_data",
          "data": {
            "text/plain": [
              "<Figure size 640x480 with 1 Axes>"
            ],
            "image/png": "[encoded data removed]"
          },
          "metadata": {}
        }
      ]
    },
    {
      "cell_type": "code",
      "source": [
        "5his_20000 = model.fit(x_train_20000, y_train_20000, batch_size=32, epochs=5, validation_data=(x_valid, y_valid))\n",
        "model.evaluate(x_test, y_test_cat)"
      ],
      "metadata": {
        "colab": {
          "base_uri": "https://localhost:8080/"
        },
        "id": "27EbQx5kNO9S",
        "outputId": "cc4325a0-ed01-493e-eb95-4c02860e7fb8"
      },
      "execution_count": null,
      "outputs": [
        {
          "output_type": "stream",
          "name": "stdout",
          "text": [
            "Epoch 1/5\n",
            "625/625 [==============================] - 4s 7ms/step - loss: 0.0392 - accuracy: 0.9866 - val_loss: 0.0687 - val_accuracy: 0.9801\n",
            "Epoch 2/5\n",
            "625/625 [==============================] - 2s 3ms/step - loss: 0.0307 - accuracy: 0.9900 - val_loss: 0.0723 - val_accuracy: 0.9807\n",
            "Epoch 3/5\n",
            "625/625 [==============================] - 2s 4ms/step - loss: 0.0295 - accuracy: 0.9905 - val_loss: 0.0769 - val_accuracy: 0.9778\n",
            "Epoch 4/5\n",
            "625/625 [==============================] - 2s 4ms/step - loss: 0.0255 - accuracy: 0.9919 - val_loss: 0.0744 - val_accuracy: 0.9807\n",
            "Epoch 5/5\n",
            "625/625 [==============================] - 5s 9ms/step - loss: 0.0272 - accuracy: 0.9909 - val_loss: 0.0778 - val_accuracy: 0.9784\n",
            "313/313 [==============================] - 1s 2ms/step - loss: 0.0780 - accuracy: 0.9791\n"
          ]
        },
        {
          "output_type": "execute_result",
          "data": {
            "text/plain": [
              "[0.07795882225036621, 0.9790999889373779]"
            ]
          },
          "metadata": {},
          "execution_count": 9
        }
      ]
    },
    {
      "cell_type": "code",
      "source": [
        "model =  create_model()\n",
        "his = model.fit(x_train, y_train_cat, batch_size=32, epochs=10, validation_data=(x_valid, y_valid))\n",
        "\n",
        "\n",
        "plt.plot(his.history['loss'])\n",
        "plt.plot(his.history['val_loss'])\n",
        "plt.show()\n",
        "\n",
        "model.evaluate(x_test, y_test_cat)"
      ],
      "metadata": {
        "colab": {
          "base_uri": "https://localhost:8080/",
          "height": 812
        },
        "id": "YWQBuBG6dDpv",
        "outputId": "95311d3c-8eca-4847-8e4e-d42287f2632d"
      },
      "execution_count": null,
      "outputs": [
        {
          "output_type": "stream",
          "name": "stdout",
          "text": [
            "Epoch 1/10\n",
            "1563/1563 [==============================] - 7s 4ms/step - loss: 0.2476 - accuracy: 0.9258 - val_loss: 0.1290 - val_accuracy: 0.9597\n",
            "Epoch 2/10\n",
            "1563/1563 [==============================] - 5s 3ms/step - loss: 0.1365 - accuracy: 0.9592 - val_loss: 0.0979 - val_accuracy: 0.9704\n",
            "Epoch 3/10\n",
            "1563/1563 [==============================] - 6s 4ms/step - loss: 0.1093 - accuracy: 0.9671 - val_loss: 0.0875 - val_accuracy: 0.9731\n",
            "Epoch 4/10\n",
            "1563/1563 [==============================] - 5s 3ms/step - loss: 0.0927 - accuracy: 0.9716 - val_loss: 0.0824 - val_accuracy: 0.9755\n",
            "Epoch 5/10\n",
            "1563/1563 [==============================] - 6s 4ms/step - loss: 0.0798 - accuracy: 0.9751 - val_loss: 0.0790 - val_accuracy: 0.9748\n",
            "Epoch 6/10\n",
            "1563/1563 [==============================] - 5s 3ms/step - loss: 0.0701 - accuracy: 0.9779 - val_loss: 0.0746 - val_accuracy: 0.9776\n",
            "Epoch 7/10\n",
            "1563/1563 [==============================] - 6s 4ms/step - loss: 0.0633 - accuracy: 0.9795 - val_loss: 0.0734 - val_accuracy: 0.9781\n",
            "Epoch 8/10\n",
            "1563/1563 [==============================] - 6s 4ms/step - loss: 0.0588 - accuracy: 0.9814 - val_loss: 0.0751 - val_accuracy: 0.9770\n",
            "Epoch 9/10\n",
            "1563/1563 [==============================] - 7s 4ms/step - loss: 0.0524 - accuracy: 0.9825 - val_loss: 0.0729 - val_accuracy: 0.9795\n",
            "Epoch 10/10\n",
            "1563/1563 [==============================] - 9s 6ms/step - loss: 0.0470 - accuracy: 0.9849 - val_loss: 0.0771 - val_accuracy: 0.9772\n"
          ]
        },
        {
          "output_type": "display_data",
          "data": {
            "text/plain": [
              "<Figure size 640x480 with 1 Axes>"
            ],
            "image/png": "[encoded data removed]"
          },
          "metadata": {}
        },
        {
          "output_type": "stream",
          "name": "stdout",
          "text": [
            "313/313 [==============================] - 3s 8ms/step - loss: 0.0784 - accuracy: 0.9766\n"
          ]
        },
        {
          "output_type": "execute_result",
          "data": {
            "text/plain": [
              "[0.07837583869695663, 0.9765999913215637]"
            ]
          },
          "metadata": {},
          "execution_count": 95
        }
      ]
    },
    {
      "cell_type": "code",
      "source": [
        "model = KerasClassifier(model=create_model, verbose=1)"
      ],
      "metadata": {
        "id": "PWOHE48JpC1l"
      },
      "execution_count": null,
      "outputs": []
    },
    {
      "cell_type": "markdown",
      "source": [
        "### 4"
      ],
      "metadata": {
        "id": "3c7jp-c9y2nB"
      }
    },
    {
      "cell_type": "code",
      "source": [
        "param_grid = {\n",
        "\n",
        "    'optimizer': [Adam(learning_rate=0.01), Adam(learning_rate=0.1),Adam(learning_rate=0.15),\n",
        "                  RMSprop(learning_rate=0.01), RMSprop(learning_rate=0.1) ,RMSprop(learning_rate=0.15),\n",
        "                  SGD(learning_rate=0.01), SGD(learning_rate=0.1) ,SGD(learning_rate=0.15),\n",
        "                  ]\n",
        "}"
      ],
      "metadata": {
        "id": "WFtiT2EkpFxL"
      },
      "execution_count": null,
      "outputs": []
    },
    {
      "cell_type": "code",
      "source": [
        "def gridSearch(param_grid):\n",
        "  grid = GridSearchCV(estimator=model, param_grid=param_grid, n_jobs=-1, cv=3)\n",
        "  grid_result = grid.fit(x_train, y_train_cat, validation_data=(x_valid, y_valid))\n",
        "  print(\"Best: %f using %s\" % (grid_result.best_score_, grid_result.best_params_))\n",
        "\n",
        "  results = pd.DataFrame(grid_result.cv_results_)\n",
        "  return results"
      ],
      "metadata": {
        "id": "-6E1BxT3o1ZH"
      },
      "execution_count": null,
      "outputs": []
    },
    {
      "cell_type": "code",
      "source": [
        "gridSearch(param_grid= param_grid)"
      ],
      "metadata": {
        "colab": {
          "base_uri": "https://localhost:8080/",
          "height": 542
        },
        "id": "YPDjFZ_TpGbv",
        "outputId": "ac995a4e-de83-40e0-cb42-f2729be0c06c"
      },
      "execution_count": null,
      "outputs": [
        {
          "output_type": "stream",
          "name": "stdout",
          "text": [
            "1563/1563 [==============================] - 8s 5ms/step - loss: 0.2523 - accuracy: 0.9238 - val_loss: 0.1303 - val_accuracy: 0.9596\n",
            "Best: 0.953060 using {'optimizer': <keras.src.optimizers.legacy.rmsprop.RMSprop object at 0x7d3642a13eb0>}\n"
          ]
        },
        {
          "output_type": "execute_result",
          "data": {
            "text/plain": [
              "   mean_fit_time  std_fit_time  mean_score_time  std_score_time  \\\n",
              "0      10.089273      0.601086         2.127103        0.553893   \n",
              "1      10.070284      2.502161         3.157453        0.293532   \n",
              "2       8.224200      2.930030         3.817785        1.310904   \n",
              "3       9.731155      1.003545         2.562148        0.636731   \n",
              "4      10.721054      3.132642         3.806868        1.713339   \n",
              "5       9.766122      1.479254         2.979319        0.045075   \n",
              "6      11.504004      0.620576         2.426509        0.671364   \n",
              "7      10.510165      3.054700         3.534723        1.537276   \n",
              "8       9.309137      2.542958         3.300574        1.629869   \n",
              "\n",
              "                                     param_optimizer  \\\n",
              "0  <keras.src.optimizers.legacy.adam.Adam object ...   \n",
              "1  <keras.src.optimizers.legacy.adam.Adam object ...   \n",
              "2  <keras.src.optimizers.legacy.adam.Adam object ...   \n",
              "3  <keras.src.optimizers.legacy.rmsprop.RMSprop o...   \n",
              "4  <keras.src.optimizers.legacy.rmsprop.RMSprop o...   \n",
              "5  <keras.src.optimizers.legacy.rmsprop.RMSprop o...   \n",
              "6  <keras.src.optimizers.legacy.gradient_descent....   \n",
              "7  <keras.src.optimizers.legacy.gradient_descent....   \n",
              "8  <keras.src.optimizers.legacy.gradient_descent....   \n",
              "\n",
              "                                              params  split0_test_score  \\\n",
              "0  {'optimizer': <keras.src.optimizers.legacy.ada...           0.953681   \n",
              "1  {'optimizer': <keras.src.optimizers.legacy.ada...           0.952421   \n",
              "2  {'optimizer': <keras.src.optimizers.legacy.ada...           0.954221   \n",
              "3  {'optimizer': <keras.src.optimizers.legacy.rms...           0.949061   \n",
              "4  {'optimizer': <keras.src.optimizers.legacy.rms...           0.952781   \n",
              "5  {'optimizer': <keras.src.optimizers.legacy.rms...           0.953861   \n",
              "6  {'optimizer': <keras.src.optimizers.legacy.gra...           0.953741   \n",
              "7  {'optimizer': <keras.src.optimizers.legacy.gra...           0.953441   \n",
              "8  {'optimizer': <keras.src.optimizers.legacy.gra...           0.956861   \n",
              "\n",
              "   split1_test_score  split2_test_score  mean_test_score  std_test_score  \\\n",
              "0           0.949301           0.949958          0.95098        0.001929   \n",
              "1           0.948401           0.953558          0.95146        0.002212   \n",
              "2           0.950501           0.954038          0.95292        0.001712   \n",
              "3           0.950141           0.952058          0.95042        0.001239   \n",
              "4           0.947561           0.951878          0.95074        0.002278   \n",
              "5           0.952601           0.952718          0.95306        0.000568   \n",
              "6           0.950081           0.951578          0.95180        0.001502   \n",
              "7           0.949661           0.952058          0.95172        0.001562   \n",
              "8           0.949181           0.953018          0.95302        0.003135   \n",
              "\n",
              "   rank_test_score  \n",
              "0                7  \n",
              "1                6  \n",
              "2                3  \n",
              "3                9  \n",
              "4                8  \n",
              "5                1  \n",
              "6                4  \n",
              "7                5  \n",
              "8                2  "
            ],
            "text/html": [
              "\n",
              "  <div id=\"df-5afa7387-ec38-4f7b-bb3a-aab12fcfb050\" class=\"colab-df-container\">\n",
              "    <div>\n",
              "<style scoped>\n",
              "    .dataframe tbody tr th:only-of-type {\n",
              "        vertical-align: middle;\n",
              "    }\n",
              "\n",
              "    .dataframe tbody tr th {\n",
              "        vertical-align: top;\n",
              "    }\n",
              "\n",
              "    .dataframe thead th {\n",
              "        text-align: right;\n",
              "    }\n",
              "</style>\n",
              "<table border=\"1\" class=\"dataframe\">\n",
              "  <thead>\n",
              "    <tr style=\"text-align: right;\">\n",
              "      <th></th>\n",
              "      <th>mean_fit_time</th>\n",
              "      <th>std_fit_time</th>\n",
              "      <th>mean_score_time</th>\n",
              "      <th>std_score_time</th>\n",
              "      <th>param_optimizer</th>\n",
              "      <th>params</th>\n",
              "      <th>split0_test_score</th>\n",
              "      <th>split1_test_score</th>\n",
              "      <th>split2_test_score</th>\n",
              "      <th>mean_test_score</th>\n",
              "      <th>std_test_score</th>\n",
              "      <th>rank_test_score</th>\n",
              "    </tr>\n",
              "  </thead>\n",
              "  <tbody>\n",
              "    <tr>\n",
              "      <th>0</th>\n",
              "      <td>10.089273</td>\n",
              "      <td>0.601086</td>\n",
              "      <td>2.127103</td>\n",
              "      <td>0.553893</td>\n",
              "      <td>&lt;keras.src.optimizers.legacy.adam.Adam object ...</td>\n",
              "      <td>{'optimizer': &lt;keras.src.optimizers.legacy.ada...</td>\n",
              "      <td>0.953681</td>\n",
              "      <td>0.949301</td>\n",
              "      <td>0.949958</td>\n",
              "      <td>0.95098</td>\n",
              "      <td>0.001929</td>\n",
              "      <td>7</td>\n",
              "    </tr>\n",
              "    <tr>\n",
              "      <th>1</th>\n",
              "      <td>10.070284</td>\n",
              "      <td>2.502161</td>\n",
              "      <td>3.157453</td>\n",
              "      <td>0.293532</td>\n",
              "      <td>&lt;keras.src.optimizers.legacy.adam.Adam object ...</td>\n",
              "      <td>{'optimizer': &lt;keras.src.optimizers.legacy.ada...</td>\n",
              "      <td>0.952421</td>\n",
              "      <td>0.948401</td>\n",
              "      <td>0.953558</td>\n",
              "      <td>0.95146</td>\n",
              "      <td>0.002212</td>\n",
              "      <td>6</td>\n",
              "    </tr>\n",
              "    <tr>\n",
              "      <th>2</th>\n",
              "      <td>8.224200</td>\n",
              "      <td>2.930030</td>\n",
              "      <td>3.817785</td>\n",
              "      <td>1.310904</td>\n",
              "      <td>&lt;keras.src.optimizers.legacy.adam.Adam object ...</td>\n",
              "      <td>{'optimizer': &lt;keras.src.optimizers.legacy.ada...</td>\n",
              "      <td>0.954221</td>\n",
              "      <td>0.950501</td>\n",
              "      <td>0.954038</td>\n",
              "      <td>0.95292</td>\n",
              "      <td>0.001712</td>\n",
              "      <td>3</td>\n",
              "    </tr>\n",
              "    <tr>\n",
              "      <th>3</th>\n",
              "      <td>9.731155</td>\n",
              "      <td>1.003545</td>\n",
              "      <td>2.562148</td>\n",
              "      <td>0.636731</td>\n",
              "      <td>&lt;keras.src.optimizers.legacy.rmsprop.RMSprop o...</td>\n",
              "      <td>{'optimizer': &lt;keras.src.optimizers.legacy.rms...</td>\n",
              "      <td>0.949061</td>\n",
              "      <td>0.950141</td>\n",
              "      <td>0.952058</td>\n",
              "      <td>0.95042</td>\n",
              "      <td>0.001239</td>\n",
              "      <td>9</td>\n",
              "    </tr>\n",
              "    <tr>\n",
              "      <th>4</th>\n",
              "      <td>10.721054</td>\n",
              "      <td>3.132642</td>\n",
              "      <td>3.806868</td>\n",
              "      <td>1.713339</td>\n",
              "      <td>&lt;keras.src.optimizers.legacy.rmsprop.RMSprop o...</td>\n",
              "      <td>{'optimizer': &lt;keras.src.optimizers.legacy.rms...</td>\n",
              "      <td>0.952781</td>\n",
              "      <td>0.947561</td>\n",
              "      <td>0.951878</td>\n",
              "      <td>0.95074</td>\n",
              "      <td>0.002278</td>\n",
              "      <td>8</td>\n",
              "    </tr>\n",
              "    <tr>\n",
              "      <th>5</th>\n",
              "      <td>9.766122</td>\n",
              "      <td>1.479254</td>\n",
              "      <td>2.979319</td>\n",
              "      <td>0.045075</td>\n",
              "      <td>&lt;keras.src.optimizers.legacy.rmsprop.RMSprop o...</td>\n",
              "      <td>{'optimizer': &lt;keras.src.optimizers.legacy.rms...</td>\n",
              "      <td>0.953861</td>\n",
              "      <td>0.952601</td>\n",
              "      <td>0.952718</td>\n",
              "      <td>0.95306</td>\n",
              "      <td>0.000568</td>\n",
              "      <td>1</td>\n",
              "    </tr>\n",
              "    <tr>\n",
              "      <th>6</th>\n",
              "      <td>11.504004</td>\n",
              "      <td>0.620576</td>\n",
              "      <td>2.426509</td>\n",
              "      <td>0.671364</td>\n",
              "      <td>&lt;keras.src.optimizers.legacy.gradient_descent....</td>\n",
              "      <td>{'optimizer': &lt;keras.src.optimizers.legacy.gra...</td>\n",
              "      <td>0.953741</td>\n",
              "      <td>0.950081</td>\n",
              "      <td>0.951578</td>\n",
              "      <td>0.95180</td>\n",
              "      <td>0.001502</td>\n",
              "      <td>4</td>\n",
              "    </tr>\n",
              "    <tr>\n",
              "      <th>7</th>\n",
              "      <td>10.510165</td>\n",
              "      <td>3.054700</td>\n",
              "      <td>3.534723</td>\n",
              "      <td>1.537276</td>\n",
              "      <td>&lt;keras.src.optimizers.legacy.gradient_descent....</td>\n",
              "      <td>{'optimizer': &lt;keras.src.optimizers.legacy.gra...</td>\n",
              "      <td>0.953441</td>\n",
              "      <td>0.949661</td>\n",
              "      <td>0.952058</td>\n",
              "      <td>0.95172</td>\n",
              "      <td>0.001562</td>\n",
              "      <td>5</td>\n",
              "    </tr>\n",
              "    <tr>\n",
              "      <th>8</th>\n",
              "      <td>9.309137</td>\n",
              "      <td>2.542958</td>\n",
              "      <td>3.300574</td>\n",
              "      <td>1.629869</td>\n",
              "      <td>&lt;keras.src.optimizers.legacy.gradient_descent....</td>\n",
              "      <td>{'optimizer': &lt;keras.src.optimizers.legacy.gra...</td>\n",
              "      <td>0.956861</td>\n",
              "      <td>0.949181</td>\n",
              "      <td>0.953018</td>\n",
              "      <td>0.95302</td>\n",
              "      <td>0.003135</td>\n",
              "      <td>2</td>\n",
              "    </tr>\n",
              "  </tbody>\n",
              "</table>\n",
              "</div>\n",
              "    <div class=\"colab-df-buttons\">\n",
              "\n",
              "  <div class=\"colab-df-container\">\n",
              "    <button class=\"colab-df-convert\" onclick=\"convertToInteractive('df-5afa7387-ec38-4f7b-bb3a-aab12fcfb050')\"\n",
              "            title=\"Convert this dataframe to an interactive table.\"\n",
              "            style=\"display:none;\">\n",
              "\n",
              "  <svg xmlns=\"http://www.w3.org/2000/svg\" height=\"24px\" viewBox=\"0 -960 960 960\">\n",
              "    <path d=\"M120-120v-720h720v720H120Zm60-500h600v-160H180v160Zm220 220h160v-160H400v160Zm0 220h160v-160H400v160ZM180-400h160v-160H180v160Zm440 0h160v-160H620v160ZM180-180h160v-160H180v160Zm440 0h160v-160H620v160Z\"/>\n",
              "  </svg>\n",
              "    </button>\n",
              "\n",
              "  <style>\n",
              "    .colab-df-container {\n",
              "      display:flex;\n",
              "      gap: 12px;\n",
              "    }\n",
              "\n",
              "    .colab-df-convert {\n",
              "      background-color: #E8F0FE;\n",
              "      border: none;\n",
              "      border-radius: 50%;\n",
              "      cursor: pointer;\n",
              "      display: none;\n",
              "      fill: #1967D2;\n",
              "      height: 32px;\n",
              "      padding: 0 0 0 0;\n",
              "      width: 32px;\n",
              "    }\n",
              "\n",
              "    .colab-df-convert:hover {\n",
              "      background-color: #E2EBFA;\n",
              "      box-shadow: 0px 1px 2px rgba(60, 64, 67, 0.3), 0px 1px 3px 1px rgba(60, 64, 67, 0.15);\n",
              "      fill: #174EA6;\n",
              "    }\n",
              "\n",
              "    .colab-df-buttons div {\n",
              "      margin-bottom: 4px;\n",
              "    }\n",
              "\n",
              "    [theme=dark] .colab-df-convert {\n",
              "      background-color: #3B4455;\n",
              "      fill: #D2E3FC;\n",
              "    }\n",
              "\n",
              "    [theme=dark] .colab-df-convert:hover {\n",
              "      background-color: #434B5C;\n",
              "      box-shadow: 0px 1px 3px 1px rgba(0, 0, 0, 0.15);\n",
              "      filter: drop-shadow(0px 1px 2px rgba(0, 0, 0, 0.3));\n",
              "      fill: #FFFFFF;\n",
              "    }\n",
              "  </style>\n",
              "\n",
              "    <script>\n",
              "      const buttonEl =\n",
              "        document.querySelector('#df-5afa7387-ec38-4f7b-bb3a-aab12fcfb050 button.colab-df-convert');\n",
              "      buttonEl.style.display =\n",
              "        google.colab.kernel.accessAllowed ? 'block' : 'none';\n",
              "\n",
              "      async function convertToInteractive(key) {\n",
              "        const element = document.querySelector('#df-5afa7387-ec38-4f7b-bb3a-aab12fcfb050');\n",
              "        const dataTable =\n",
              "          await google.colab.kernel.invokeFunction('convertToInteractive',\n",
              "                                                    [key], {});\n",
              "        if (!dataTable) return;\n",
              "\n",
              "        const docLinkHtml = 'Like what you see? Visit the ' +\n",
              "          '<a target=\"_blank\" href=https://colab.research.google.com/notebooks/data_table.ipynb>data table notebook</a>'\n",
              "          + ' to learn more about interactive tables.';\n",
              "        element.innerHTML = '';\n",
              "        dataTable['output_type'] = 'display_data';\n",
              "        await google.colab.output.renderOutput(dataTable, element);\n",
              "        const docLink = document.createElement('div');\n",
              "        docLink.innerHTML = docLinkHtml;\n",
              "        element.appendChild(docLink);\n",
              "      }\n",
              "    </script>\n",
              "  </div>\n",
              "\n",
              "\n",
              "<div id=\"df-c7938a10-0ede-4d18-ab16-cbc08589e817\">\n",
              "  <button class=\"colab-df-quickchart\" onclick=\"quickchart('df-c7938a10-0ede-4d18-ab16-cbc08589e817')\"\n",
              "            title=\"Suggest charts\"\n",
              "            style=\"display:none;\">\n",
              "\n",
              "<svg xmlns=\"http://www.w3.org/2000/svg\" height=\"24px\"viewBox=\"0 0 24 24\"\n",
              "     width=\"24px\">\n",
              "    <g>\n",
              "        <path d=\"M19 3H5c-1.1 0-2 .9-2 2v14c0 1.1.9 2 2 2h14c1.1 0 2-.9 2-2V5c0-1.1-.9-2-2-2zM9 17H7v-7h2v7zm4 0h-2V7h2v10zm4 0h-2v-4h2v4z\"/>\n",
              "    </g>\n",
              "</svg>\n",
              "  </button>\n",
              "\n",
              "<style>\n",
              "  .colab-df-quickchart {\n",
              "      --bg-color: #E8F0FE;\n",
              "      --fill-color: #1967D2;\n",
              "      --hover-bg-color: #E2EBFA;\n",
              "      --hover-fill-color: #174EA6;\n",
              "      --disabled-fill-color: #AAA;\n",
              "      --disabled-bg-color: #DDD;\n",
              "  }\n",
              "\n",
              "  [theme=dark] .colab-df-quickchart {\n",
              "      --bg-color: #3B4455;\n",
              "      --fill-color: #D2E3FC;\n",
              "      --hover-bg-color: #434B5C;\n",
              "      --hover-fill-color: #FFFFFF;\n",
              "      --disabled-bg-color: #3B4455;\n",
              "      --disabled-fill-color: #666;\n",
              "  }\n",
              "\n",
              "  .colab-df-quickchart {\n",
              "    background-color: var(--bg-color);\n",
              "    border: none;\n",
              "    border-radius: 50%;\n",
              "    cursor: pointer;\n",
              "    display: none;\n",
              "    fill: var(--fill-color);\n",
              "    height: 32px;\n",
              "    padding: 0;\n",
              "    width: 32px;\n",
              "  }\n",
              "\n",
              "  .colab-df-quickchart:hover {\n",
              "    background-color: var(--hover-bg-color);\n",
              "    box-shadow: 0 1px 2px rgba(60, 64, 67, 0.3), 0 1px 3px 1px rgba(60, 64, 67, 0.15);\n",
              "    fill: var(--button-hover-fill-color);\n",
              "  }\n",
              "\n",
              "  .colab-df-quickchart-complete:disabled,\n",
              "  .colab-df-quickchart-complete:disabled:hover {\n",
              "    background-color: var(--disabled-bg-color);\n",
              "    fill: var(--disabled-fill-color);\n",
              "    box-shadow: none;\n",
              "  }\n",
              "\n",
              "  .colab-df-spinner {\n",
              "    border: 2px solid var(--fill-color);\n",
              "    border-color: transparent;\n",
              "    border-bottom-color: var(--fill-color);\n",
              "    animation:\n",
              "      spin 1s steps(1) infinite;\n",
              "  }\n",
              "\n",
              "  @keyframes spin {\n",
              "    0% {\n",
              "      border-color: transparent;\n",
              "      border-bottom-color: var(--fill-color);\n",
              "      border-left-color: var(--fill-color);\n",
              "    }\n",
              "    20% {\n",
              "      border-color: transparent;\n",
              "      border-left-color: var(--fill-color);\n",
              "      border-top-color: var(--fill-color);\n",
              "    }\n",
              "    30% {\n",
              "      border-color: transparent;\n",
              "      border-left-color: var(--fill-color);\n",
              "      border-top-color: var(--fill-color);\n",
              "      border-right-color: var(--fill-color);\n",
              "    }\n",
              "    40% {\n",
              "      border-color: transparent;\n",
              "      border-right-color: var(--fill-color);\n",
              "      border-top-color: var(--fill-color);\n",
              "    }\n",
              "    60% {\n",
              "      border-color: transparent;\n",
              "      border-right-color: var(--fill-color);\n",
              "    }\n",
              "    80% {\n",
              "      border-color: transparent;\n",
              "      border-right-color: var(--fill-color);\n",
              "      border-bottom-color: var(--fill-color);\n",
              "    }\n",
              "    90% {\n",
              "      border-color: transparent;\n",
              "      border-bottom-color: var(--fill-color);\n",
              "    }\n",
              "  }\n",
              "</style>\n",
              "\n",
              "  <script>\n",
              "    async function quickchart(key) {\n",
              "      const quickchartButtonEl =\n",
              "        document.querySelector('#' + key + ' button');\n",
              "      quickchartButtonEl.disabled = true;  // To prevent multiple clicks.\n",
              "      quickchartButtonEl.classList.add('colab-df-spinner');\n",
              "      try {\n",
              "        const charts = await google.colab.kernel.invokeFunction(\n",
              "            'suggestCharts', [key], {});\n",
              "      } catch (error) {\n",
              "        console.error('Error during call to suggestCharts:', error);\n",
              "      }\n",
              "      quickchartButtonEl.classList.remove('colab-df-spinner');\n",
              "      quickchartButtonEl.classList.add('colab-df-quickchart-complete');\n",
              "    }\n",
              "    (() => {\n",
              "      let quickchartButtonEl =\n",
              "        document.querySelector('#df-c7938a10-0ede-4d18-ab16-cbc08589e817 button');\n",
              "      quickchartButtonEl.style.display =\n",
              "        google.colab.kernel.accessAllowed ? 'block' : 'none';\n",
              "    })();\n",
              "  </script>\n",
              "</div>\n",
              "    </div>\n",
              "  </div>\n"
            ]
          },
          "metadata": {},
          "execution_count": 14
        }
      ]
    },
    {
      "cell_type": "markdown",
      "source": [
        "### 5"
      ],
      "metadata": {
        "id": "MVPnUPbsyw-Q"
      }
    },
    {
      "cell_type": "code",
      "source": [
        "for act in ['relu', 'softmax', 'linear','tanh']:\n",
        "  model =  create_model(activation=act)\n",
        "  his = model.fit(x_train, y_train_cat, batch_size=32, epochs=10, validation_data=(x_valid, y_valid))\n",
        "\n",
        "  print(act,' ',model.evaluate(x_test, y_test))"
      ],
      "metadata": {
        "colab": {
          "base_uri": "https://localhost:8080/"
        },
        "id": "zJe3dkZ_XGPW",
        "outputId": "dbd00294-a425-4a5e-e426-5aad9a426a70"
      },
      "execution_count": null,
      "outputs": [
        {
          "output_type": "stream",
          "name": "stdout",
          "text": [
            "Epoch 1/10\n",
            "1563/1563 [==============================] - 8s 5ms/step - loss: 0.2521 - accuracy: 0.9242 - val_loss: 0.1344 - val_accuracy: 0.9606\n",
            "Epoch 2/10\n",
            "1563/1563 [==============================] - 6s 4ms/step - loss: 0.1411 - accuracy: 0.9577 - val_loss: 0.1091 - val_accuracy: 0.9673\n",
            "Epoch 3/10\n",
            "1563/1563 [==============================] - 6s 4ms/step - loss: 0.1093 - accuracy: 0.9676 - val_loss: 0.0911 - val_accuracy: 0.9717\n",
            "Epoch 4/10\n",
            "1563/1563 [==============================] - 7s 5ms/step - loss: 0.0925 - accuracy: 0.9715 - val_loss: 0.0843 - val_accuracy: 0.9745\n",
            "Epoch 5/10\n",
            "1563/1563 [==============================] - 5s 3ms/step - loss: 0.0792 - accuracy: 0.9754 - val_loss: 0.0813 - val_accuracy: 0.9762\n",
            "Epoch 6/10\n",
            "1563/1563 [==============================] - 7s 4ms/step - loss: 0.0720 - accuracy: 0.9770 - val_loss: 0.0766 - val_accuracy: 0.9786\n",
            "Epoch 7/10\n",
            "1563/1563 [==============================] - 11s 7ms/step - loss: 0.0647 - accuracy: 0.9792 - val_loss: 0.0763 - val_accuracy: 0.9775\n",
            "Epoch 8/10\n",
            "1563/1563 [==============================] - 7s 4ms/step - loss: 0.0593 - accuracy: 0.9808 - val_loss: 0.0764 - val_accuracy: 0.9775\n",
            "Epoch 9/10\n",
            "1563/1563 [==============================] - 9s 6ms/step - loss: 0.0556 - accuracy: 0.9816 - val_loss: 0.0756 - val_accuracy: 0.9786\n",
            "Epoch 10/10\n",
            "1563/1563 [==============================] - 6s 4ms/step - loss: 0.0494 - accuracy: 0.9842 - val_loss: 0.0769 - val_accuracy: 0.9791\n",
            "313/313 [==============================] - 1s 4ms/step - loss: 0.0717 - accuracy: 0.9804\n",
            "relu   [0.07169553637504578, 0.980400025844574]\n",
            "Epoch 1/10\n",
            "1563/1563 [==============================] - 8s 5ms/step - loss: 1.0308 - accuracy: 0.7543 - val_loss: 0.5232 - val_accuracy: 0.9225\n",
            "Epoch 2/10\n",
            "1563/1563 [==============================] - 8s 5ms/step - loss: 0.7166 - accuracy: 0.7783 - val_loss: 0.3776 - val_accuracy: 0.9330\n",
            "Epoch 3/10\n",
            "1563/1563 [==============================] - 10s 6ms/step - loss: 0.6508 - accuracy: 0.7929 - val_loss: 0.3105 - val_accuracy: 0.9396\n",
            "Epoch 4/10\n",
            "1563/1563 [==============================] - 9s 6ms/step - loss: 0.5959 - accuracy: 0.8083 - val_loss: 0.2763 - val_accuracy: 0.9405\n",
            "Epoch 5/10\n",
            "1563/1563 [==============================] - 6s 4ms/step - loss: 0.5627 - accuracy: 0.8301 - val_loss: 0.2548 - val_accuracy: 0.9411\n",
            "Epoch 6/10\n",
            "1563/1563 [==============================] - 7s 4ms/step - loss: 0.5229 - accuracy: 0.8354 - val_loss: 0.2437 - val_accuracy: 0.9418\n",
            "Epoch 7/10\n",
            "1563/1563 [==============================] - 5s 3ms/step - loss: 0.5068 - accuracy: 0.8386 - val_loss: 0.2303 - val_accuracy: 0.9410\n",
            "Epoch 8/10\n",
            "1563/1563 [==============================] - 7s 4ms/step - loss: 0.4858 - accuracy: 0.8427 - val_loss: 0.2357 - val_accuracy: 0.9401\n",
            "Epoch 9/10\n",
            "1563/1563 [==============================] - 7s 5ms/step - loss: 0.4672 - accuracy: 0.8455 - val_loss: 0.2220 - val_accuracy: 0.9432\n",
            "Epoch 10/10\n",
            "1563/1563 [==============================] - 7s 4ms/step - loss: 0.4552 - accuracy: 0.8562 - val_loss: 0.2237 - val_accuracy: 0.9410\n",
            "313/313 [==============================] - 1s 2ms/step - loss: 0.2228 - accuracy: 0.9410\n",
            "softmax   [0.22284141182899475, 0.9409999847412109]\n",
            "Epoch 1/10\n",
            "1563/1563 [==============================] - 9s 6ms/step - loss: 0.3798 - accuracy: 0.8922 - val_loss: 0.2919 - val_accuracy: 0.9157\n",
            "Epoch 2/10\n",
            "1563/1563 [==============================] - 15s 10ms/step - loss: 0.3108 - accuracy: 0.9139 - val_loss: 0.2900 - val_accuracy: 0.9174\n",
            "Epoch 3/10\n",
            "1563/1563 [==============================] - 10s 7ms/step - loss: 0.3023 - accuracy: 0.9155 - val_loss: 0.2837 - val_accuracy: 0.9170\n",
            "Epoch 4/10\n",
            "1563/1563 [==============================] - 6s 4ms/step - loss: 0.2962 - accuracy: 0.9173 - val_loss: 0.2788 - val_accuracy: 0.9202\n",
            "Epoch 5/10\n",
            "1563/1563 [==============================] - 10s 6ms/step - loss: 0.2921 - accuracy: 0.9168 - val_loss: 0.2895 - val_accuracy: 0.9205\n",
            "Epoch 6/10\n",
            "1563/1563 [==============================] - 6s 4ms/step - loss: 0.2883 - accuracy: 0.9200 - val_loss: 0.2814 - val_accuracy: 0.9217\n",
            "Epoch 7/10\n",
            "1563/1563 [==============================] - 7s 4ms/step - loss: 0.2851 - accuracy: 0.9208 - val_loss: 0.2960 - val_accuracy: 0.9117\n",
            "Epoch 8/10\n",
            "1563/1563 [==============================] - 5s 4ms/step - loss: 0.2848 - accuracy: 0.9210 - val_loss: 0.2782 - val_accuracy: 0.9214\n",
            "Epoch 9/10\n",
            "1563/1563 [==============================] - 8s 5ms/step - loss: 0.2789 - accuracy: 0.9214 - val_loss: 0.2858 - val_accuracy: 0.9186\n",
            "Epoch 10/10\n",
            "1563/1563 [==============================] - 8s 5ms/step - loss: 0.2795 - accuracy: 0.9212 - val_loss: 0.2871 - val_accuracy: 0.9192\n",
            "313/313 [==============================] - 1s 2ms/step - loss: 0.2836 - accuracy: 0.9231\n",
            "linear   [0.28360798954963684, 0.9230999946594238]\n",
            "Epoch 1/10\n",
            "1563/1563 [==============================] - 7s 4ms/step - loss: 0.2755 - accuracy: 0.9165 - val_loss: 0.1643 - val_accuracy: 0.9513\n",
            "Epoch 2/10\n",
            "1563/1563 [==============================] - 6s 4ms/step - loss: 0.1662 - accuracy: 0.9502 - val_loss: 0.1308 - val_accuracy: 0.9592\n",
            "Epoch 3/10\n",
            "1563/1563 [==============================] - 6s 4ms/step - loss: 0.1322 - accuracy: 0.9600 - val_loss: 0.1141 - val_accuracy: 0.9647\n",
            "Epoch 4/10\n",
            "1563/1563 [==============================] - 6s 4ms/step - loss: 0.1147 - accuracy: 0.9652 - val_loss: 0.1036 - val_accuracy: 0.9680\n",
            "Epoch 5/10\n",
            "1563/1563 [==============================] - 6s 4ms/step - loss: 0.0995 - accuracy: 0.9691 - val_loss: 0.0998 - val_accuracy: 0.9703\n",
            "Epoch 6/10\n",
            "1563/1563 [==============================] - 7s 4ms/step - loss: 0.0904 - accuracy: 0.9712 - val_loss: 0.0955 - val_accuracy: 0.9699\n",
            "Epoch 7/10\n",
            "1563/1563 [==============================] - 5s 3ms/step - loss: 0.0821 - accuracy: 0.9736 - val_loss: 0.0928 - val_accuracy: 0.9732\n",
            "Epoch 8/10\n",
            "1563/1563 [==============================] - 7s 4ms/step - loss: 0.0756 - accuracy: 0.9756 - val_loss: 0.0863 - val_accuracy: 0.9736\n",
            "Epoch 9/10\n",
            "1563/1563 [==============================] - 5s 3ms/step - loss: 0.0685 - accuracy: 0.9781 - val_loss: 0.0890 - val_accuracy: 0.9726\n",
            "Epoch 10/10\n",
            "1563/1563 [==============================] - 7s 4ms/step - loss: 0.0644 - accuracy: 0.9786 - val_loss: 0.0841 - val_accuracy: 0.9739\n",
            "313/313 [==============================] - 1s 2ms/step - loss: 0.0828 - accuracy: 0.9745\n",
            "tanh   [0.08282968401908875, 0.9745000004768372]\n"
          ]
        }
      ]
    },
    {
      "cell_type": "markdown",
      "source": [
        "### 7"
      ],
      "metadata": {
        "id": "qbdTN7yxyt28"
      }
    },
    {
      "cell_type": "code",
      "source": [
        "model =  create_model(loss='mean_squared_error')\n",
        "his = model.fit(x_train, y_train_cat, batch_size=32, epochs=10, validation_data=(x_valid, y_valid))\n",
        "model.evaluate(x_test, y_test)"
      ],
      "metadata": {
        "colab": {
          "base_uri": "https://localhost:8080/"
        },
        "id": "fN1655YRvogA",
        "outputId": "8dd1af9f-1674-4ccd-d45c-f0bf1ea1f8f4"
      },
      "execution_count": null,
      "outputs": [
        {
          "output_type": "stream",
          "name": "stdout",
          "text": [
            "Epoch 1/10\n",
            "1563/1563 [==============================] - 10s 6ms/step - loss: 0.0122 - accuracy: 0.9194 - val_loss: 0.0069 - val_accuracy: 0.9539\n",
            "Epoch 2/10\n",
            "1563/1563 [==============================] - 6s 4ms/step - loss: 0.0070 - accuracy: 0.9558 - val_loss: 0.0054 - val_accuracy: 0.9644\n",
            "Epoch 3/10\n",
            "1563/1563 [==============================] - 10s 6ms/step - loss: 0.0057 - accuracy: 0.9642 - val_loss: 0.0048 - val_accuracy: 0.9674\n",
            "Epoch 4/10\n",
            "1563/1563 [==============================] - 9s 5ms/step - loss: 0.0050 - accuracy: 0.9681 - val_loss: 0.0045 - val_accuracy: 0.9706\n",
            "Epoch 5/10\n",
            "1563/1563 [==============================] - 6s 4ms/step - loss: 0.0044 - accuracy: 0.9720 - val_loss: 0.0041 - val_accuracy: 0.9741\n",
            "Epoch 6/10\n",
            "1563/1563 [==============================] - 6s 4ms/step - loss: 0.0040 - accuracy: 0.9746 - val_loss: 0.0042 - val_accuracy: 0.9707\n",
            "Epoch 7/10\n",
            "1563/1563 [==============================] - 7s 5ms/step - loss: 0.0037 - accuracy: 0.9771 - val_loss: 0.0041 - val_accuracy: 0.9736\n",
            "Epoch 8/10\n",
            "1563/1563 [==============================] - 5s 3ms/step - loss: 0.0035 - accuracy: 0.9780 - val_loss: 0.0038 - val_accuracy: 0.9757\n",
            "Epoch 9/10\n",
            "1563/1563 [==============================] - 7s 4ms/step - loss: 0.0033 - accuracy: 0.9797 - val_loss: 0.0035 - val_accuracy: 0.9774\n",
            "Epoch 10/10\n",
            "1563/1563 [==============================] - 6s 4ms/step - loss: 0.0030 - accuracy: 0.9806 - val_loss: 0.0035 - val_accuracy: 0.9775\n",
            "313/313 [==============================] - 1s 2ms/step - loss: 0.0037 - accuracy: 0.9767\n"
          ]
        },
        {
          "output_type": "execute_result",
          "data": {
            "text/plain": [
              "[0.0036654029972851276, 0.9767000079154968]"
            ]
          },
          "metadata": {},
          "execution_count": 26
        }
      ]
    },
    {
      "cell_type": "code",
      "source": [
        "model =  create_model(loss='binary_crossentropy')\n",
        "his = model.fit(x_train, y_train_cat, batch_size=32, epochs=10, validation_data=(x_valid, y_valid))\n",
        "model.evaluate(x_test, y_test)"
      ],
      "metadata": {
        "colab": {
          "base_uri": "https://localhost:8080/"
        },
        "id": "fNYXW1kFwPDN",
        "outputId": "c5b9f1fc-c516-48a6-a496-df652b5ad0bc"
      },
      "execution_count": null,
      "outputs": [
        {
          "output_type": "stream",
          "name": "stdout",
          "text": [
            "Epoch 1/10\n",
            "1563/1563 [==============================] - 9s 5ms/step - loss: 0.0581 - accuracy: 0.9108 - val_loss: 0.0340 - val_accuracy: 0.9491\n",
            "Epoch 2/10\n",
            "1563/1563 [==============================] - 6s 4ms/step - loss: 0.0354 - accuracy: 0.9484 - val_loss: 0.0265 - val_accuracy: 0.9616\n",
            "Epoch 3/10\n",
            "1563/1563 [==============================] - 7s 4ms/step - loss: 0.0299 - accuracy: 0.9577 - val_loss: 0.0241 - val_accuracy: 0.9656\n",
            "Epoch 4/10\n",
            "1563/1563 [==============================] - 5s 3ms/step - loss: 0.0261 - accuracy: 0.9633 - val_loss: 0.0219 - val_accuracy: 0.9693\n",
            "Epoch 5/10\n",
            "1563/1563 [==============================] - 6s 4ms/step - loss: 0.0235 - accuracy: 0.9685 - val_loss: 0.0211 - val_accuracy: 0.9700\n",
            "Epoch 6/10\n",
            "1563/1563 [==============================] - 7s 4ms/step - loss: 0.0216 - accuracy: 0.9713 - val_loss: 0.0196 - val_accuracy: 0.9715\n",
            "Epoch 7/10\n",
            "1563/1563 [==============================] - 5s 3ms/step - loss: 0.0204 - accuracy: 0.9732 - val_loss: 0.0199 - val_accuracy: 0.9722\n",
            "Epoch 8/10\n",
            "1563/1563 [==============================] - 7s 4ms/step - loss: 0.0191 - accuracy: 0.9755 - val_loss: 0.0190 - val_accuracy: 0.9728\n",
            "Epoch 9/10\n",
            "1563/1563 [==============================] - 5s 3ms/step - loss: 0.0181 - accuracy: 0.9771 - val_loss: 0.0185 - val_accuracy: 0.9749\n",
            "Epoch 10/10\n",
            "1563/1563 [==============================] - 7s 5ms/step - loss: 0.0175 - accuracy: 0.9778 - val_loss: 0.0190 - val_accuracy: 0.9745\n",
            "313/313 [==============================] - 1s 2ms/step - loss: 0.0185 - accuracy: 0.9746\n"
          ]
        },
        {
          "output_type": "execute_result",
          "data": {
            "text/plain": [
              "[0.01849662885069847, 0.9746000170707703]"
            ]
          },
          "metadata": {},
          "execution_count": 27
        }
      ]
    },
    {
      "cell_type": "markdown",
      "source": [
        "### 6"
      ],
      "metadata": {
        "id": "xaWQK-KrymUb"
      }
    },
    {
      "cell_type": "code",
      "source": [
        "model =  create_model(bias=False)\n",
        "his = model.fit(x_train, y_train_cat, batch_size=32, epochs=10, validation_data=(x_valid, y_valid))\n",
        "model.evaluate(x_test, y_test)"
      ],
      "metadata": {
        "colab": {
          "base_uri": "https://localhost:8080/"
        },
        "id": "z04S6iQ3xlVj",
        "outputId": "36ea5bcd-93ca-429d-ed12-5eccb7fa98ad"
      },
      "execution_count": null,
      "outputs": [
        {
          "output_type": "stream",
          "name": "stdout",
          "text": [
            "Epoch 1/10\n",
            "1563/1563 [==============================] - 8s 5ms/step - loss: 0.2493 - accuracy: 0.9259 - val_loss: 0.1318 - val_accuracy: 0.9590\n",
            "Epoch 2/10\n",
            "1563/1563 [==============================] - 6s 4ms/step - loss: 0.1346 - accuracy: 0.9609 - val_loss: 0.1005 - val_accuracy: 0.9694\n",
            "Epoch 3/10\n",
            "1563/1563 [==============================] - 6s 4ms/step - loss: 0.1066 - accuracy: 0.9682 - val_loss: 0.0863 - val_accuracy: 0.9735\n",
            "Epoch 4/10\n",
            "1563/1563 [==============================] - 5s 3ms/step - loss: 0.0884 - accuracy: 0.9724 - val_loss: 0.0823 - val_accuracy: 0.9761\n",
            "Epoch 5/10\n",
            "1563/1563 [==============================] - 5s 3ms/step - loss: 0.0768 - accuracy: 0.9750 - val_loss: 0.0793 - val_accuracy: 0.9753\n",
            "Epoch 6/10\n",
            "1563/1563 [==============================] - 6s 4ms/step - loss: 0.0641 - accuracy: 0.9795 - val_loss: 0.0750 - val_accuracy: 0.9770\n",
            "Epoch 7/10\n",
            "1563/1563 [==============================] - 6s 4ms/step - loss: 0.0620 - accuracy: 0.9797 - val_loss: 0.0697 - val_accuracy: 0.9782\n",
            "Epoch 8/10\n",
            "1563/1563 [==============================] - 6s 4ms/step - loss: 0.0547 - accuracy: 0.9817 - val_loss: 0.0700 - val_accuracy: 0.9793\n",
            "Epoch 9/10\n",
            "1563/1563 [==============================] - 5s 3ms/step - loss: 0.0515 - accuracy: 0.9832 - val_loss: 0.0727 - val_accuracy: 0.9802\n",
            "Epoch 10/10\n",
            "1563/1563 [==============================] - 5s 3ms/step - loss: 0.0453 - accuracy: 0.9849 - val_loss: 0.0709 - val_accuracy: 0.9787\n",
            "313/313 [==============================] - 1s 4ms/step - loss: 0.0721 - accuracy: 0.9795\n"
          ]
        },
        {
          "output_type": "execute_result",
          "data": {
            "text/plain": [
              "[0.07212118059396744, 0.9794999957084656]"
            ]
          },
          "metadata": {},
          "execution_count": 28
        }
      ]
    },
    {
      "cell_type": "code",
      "source": [
        "model =  create_model()\n",
        "his = model.fit(x_train, y_train_cat, batch_size=32, epochs=10, validation_data=(x_valid, y_valid))\n",
        "model.evaluate(x_test, y_test)"
      ],
      "metadata": {
        "colab": {
          "base_uri": "https://localhost:8080/"
        },
        "id": "jgpW6G-9ZE4j",
        "outputId": "4bc8ce1d-b2ef-4bb8-8064-70277645c10d"
      },
      "execution_count": null,
      "outputs": [
        {
          "output_type": "stream",
          "name": "stdout",
          "text": [
            "Epoch 1/10\n",
            "1563/1563 [==============================] - 6s 3ms/step - loss: 0.2540 - accuracy: 0.9225 - val_loss: 0.1283 - val_accuracy: 0.9610\n",
            "Epoch 2/10\n",
            "1563/1563 [==============================] - 5s 3ms/step - loss: 0.1393 - accuracy: 0.9579 - val_loss: 0.1061 - val_accuracy: 0.9670\n",
            "Epoch 3/10\n",
            "1563/1563 [==============================] - 7s 4ms/step - loss: 0.1113 - accuracy: 0.9668 - val_loss: 0.0901 - val_accuracy: 0.9719\n",
            "Epoch 4/10\n",
            "1563/1563 [==============================] - 5s 3ms/step - loss: 0.0939 - accuracy: 0.9713 - val_loss: 0.0824 - val_accuracy: 0.9754\n",
            "Epoch 5/10\n",
            "1563/1563 [==============================] - 7s 4ms/step - loss: 0.0827 - accuracy: 0.9741 - val_loss: 0.0795 - val_accuracy: 0.9767\n",
            "Epoch 6/10\n",
            "1563/1563 [==============================] - 5s 3ms/step - loss: 0.0720 - accuracy: 0.9768 - val_loss: 0.0777 - val_accuracy: 0.9765\n",
            "Epoch 7/10\n",
            "1563/1563 [==============================] - 6s 4ms/step - loss: 0.0659 - accuracy: 0.9794 - val_loss: 0.0744 - val_accuracy: 0.9773\n",
            "Epoch 8/10\n",
            "1563/1563 [==============================] - 6s 4ms/step - loss: 0.0598 - accuracy: 0.9809 - val_loss: 0.0705 - val_accuracy: 0.9784\n",
            "Epoch 9/10\n",
            "1563/1563 [==============================] - 7s 4ms/step - loss: 0.0546 - accuracy: 0.9831 - val_loss: 0.0713 - val_accuracy: 0.9781\n",
            "Epoch 10/10\n",
            "1563/1563 [==============================] - 6s 4ms/step - loss: 0.0501 - accuracy: 0.9833 - val_loss: 0.0744 - val_accuracy: 0.9790\n",
            "313/313 [==============================] - 1s 2ms/step - loss: 0.0704 - accuracy: 0.9793\n"
          ]
        },
        {
          "output_type": "execute_result",
          "data": {
            "text/plain": [
              "[0.07040101289749146, 0.9793000221252441]"
            ]
          },
          "metadata": {},
          "execution_count": 29
        }
      ]
    },
    {
      "cell_type": "markdown",
      "source": [
        "### 8"
      ],
      "metadata": {
        "id": "moFFi-2Q3twS"
      }
    },
    {
      "cell_type": "code",
      "source": [
        "batch_sizes = [16, 32, 64, 128, 256]\n",
        "score = []\n",
        "for batch_size in batch_sizes:\n",
        "    model = create_model()\n",
        "    model.fit(x_train, y_train_cat, batch_size=batch_size, epochs=10, validation_data=(x_valid, y_valid))\n",
        "    score.append({batch_size: model.evaluate(x_test, y_test, verbose=0)})"
      ],
      "metadata": {
        "colab": {
          "base_uri": "https://localhost:8080/"
        },
        "id": "IAaij7V_2Gat",
        "outputId": "ec6eb1f2-ec34-4a91-b473-be464277545b"
      },
      "execution_count": null,
      "outputs": [
        {
          "output_type": "stream",
          "name": "stdout",
          "text": [
            "Epoch 1/10\n",
            "3125/3125 [==============================] - 13s 4ms/step - loss: 0.2429 - accuracy: 0.9279 - val_loss: 0.1343 - val_accuracy: 0.9591\n",
            "Epoch 2/10\n",
            "3125/3125 [==============================] - 9s 3ms/step - loss: 0.1363 - accuracy: 0.9589 - val_loss: 0.1172 - val_accuracy: 0.9643\n",
            "Epoch 3/10\n",
            "3125/3125 [==============================] - 10s 3ms/step - loss: 0.1082 - accuracy: 0.9666 - val_loss: 0.0908 - val_accuracy: 0.9705\n",
            "Epoch 4/10\n",
            "3125/3125 [==============================] - 11s 4ms/step - loss: 0.0892 - accuracy: 0.9717 - val_loss: 0.0830 - val_accuracy: 0.9737\n",
            "Epoch 5/10\n",
            "3125/3125 [==============================] - 10s 3ms/step - loss: 0.0777 - accuracy: 0.9753 - val_loss: 0.0805 - val_accuracy: 0.9766\n",
            "Epoch 6/10\n",
            "3125/3125 [==============================] - 9s 3ms/step - loss: 0.0683 - accuracy: 0.9786 - val_loss: 0.0766 - val_accuracy: 0.9767\n",
            "Epoch 7/10\n",
            "3125/3125 [==============================] - 11s 3ms/step - loss: 0.0604 - accuracy: 0.9806 - val_loss: 0.0802 - val_accuracy: 0.9761\n",
            "Epoch 8/10\n",
            "3125/3125 [==============================] - 11s 3ms/step - loss: 0.0583 - accuracy: 0.9807 - val_loss: 0.0825 - val_accuracy: 0.9754\n",
            "Epoch 9/10\n",
            "3125/3125 [==============================] - 10s 3ms/step - loss: 0.0525 - accuracy: 0.9828 - val_loss: 0.0836 - val_accuracy: 0.9774\n",
            "Epoch 10/10\n",
            "3125/3125 [==============================] - 9s 3ms/step - loss: 0.0485 - accuracy: 0.9838 - val_loss: 0.0830 - val_accuracy: 0.9778\n",
            "Epoch 1/10\n",
            "1563/1563 [==============================] - 7s 4ms/step - loss: 0.2452 - accuracy: 0.9265 - val_loss: 0.1281 - val_accuracy: 0.9630\n",
            "Epoch 2/10\n",
            "1563/1563 [==============================] - 5s 3ms/step - loss: 0.1320 - accuracy: 0.9607 - val_loss: 0.0979 - val_accuracy: 0.9704\n",
            "Epoch 3/10\n",
            "1563/1563 [==============================] - 7s 5ms/step - loss: 0.1014 - accuracy: 0.9696 - val_loss: 0.0906 - val_accuracy: 0.9740\n",
            "Epoch 4/10\n",
            "1563/1563 [==============================] - 5s 3ms/step - loss: 0.0878 - accuracy: 0.9722 - val_loss: 0.0838 - val_accuracy: 0.9744\n",
            "Epoch 5/10\n",
            "1563/1563 [==============================] - 7s 5ms/step - loss: 0.0763 - accuracy: 0.9760 - val_loss: 0.0755 - val_accuracy: 0.9775\n",
            "Epoch 6/10\n",
            "1563/1563 [==============================] - 8s 5ms/step - loss: 0.0675 - accuracy: 0.9787 - val_loss: 0.0763 - val_accuracy: 0.9765\n",
            "Epoch 7/10\n",
            "1563/1563 [==============================] - 5s 3ms/step - loss: 0.0611 - accuracy: 0.9802 - val_loss: 0.0765 - val_accuracy: 0.9766\n",
            "Epoch 8/10\n",
            "1563/1563 [==============================] - 7s 5ms/step - loss: 0.0555 - accuracy: 0.9821 - val_loss: 0.0710 - val_accuracy: 0.9803\n",
            "Epoch 9/10\n",
            "1563/1563 [==============================] - 5s 3ms/step - loss: 0.0517 - accuracy: 0.9841 - val_loss: 0.0732 - val_accuracy: 0.9792\n",
            "Epoch 10/10\n",
            "1563/1563 [==============================] - 6s 4ms/step - loss: 0.0449 - accuracy: 0.9852 - val_loss: 0.0767 - val_accuracy: 0.9779\n",
            "Epoch 1/10\n",
            "782/782 [==============================] - 5s 6ms/step - loss: 0.2661 - accuracy: 0.9205 - val_loss: 0.1372 - val_accuracy: 0.9599\n",
            "Epoch 2/10\n",
            "782/782 [==============================] - 4s 5ms/step - loss: 0.1454 - accuracy: 0.9576 - val_loss: 0.1131 - val_accuracy: 0.9654\n",
            "Epoch 3/10\n",
            "782/782 [==============================] - 3s 4ms/step - loss: 0.1152 - accuracy: 0.9648 - val_loss: 0.0988 - val_accuracy: 0.9697\n",
            "Epoch 4/10\n",
            "782/782 [==============================] - 3s 4ms/step - loss: 0.0996 - accuracy: 0.9703 - val_loss: 0.0899 - val_accuracy: 0.9736\n",
            "Epoch 5/10\n",
            "782/782 [==============================] - 4s 5ms/step - loss: 0.0857 - accuracy: 0.9739 - val_loss: 0.0835 - val_accuracy: 0.9747\n",
            "Epoch 6/10\n",
            "782/782 [==============================] - 4s 5ms/step - loss: 0.0751 - accuracy: 0.9771 - val_loss: 0.0801 - val_accuracy: 0.9753\n",
            "Epoch 7/10\n",
            "782/782 [==============================] - 3s 3ms/step - loss: 0.0686 - accuracy: 0.9784 - val_loss: 0.0756 - val_accuracy: 0.9776\n",
            "Epoch 8/10\n",
            "782/782 [==============================] - 3s 4ms/step - loss: 0.0619 - accuracy: 0.9806 - val_loss: 0.0794 - val_accuracy: 0.9775\n",
            "Epoch 9/10\n",
            "782/782 [==============================] - 4s 5ms/step - loss: 0.0557 - accuracy: 0.9816 - val_loss: 0.0714 - val_accuracy: 0.9799\n",
            "Epoch 10/10\n",
            "782/782 [==============================] - 4s 5ms/step - loss: 0.0530 - accuracy: 0.9827 - val_loss: 0.0761 - val_accuracy: 0.9791\n",
            "Epoch 1/10\n",
            "391/391 [==============================] - 4s 9ms/step - loss: 0.2783 - accuracy: 0.9165 - val_loss: 0.1445 - val_accuracy: 0.9583\n",
            "Epoch 2/10\n",
            "391/391 [==============================] - 3s 7ms/step - loss: 0.1484 - accuracy: 0.9567 - val_loss: 0.1148 - val_accuracy: 0.9655\n",
            "Epoch 3/10\n",
            "391/391 [==============================] - 2s 6ms/step - loss: 0.1185 - accuracy: 0.9648 - val_loss: 0.1009 - val_accuracy: 0.9685\n",
            "Epoch 4/10\n",
            "391/391 [==============================] - 2s 5ms/step - loss: 0.1002 - accuracy: 0.9706 - val_loss: 0.0891 - val_accuracy: 0.9729\n",
            "Epoch 5/10\n",
            "391/391 [==============================] - 2s 5ms/step - loss: 0.0893 - accuracy: 0.9730 - val_loss: 0.0830 - val_accuracy: 0.9748\n",
            "Epoch 6/10\n",
            "391/391 [==============================] - 2s 5ms/step - loss: 0.0774 - accuracy: 0.9767 - val_loss: 0.0806 - val_accuracy: 0.9754\n",
            "Epoch 7/10\n",
            "391/391 [==============================] - 3s 8ms/step - loss: 0.0700 - accuracy: 0.9781 - val_loss: 0.0798 - val_accuracy: 0.9749\n",
            "Epoch 8/10\n",
            "391/391 [==============================] - 3s 7ms/step - loss: 0.0633 - accuracy: 0.9809 - val_loss: 0.0736 - val_accuracy: 0.9766\n",
            "Epoch 9/10\n",
            "391/391 [==============================] - 2s 4ms/step - loss: 0.0579 - accuracy: 0.9820 - val_loss: 0.0754 - val_accuracy: 0.9761\n",
            "Epoch 10/10\n",
            "391/391 [==============================] - 2s 5ms/step - loss: 0.0542 - accuracy: 0.9829 - val_loss: 0.0699 - val_accuracy: 0.9777\n",
            "Epoch 1/10\n",
            "196/196 [==============================] - 3s 13ms/step - loss: 0.3379 - accuracy: 0.8979 - val_loss: 0.1651 - val_accuracy: 0.9521\n",
            "Epoch 2/10\n",
            "196/196 [==============================] - 1s 7ms/step - loss: 0.1682 - accuracy: 0.9517 - val_loss: 0.1287 - val_accuracy: 0.9611\n",
            "Epoch 3/10\n",
            "196/196 [==============================] - 1s 7ms/step - loss: 0.1344 - accuracy: 0.9614 - val_loss: 0.1110 - val_accuracy: 0.9672\n",
            "Epoch 4/10\n",
            "196/196 [==============================] - 1s 8ms/step - loss: 0.1151 - accuracy: 0.9659 - val_loss: 0.1004 - val_accuracy: 0.9679\n",
            "Epoch 5/10\n",
            "196/196 [==============================] - 3s 17ms/step - loss: 0.0996 - accuracy: 0.9699 - val_loss: 0.0951 - val_accuracy: 0.9715\n",
            "Epoch 6/10\n",
            "196/196 [==============================] - 3s 17ms/step - loss: 0.0915 - accuracy: 0.9731 - val_loss: 0.0886 - val_accuracy: 0.9741\n",
            "Epoch 7/10\n",
            "196/196 [==============================] - 3s 14ms/step - loss: 0.0824 - accuracy: 0.9747 - val_loss: 0.0826 - val_accuracy: 0.9743\n",
            "Epoch 8/10\n",
            "196/196 [==============================] - 2s 10ms/step - loss: 0.0755 - accuracy: 0.9774 - val_loss: 0.0801 - val_accuracy: 0.9756\n",
            "Epoch 9/10\n",
            "196/196 [==============================] - 1s 6ms/step - loss: 0.0687 - accuracy: 0.9798 - val_loss: 0.0761 - val_accuracy: 0.9775\n",
            "Epoch 10/10\n",
            "196/196 [==============================] - 1s 7ms/step - loss: 0.0645 - accuracy: 0.9809 - val_loss: 0.0773 - val_accuracy: 0.9769\n"
          ]
        }
      ]
    },
    {
      "cell_type": "code",
      "source": [
        "score"
      ],
      "metadata": {
        "colab": {
          "base_uri": "https://localhost:8080/"
        },
        "id": "hnuehgMz2OwB",
        "outputId": "e7612976-ad21-420f-a406-4e863509c569"
      },
      "execution_count": null,
      "outputs": [
        {
          "output_type": "execute_result",
          "data": {
            "text/plain": [
              "[[0.08473537862300873, 0.9771000146865845],\n",
              " [0.0789092630147934, 0.9786999821662903],\n",
              " [0.07210922241210938, 0.979200005531311],\n",
              " [0.07181189209222794, 0.9775000214576721],\n",
              " [0.07194362580776215, 0.9769999980926514]]"
            ]
          },
          "metadata": {},
          "execution_count": 31
        }
      ]
    },
    {
      "cell_type": "code",
      "source": [
        "from PIL import Image\n",
        "from keras.models import load_model\n",
        "\n",
        "image_path = '1.png'\n",
        "image = Image.open(image_path).convert('L')\n",
        "image = image.resize((28, 28))\n",
        "image = np.array(image) / 255.0\n",
        "image = np.reshape(image, (1, 28, 28))\n",
        "\n",
        "print(np.argmax(model.predict(image)))\n",
        "\n",
        "plt.imshow(image[0], cmap='gray')\n",
        "plt.axis('off')\n",
        "plt.show()"
      ],
      "metadata": {
        "id": "CE67Eoho1He5",
        "colab": {
          "base_uri": "https://localhost:8080/",
          "height": 441
        },
        "outputId": "4ba9ef2d-9f75-4d59-87eb-50c80fbd2551"
      },
      "execution_count": null,
      "outputs": [
        {
          "output_type": "stream",
          "name": "stdout",
          "text": [
            "1/1 [==============================] - 0s 82ms/step\n",
            "5\n"
          ]
        },
        {
          "output_type": "display_data",
          "data": {
            "text/plain": [
              "<Figure size 640x480 with 1 Axes>"
            ],
            "image/png": "[encoded data removed]"
          },
          "metadata": {}
        }
      ]
    },
    {
      "cell_type": "code",
      "source": [],
      "metadata": {
        "id": "moHlpJ5Giw8E"
      },
      "execution_count": null,
      "outputs": []
    }
  ]
}